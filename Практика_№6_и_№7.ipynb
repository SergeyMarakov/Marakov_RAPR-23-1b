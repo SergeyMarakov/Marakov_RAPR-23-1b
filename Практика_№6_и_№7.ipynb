{
  "nbformat": 4,
  "nbformat_minor": 0,
  "metadata": {
    "colab": {
      "provenance": []
    },
    "kernelspec": {
      "name": "python3",
      "display_name": "Python 3"
    },
    "language_info": {
      "name": "python"
    }
  },
  "cells": [
    {
      "cell_type": "code",
      "source": [
        "import pandas as pd\n",
        "import numpy as np"
      ],
      "metadata": {
        "id": "F4MOnYTiC4i9"
      },
      "execution_count": null,
      "outputs": []
    },
    {
      "cell_type": "markdown",
      "source": [
        "## Упражнение № 1\n",
        "\n",
        "Создайте Series из каждого из элементов: списка, ndarray и словаря.\n",
        "\n"
      ],
      "metadata": {
        "id": "zqriVm0c5Lzm"
      }
    },
    {
      "cell_type": "code",
      "source": [
        "mylist = list('abcedfghijklmnopqrstuvwxyz')\n",
        "myarr = np.arange(26)\n",
        "mydict = dict(zip(mylist, myarr))\n",
        "\n",
        "series_from_list = pd.Series(mylist)\n",
        "series_from_array = pd.Series(myarr)\n",
        "series_from_dict = pd.Series(mydict)"
      ],
      "metadata": {
        "id": "zb2QSV3L5ZBC"
      },
      "execution_count": null,
      "outputs": []
    },
    {
      "cell_type": "markdown",
      "source": [
        "\n",
        "## Упражнение № 2\n",
        "\n",
        "Преобразуйте `ser` в датафрейм с его индексом в качестве еще одного столбца датафрейма.\n"
      ],
      "metadata": {
        "id": "nbCYuyv2DBiy"
      }
    },
    {
      "cell_type": "code",
      "source": [
        "ser = pd.Series(mydict)\n",
        "ser_df = pd.DataFrame(ser,ser.index)\n",
        "print(ser_df.head())"
      ],
      "metadata": {
        "colab": {
          "base_uri": "https://localhost:8080/"
        },
        "id": "qtRhmlpNDIUS",
        "outputId": "6362b34c-f365-4420-85d5-166e3a5926f2"
      },
      "execution_count": null,
      "outputs": [
        {
          "output_type": "stream",
          "name": "stdout",
          "text": [
            "   0\n",
            "a  0\n",
            "b  1\n",
            "c  2\n",
            "e  3\n",
            "d  4\n"
          ]
        }
      ]
    },
    {
      "cell_type": "markdown",
      "source": [
        "## Упражнение № 3\n",
        "\n",
        "Объедините `ser1` и `ser2`, чтобы сформировать датафрейм.\n"
      ],
      "metadata": {
        "id": "0s_EkWi3FIUI"
      }
    },
    {
      "cell_type": "code",
      "source": [
        "import numpy as np\n",
        "mylist = list('abcedfghijklmnopqrstuvwxyz')\n",
        "myarr = np.arange(26)\n",
        "mydict = dict(zip(mylist, myarr))\n",
        "\n",
        "ser1 = pd.Series(mylist)\n",
        "ser2 = pd.Series(myarr)\n",
        "\n",
        "df = pd.DataFrame({'ser1': ser1, 'ser2': ser2})\n",
        "\n",
        "print(df)"
      ],
      "metadata": {
        "colab": {
          "base_uri": "https://localhost:8080/"
        },
        "id": "2JwdAwiOFJC3",
        "outputId": "f2c50a72-92c4-484e-f744-ca48d56a4854"
      },
      "execution_count": null,
      "outputs": [
        {
          "output_type": "stream",
          "name": "stdout",
          "text": [
            "   ser1  ser2\n",
            "0     a     0\n",
            "1     b     1\n",
            "2     c     2\n",
            "3     e     3\n",
            "4     d     4\n",
            "5     f     5\n",
            "6     g     6\n",
            "7     h     7\n",
            "8     i     8\n",
            "9     j     9\n",
            "10    k    10\n",
            "11    l    11\n",
            "12    m    12\n",
            "13    n    13\n",
            "14    o    14\n",
            "15    p    15\n",
            "16    q    16\n",
            "17    r    17\n",
            "18    s    18\n",
            "19    t    19\n",
            "20    u    20\n",
            "21    v    21\n",
            "22    w    22\n",
            "23    x    23\n",
            "24    y    24\n",
            "25    z    25\n"
          ]
        }
      ]
    },
    {
      "cell_type": "markdown",
      "source": [],
      "metadata": {
        "id": "S0D0asr05bwX"
      }
    },
    {
      "cell_type": "markdown",
      "source": [
        "## Упражнение № 4\n",
        "\n",
        "Добавьте имя ряда  `ser`, назвав его `latin_letters`.\n"
      ],
      "metadata": {
        "id": "BgwPzqTlWOns"
      }
    },
    {
      "cell_type": "code",
      "source": [
        "ser = pd.Series(list('abcedfghijklmnopqrstuvwxyz'))\n",
        "\n",
        "ser.name = 'latin_letters'\n",
        "\n",
        "print(ser)"
      ],
      "metadata": {
        "colab": {
          "base_uri": "https://localhost:8080/"
        },
        "id": "P_TElr1SWP23",
        "outputId": "a072c0c1-e600-4311-a500-fcd8ec452682"
      },
      "execution_count": null,
      "outputs": [
        {
          "output_type": "stream",
          "name": "stdout",
          "text": [
            "0     a\n",
            "1     b\n",
            "2     c\n",
            "3     e\n",
            "4     d\n",
            "5     f\n",
            "6     g\n",
            "7     h\n",
            "8     i\n",
            "9     j\n",
            "10    k\n",
            "11    l\n",
            "12    m\n",
            "13    n\n",
            "14    o\n",
            "15    p\n",
            "16    q\n",
            "17    r\n",
            "18    s\n",
            "19    t\n",
            "20    u\n",
            "21    v\n",
            "22    w\n",
            "23    x\n",
            "24    y\n",
            "25    z\n",
            "Name: latin_letters, dtype: object\n"
          ]
        }
      ]
    },
    {
      "cell_type": "markdown",
      "source": [
        "## Упражнение № 5\n",
        "\n",
        "Из `ser1` удалите элементы, присутствующие в `ser2`."
      ],
      "metadata": {
        "id": "bfh77hS_WjHB"
      }
    },
    {
      "cell_type": "code",
      "source": [
        "ser1 = pd.Series([1, 2, 3, 4, 5])\n",
        "ser2 = pd.Series([4, 5, 6, 7, 8])\n",
        "\n",
        "result = ser1[~ser1.isin(ser2)]\n",
        "\n",
        "print(result)"
      ],
      "metadata": {
        "colab": {
          "base_uri": "https://localhost:8080/"
        },
        "id": "6lS-_NmnWki_",
        "outputId": "81b9ad09-7a3a-4cc8-b0e0-f7293145c12a"
      },
      "execution_count": null,
      "outputs": [
        {
          "output_type": "stream",
          "name": "stdout",
          "text": [
            "0    1\n",
            "1    2\n",
            "2    3\n",
            "dtype: int64\n"
          ]
        }
      ]
    },
    {
      "cell_type": "markdown",
      "source": [
        "## Упражнение № 6\n",
        "\n",
        "Получить все элементы `ser1` и `ser2`, которые не являются общими для обоих рядов.\n"
      ],
      "metadata": {
        "id": "WSny0tj_WqoY"
      }
    },
    {
      "cell_type": "code",
      "source": [
        "ser1 = pd.Series([1, 2, 3, 4, 5])\n",
        "ser2 = pd.Series([4, 5, 6, 7, 8])\n",
        "\n",
        "unique_to_ser1 = ser1[~ser1.isin(ser2)]\n",
        "unique_to_ser2 = ser2[~ser2.isin(ser1)]\n",
        "result = pd.concat([unique_to_ser1, unique_to_ser2])\n",
        "\n",
        "print(result)"
      ],
      "metadata": {
        "colab": {
          "base_uri": "https://localhost:8080/"
        },
        "id": "l93v3ww8WuA2",
        "outputId": "628a6f08-216c-4735-88fa-56e838bca704"
      },
      "execution_count": null,
      "outputs": [
        {
          "output_type": "stream",
          "name": "stdout",
          "text": [
            "0    1\n",
            "1    2\n",
            "2    3\n",
            "2    6\n",
            "3    7\n",
            "4    8\n",
            "dtype: int64\n"
          ]
        }
      ]
    },
    {
      "cell_type": "markdown",
      "source": [
        "## Упражнение № 7\n",
        "\n",
        "Вычислите минимальное значение, 25-й процентиль, медиану, 75-й процентиль и максимальное значение `ser`.\n"
      ],
      "metadata": {
        "id": "KzZurL_5WzYA"
      }
    },
    {
      "cell_type": "code",
      "source": [
        "ser = pd.Series(np.random.normal(10, 5, 25))\n",
        "\n",
        "stats = ser.describe(percentiles=[0.25, 0.75])\n",
        "\n",
        "min_value = stats['min']\n",
        "percentile_25 = stats['25%']\n",
        "median = stats['50%']\n",
        "percentile_75 = stats['75%']\n",
        "max_value = stats['max']\n",
        "\n",
        "print(f\"Min: {min_value}, 25th percentile: {percentile_25}, Median: {median}, 75th percentile: {percentile_75}, Max: {max_value}\")"
      ],
      "metadata": {
        "colab": {
          "base_uri": "https://localhost:8080/"
        },
        "id": "5Z4WL-TCW71_",
        "outputId": "dcb011d8-1bf9-4c7b-a353-3308bf25d89e"
      },
      "execution_count": null,
      "outputs": [
        {
          "output_type": "stream",
          "name": "stdout",
          "text": [
            "Min: 1.9430917028839794, 25th percentile: 7.634152982090915, Median: 9.562204610572227, 75th percentile: 15.4396677258387, Max: 18.698599271614356\n"
          ]
        }
      ]
    },
    {
      "cell_type": "markdown",
      "source": [
        "## Упражнение № 8\n",
        "\n",
        "Вычислите частоту встречаемости каждого уникального значения `ser`.\n"
      ],
      "metadata": {
        "id": "6P_Qw8wWW1mr"
      }
    },
    {
      "cell_type": "code",
      "source": [
        "ser = pd.Series(np.take(list('abcdefgh'), np.random.randint(8, size=30)))\n",
        "\n",
        "frequency = ser.value_counts()\n",
        "\n",
        "print(frequency)"
      ],
      "metadata": {
        "colab": {
          "base_uri": "https://localhost:8080/"
        },
        "id": "rjb7BfQgXPHl",
        "outputId": "066ac635-c248-4066-f3de-01b8a8acac4e"
      },
      "execution_count": null,
      "outputs": [
        {
          "output_type": "stream",
          "name": "stdout",
          "text": [
            "b    7\n",
            "g    6\n",
            "a    4\n",
            "h    4\n",
            "e    4\n",
            "f    3\n",
            "c    2\n",
            "Name: count, dtype: int64\n"
          ]
        }
      ]
    },
    {
      "cell_type": "markdown",
      "source": [
        "## Упражнение № 9\n",
        "\n",
        "Из `ser` оставить 2 наиболее часто встречающихся элемента без изменений, а все остальные заменить на `Прочее`.\n"
      ],
      "metadata": {
        "id": "oDZ3I56XXWJo"
      }
    },
    {
      "cell_type": "code",
      "source": [
        "np.random.RandomState(100)\n",
        "ser = pd.Series(np.random.randint(1, 5, [12]))\n",
        "\n",
        "top_2 = ser.value_counts().nlargest(2).index\n",
        "\n",
        "result = ser.where(ser.isin(top_2), 'Прочее')\n",
        "\n",
        "print(result)"
      ],
      "metadata": {
        "colab": {
          "base_uri": "https://localhost:8080/"
        },
        "id": "EJTh4zDIXVzW",
        "outputId": "2b11f9b4-c00f-4131-c880-a9d21ec25738"
      },
      "execution_count": null,
      "outputs": [
        {
          "output_type": "stream",
          "name": "stdout",
          "text": [
            "0          3\n",
            "1     Прочее\n",
            "2          3\n",
            "3          2\n",
            "4     Прочее\n",
            "5          3\n",
            "6     Прочее\n",
            "7          2\n",
            "8          2\n",
            "9          2\n",
            "10         2\n",
            "11    Прочее\n",
            "dtype: object\n"
          ]
        }
      ]
    },
    {
      "cell_type": "markdown",
      "source": [
        "## Упражнение № 10\n",
        "\n",
        "Разбейте ряд `ser` на 10 равных децилей и замените значения на название дециля.\n"
      ],
      "metadata": {
        "id": "coruy72SXbsO"
      }
    },
    {
      "cell_type": "code",
      "source": [
        "ser = pd.Series(np.random.random(20))\n",
        "\n",
        "deciles = pd.qcut(ser, q=10, labels=[f\"{i}th\" for i in range(1, 11)])\n",
        "\n",
        "print(deciles.head())"
      ],
      "metadata": {
        "colab": {
          "base_uri": "https://localhost:8080/"
        },
        "id": "SHXssZHIXfpg",
        "outputId": "db99ea08-2aac-4aef-9729-3cee4e39acc0"
      },
      "execution_count": null,
      "outputs": [
        {
          "output_type": "stream",
          "name": "stdout",
          "text": [
            "0    6th\n",
            "1    2th\n",
            "2    9th\n",
            "3    8th\n",
            "4    7th\n",
            "dtype: category\n",
            "Categories (10, object): ['1th' < '2th' < '3th' < '4th' ... '7th' < '8th' < '9th' < '10th']\n"
          ]
        }
      ]
    },
    {
      "cell_type": "markdown",
      "source": [
        "## Упражнение № 11\n",
        "\n",
        "Переформируйте ряд `ser` в датафрейм с 7 строками и 5 столбцами"
      ],
      "metadata": {
        "id": "gYVJ7ZV6YD80"
      }
    },
    {
      "cell_type": "code",
      "source": [
        "ser = pd.Series(np.random.randint(1, 10, 35))\n",
        "df = pd.DataFrame(ser.values.reshape(7, 5))\n",
        "print(df)"
      ],
      "metadata": {
        "colab": {
          "base_uri": "https://localhost:8080/"
        },
        "id": "oqEYHQNDYIc_",
        "outputId": "7bb1e38d-d9eb-4181-c158-f6b744299fe3"
      },
      "execution_count": null,
      "outputs": [
        {
          "output_type": "stream",
          "name": "stdout",
          "text": [
            "   0  1  2  3  4\n",
            "0  4  7  1  7  2\n",
            "1  8  7  1  1  3\n",
            "2  2  1  4  9  5\n",
            "3  1  9  3  7  1\n",
            "4  4  4  6  2  2\n",
            "5  5  1  4  4  9\n",
            "6  8  5  1  2  3\n"
          ]
        }
      ]
    },
    {
      "cell_type": "markdown",
      "source": [
        "## Упражнение № 12\n",
        "\n",
        "Найти позиции чисел, кратных 3, из ряда `ser`."
      ],
      "metadata": {
        "id": "avUTS73vYL2V"
      }
    },
    {
      "cell_type": "code",
      "source": [
        "ser = pd.Series(np.random.randint(1, 10, 7))\n",
        "positions = np.where(ser % 3 == 0)[0]\n",
        "print(positions)"
      ],
      "metadata": {
        "id": "kHl2wNOeYN7N"
      },
      "execution_count": null,
      "outputs": []
    },
    {
      "cell_type": "markdown",
      "source": [
        "## Упражнение № 13\n",
        "\n",
        "Из `ser` извлечь элементы, находящиеся на позициях в списке `pos`.\n"
      ],
      "metadata": {
        "id": "c3VEV569YT0e"
      }
    },
    {
      "cell_type": "code",
      "source": [
        "ser = pd.Series(list('abcdefghijklmnopqrstuvwxyz'))\n",
        "pos = [0, 4, 8, 14, 20]\n",
        "result = ser.iloc[pos]\n",
        "print(result)"
      ],
      "metadata": {
        "colab": {
          "base_uri": "https://localhost:8080/"
        },
        "id": "fZ1hQRzeYSSO",
        "outputId": "b2fa4669-e62d-49f8-bfc1-bd5a91a02c6b"
      },
      "execution_count": null,
      "outputs": [
        {
          "output_type": "stream",
          "name": "stdout",
          "text": [
            "0     a\n",
            "4     e\n",
            "8     i\n",
            "14    o\n",
            "20    u\n",
            "dtype: object\n"
          ]
        }
      ]
    },
    {
      "cell_type": "markdown",
      "source": [
        "## Упражнение № 14\n",
        "\n",
        "Объедините `ser1` и `ser2` по вертикали и горизонтали (чтобы сформировать датафрейм).\n"
      ],
      "metadata": {
        "id": "EHPLFVpiYatm"
      }
    },
    {
      "cell_type": "code",
      "source": [
        "ser1 = pd.Series(range(5))\n",
        "ser2 = pd.Series(list('abcde'))\n",
        "df_vertical = pd.concat([ser1, ser2], axis=0)\n",
        "df_horizontal = pd.concat([ser1, ser2], axis=1)\n",
        "print(df_vertical)\n",
        "print(df_horizontal)"
      ],
      "metadata": {
        "colab": {
          "base_uri": "https://localhost:8080/"
        },
        "id": "HvpvT1DyYbnV",
        "outputId": "ca24840a-efe4-44a1-d0f4-e1bfa32329d8"
      },
      "execution_count": null,
      "outputs": [
        {
          "output_type": "stream",
          "name": "stdout",
          "text": [
            "0    0\n",
            "1    1\n",
            "2    2\n",
            "3    3\n",
            "4    4\n",
            "0    a\n",
            "1    b\n",
            "2    c\n",
            "3    d\n",
            "4    e\n",
            "dtype: object\n",
            "   0  1\n",
            "0  0  a\n",
            "1  1  b\n",
            "2  2  c\n",
            "3  3  d\n",
            "4  4  e\n"
          ]
        }
      ]
    },
    {
      "cell_type": "markdown",
      "source": [
        "## Упражнение № 15\n",
        "\n",
        "Получите позиции элементов `ser2` в `ser1` в виде списка."
      ],
      "metadata": {
        "id": "bCPmeIMmYgzj"
      }
    },
    {
      "cell_type": "code",
      "source": [
        "ser1 = pd.Series([10, 9, 6, 5, 3, 1, 12, 8, 13])\n",
        "ser2 = pd.Series([1, 3, 10, 13])\n",
        "positions = [ser1[ser1 == val].index[0] for val in ser2]\n",
        "print(positions)"
      ],
      "metadata": {
        "colab": {
          "base_uri": "https://localhost:8080/"
        },
        "id": "GcBiosDJYhw9",
        "outputId": "873c5a66-80f3-4cb1-9edd-aafee21d39dd"
      },
      "execution_count": null,
      "outputs": [
        {
          "output_type": "stream",
          "name": "stdout",
          "text": [
            "[5, 4, 0, 8]\n"
          ]
        }
      ]
    },
    {
      "cell_type": "markdown",
      "source": [
        "## Упражнение № 16\n",
        "\n",
        "Вычислить среднеквадратическую ошибку рядов `truth` и `pred`."
      ],
      "metadata": {
        "id": "XacgddEmYkrN"
      }
    },
    {
      "cell_type": "code",
      "source": [
        "truth = pd.Series(range(10))\n",
        "pred = pd.Series(range(10)) + np.random.random(10)\n",
        "mse = ((truth - pred) ** 2).mean()\n",
        "print(mse)"
      ],
      "metadata": {
        "colab": {
          "base_uri": "https://localhost:8080/"
        },
        "id": "kRGL2kyKYqN3",
        "outputId": "f5f197ca-f821-49f4-af50-76580394c410"
      },
      "execution_count": null,
      "outputs": [
        {
          "output_type": "stream",
          "name": "stdout",
          "text": [
            "0.3094310916790238\n"
          ]
        }
      ]
    },
    {
      "cell_type": "markdown",
      "source": [
        "## Упражнение № 17\n",
        "\n",
        "В каждом слове `ser` поставьте первый символ каждого слова в верхний регистр."
      ],
      "metadata": {
        "id": "1_DRoBTPYvqt"
      }
    },
    {
      "cell_type": "code",
      "source": [
        "ser = pd.Series(['how', 'to', 'kick', 'ass?'])\n",
        "result = ser.str.capitalize()\n",
        "print(result)"
      ],
      "metadata": {
        "colab": {
          "base_uri": "https://localhost:8080/"
        },
        "id": "zaWGiC2aYuaE",
        "outputId": "01ac6da7-c12e-48da-9817-e39f75e07b5c"
      },
      "execution_count": null,
      "outputs": [
        {
          "output_type": "stream",
          "name": "stdout",
          "text": [
            "0     How\n",
            "1      To\n",
            "2    Kick\n",
            "3    Ass?\n",
            "dtype: object\n"
          ]
        }
      ]
    },
    {
      "cell_type": "markdown",
      "source": [
        "## Упражнение № 18\n",
        "\n",
        "В каждом слове `ser` посчитайте число символов."
      ],
      "metadata": {
        "id": "o0f34_COaYTU"
      }
    },
    {
      "cell_type": "code",
      "source": [
        "ser = pd.Series(['how', 'to', 'kick', 'ass?'])\n",
        "result = ser.str.len()\n",
        "print(result)"
      ],
      "metadata": {
        "colab": {
          "base_uri": "https://localhost:8080/"
        },
        "id": "_p15qi_EaZOO",
        "outputId": "452f72f9-d9e9-4d97-9070-e3ad030c8f1a"
      },
      "execution_count": null,
      "outputs": [
        {
          "output_type": "stream",
          "name": "stdout",
          "text": [
            "0    3\n",
            "1    2\n",
            "2    4\n",
            "3    4\n",
            "dtype: int64\n"
          ]
        }
      ]
    },
    {
      "cell_type": "markdown",
      "source": [
        "## Упражнение № 19\n",
        "\n",
        "Вычислите разность разностей между последовательно идущими числами в `ser`."
      ],
      "metadata": {
        "id": "Ft0yGMKSajYi"
      }
    },
    {
      "cell_type": "code",
      "source": [
        "ser = pd.Series([1, 3, 6, 10, 15, 21, 27, 35])\n",
        "first_diff = ser.diff()\n",
        "second_diff = first_diff.diff()\n",
        "print(first_diff)\n",
        "print(second_diff)"
      ],
      "metadata": {
        "colab": {
          "base_uri": "https://localhost:8080/"
        },
        "id": "o_s52ZK7akHK",
        "outputId": "6b55ad6b-8474-4ff8-bfa7-03cf53a686fe"
      },
      "execution_count": null,
      "outputs": [
        {
          "output_type": "stream",
          "name": "stdout",
          "text": [
            "0    NaN\n",
            "1    2.0\n",
            "2    3.0\n",
            "3    4.0\n",
            "4    5.0\n",
            "5    6.0\n",
            "6    6.0\n",
            "7    8.0\n",
            "dtype: float64\n",
            "0    NaN\n",
            "1    NaN\n",
            "2    1.0\n",
            "3    1.0\n",
            "4    1.0\n",
            "5    1.0\n",
            "6    0.0\n",
            "7    2.0\n",
            "dtype: float64\n"
          ]
        }
      ]
    },
    {
      "cell_type": "markdown",
      "source": [
        "## Упражнение № 20\n",
        "\n",
        "Преобразуйте строковое представление дат в `datetime64`."
      ],
      "metadata": {
        "id": "-SGuQ_mrbSFp"
      }
    },
    {
      "cell_type": "code",
      "source": [
        "ser = pd.Series(['01 Jan 2010', '02-02-2011', '20120303', '2013/04/04', '2014-05-05', '2015-06-06T12:20'])\n",
        "result = pd.to_datetime(ser, format='mixed')\n",
        "print(result)"
      ],
      "metadata": {
        "colab": {
          "base_uri": "https://localhost:8080/"
        },
        "id": "x3X-yo2FbT1y",
        "outputId": "1c4b1dc8-e248-4d79-8b6d-b4f9ebec5ca3"
      },
      "execution_count": null,
      "outputs": [
        {
          "output_type": "stream",
          "name": "stdout",
          "text": [
            "0   2010-01-01 00:00:00\n",
            "1   2011-02-02 00:00:00\n",
            "2   2012-03-03 00:00:00\n",
            "3   2013-04-04 00:00:00\n",
            "4   2014-05-05 00:00:00\n",
            "5   2015-06-06 12:20:00\n",
            "dtype: datetime64[ns]\n"
          ]
        }
      ]
    },
    {
      "cell_type": "markdown",
      "source": [
        "## Упражнение № 21\n",
        "\n",
        "Получите из `ser` день месяца, номер недели, день года и день недели."
      ],
      "metadata": {
        "id": "53Cq4QJybdXC"
      }
    },
    {
      "cell_type": "code",
      "source": [
        "ser = pd.Series(['01 Jan 2010', '02-02-2011', '20120303', '2013/04/04', '2014-05-05', '2015-06-06T12:20'])\n",
        "dates = pd.to_datetime(ser, format='mixed')\n",
        "day_of_month = dates.dt.day\n",
        "week_number = dates.dt.isocalendar().week\n",
        "day_of_year = dates.dt.dayofyear\n",
        "day_of_week = dates.dt.day_name()\n",
        "print(\"Date:\", day_of_month.tolist())\n",
        "print(\"Week number:\", week_number.tolist())\n",
        "print(\"Day num of year:\", day_of_year.tolist())\n",
        "print(\"Day of week:\", day_of_week.tolist())"
      ],
      "metadata": {
        "colab": {
          "base_uri": "https://localhost:8080/"
        },
        "id": "QH4qXR1ebjHs",
        "outputId": "f7948074-7579-4b9e-c8e4-aff3a4f22b43"
      },
      "execution_count": null,
      "outputs": [
        {
          "output_type": "stream",
          "name": "stdout",
          "text": [
            "Date: [1, 2, 3, 4, 5, 6]\n",
            "Week number: [53, 5, 9, 14, 19, 23]\n",
            "Day num of year: [1, 33, 63, 94, 125, 157]\n",
            "Day of week: ['Friday', 'Wednesday', 'Saturday', 'Thursday', 'Monday', 'Saturday']\n"
          ]
        }
      ]
    },
    {
      "cell_type": "markdown",
      "source": [
        "## Упражнение № 22\n",
        "\n",
        "Замените элементы `ser` на даты, начинающиеся с 4-го числа соответствующего месяца."
      ],
      "metadata": {
        "id": "YW8k37JInTK2"
      }
    },
    {
      "cell_type": "code",
      "source": [
        "ser = pd.Series(['Jan 2010', 'Feb 2011', 'Mar 2012'])\n",
        "result = pd.to_datetime('04 ' + ser)\n",
        "print(result)"
      ],
      "metadata": {
        "colab": {
          "base_uri": "https://localhost:8080/"
        },
        "id": "8YEx-FC1nVz4",
        "outputId": "23aaf57e-4236-42e2-c566-24556d8cd5eb"
      },
      "execution_count": null,
      "outputs": [
        {
          "output_type": "stream",
          "name": "stdout",
          "text": [
            "0   2010-01-04\n",
            "1   2011-02-04\n",
            "2   2012-03-04\n",
            "dtype: datetime64[ns]\n"
          ]
        }
      ]
    },
    {
      "cell_type": "markdown",
      "source": [
        "## Упражнение № 23\n",
        "\n",
        "Из `ser` извлеките слова, содержащие не менее 2 гласных букв."
      ],
      "metadata": {
        "id": "84ZyMFvongQI"
      }
    },
    {
      "cell_type": "code",
      "source": [
        "ser = pd.Series(['Apple', 'Orange', 'Plan', 'Python', 'Money'])\n",
        "result = ser[ser.str.count(r'[aeiouAEIOU]') >= 2]\n",
        "print(result)"
      ],
      "metadata": {
        "colab": {
          "base_uri": "https://localhost:8080/"
        },
        "id": "7Lu2kb6Bni_H",
        "outputId": "ad300398-70bd-4f03-b0be-a4cafa1937e6"
      },
      "execution_count": null,
      "outputs": [
        {
          "output_type": "stream",
          "name": "stdout",
          "text": [
            "0     Apple\n",
            "1    Orange\n",
            "4     Money\n",
            "dtype: object\n"
          ]
        }
      ]
    },
    {
      "cell_type": "code",
      "source": [
        "## Упражнение № 24\n",
        "\n",
        "Извлеките корректные адреса электронной почты из ряда `emails`. Шаблон регулярного выражения для корректных адресов электронной почты приведен в качестве образца.\n"
      ],
      "metadata": {
        "id": "cRsvFR9ennMt"
      },
      "execution_count": null,
      "outputs": []
    },
    {
      "cell_type": "code",
      "source": [
        "emails = pd.Series(['buying books at amazom.com', 'rameses@egypt.com', 'matt@t.co', 'narendra@modi.com'])\n",
        "pattern = r'[A-Za-z0-9._%+-]+@[A-Za-z0-9.-]+\\.[A-Za-z]{2,4}'\n",
        "result = emails[emails.str.contains(pattern)]\n",
        "print(result)"
      ],
      "metadata": {
        "colab": {
          "base_uri": "https://localhost:8080/"
        },
        "id": "f2Txg2uVnqN7",
        "outputId": "bef0ecab-2ae7-46b3-9ce8-a77f1bf798a1"
      },
      "execution_count": null,
      "outputs": [
        {
          "output_type": "stream",
          "name": "stdout",
          "text": [
            "1    rameses@egypt.com\n",
            "2            matt@t.co\n",
            "3    narendra@modi.com\n",
            "dtype: object\n"
          ]
        }
      ]
    },
    {
      "cell_type": "markdown",
      "source": [
        "## Упражнение № 25\n",
        "\n",
        "Вычислить среднее значение веса в `weights` для каждого фрукта из `fruit`."
      ],
      "metadata": {
        "id": "viCWGVXDn7sO"
      }
    },
    {
      "cell_type": "code",
      "source": [
        "fruit = pd.Series(np.random.choice(['apple', 'banana', 'carrot'], 10))\n",
        "weights = pd.Series(np.linspace(1, 10, 10))\n",
        "result = weights.groupby(fruit).mean()\n",
        "print(result)"
      ],
      "metadata": {
        "id": "a4rBGzxrn9yF"
      },
      "execution_count": null,
      "outputs": []
    },
    {
      "cell_type": "markdown",
      "source": [
        "\n",
        "## Упражнение № 26\n",
        "\n",
        "Вычислить [евклидово расстояние](https://en.wikipedia.org/wiki/Euclidean_distance) между векторами $p$ и $q$, не используя встроенную формулу.\n"
      ],
      "metadata": {
        "id": "LgnJK1IxoGZ1"
      }
    },
    {
      "cell_type": "code",
      "source": [
        "p = pd.Series([1, 2, 3, 4, 5, 6, 7, 8, 9, 10])\n",
        "q = pd.Series([10, 9, 8, 7, 6, 5, 4, 3, 2, 1])\n",
        "distance = ((p - q) ** 2).sum() ** 0.5\n",
        "print(round(distance, 3))"
      ],
      "metadata": {
        "colab": {
          "base_uri": "https://localhost:8080/"
        },
        "id": "AUHI8A-4oEQC",
        "outputId": "342b1674-0811-4471-d2fa-164e812dbbc7"
      },
      "execution_count": null,
      "outputs": [
        {
          "output_type": "stream",
          "name": "stdout",
          "text": [
            "18.166\n"
          ]
        }
      ]
    },
    {
      "cell_type": "markdown",
      "source": [
        "## Упражнение № 27\n",
        "\n",
        "Получите позиции пиков (значений, окруженных с двух сторон меньшими значениями) в `ser`."
      ],
      "metadata": {
        "id": "TT1itSJdoMNr"
      }
    },
    {
      "cell_type": "code",
      "source": [
        "ser = pd.Series([2, 10, 3, 4, 9, 10, 2, 7, 3])\n",
        "peaks = np.where((ser > ser.shift(1)) & (ser > ser.shift(-1)))[0]\n",
        "print(peaks)"
      ],
      "metadata": {
        "colab": {
          "base_uri": "https://localhost:8080/"
        },
        "id": "U7BzdHzXoOkw",
        "outputId": "86174c17-ee51-4a67-b9d1-9ac1bc2b4ed8"
      },
      "execution_count": null,
      "outputs": [
        {
          "output_type": "stream",
          "name": "stdout",
          "text": [
            "[1 5 7]\n"
          ]
        }
      ]
    },
    {
      "cell_type": "markdown",
      "source": [
        "## Упражнение № 28\n",
        "\n",
        "Замените пробелы в `my_str` на наименее часто встречающийся символ."
      ],
      "metadata": {
        "id": "wU8HxAN5oRYU"
      }
    },
    {
      "cell_type": "code",
      "source": [
        "my_str = 'dbc deb abed gade'\n",
        "ser = pd.Series(list(my_str))\n",
        "least_frequent = ser.value_counts().keys()[-1]\n",
        "print(least_frequent)\n",
        "my_str.replace(' ',least_frequent)"
      ],
      "metadata": {
        "colab": {
          "base_uri": "https://localhost:8080/",
          "height": 54
        },
        "id": "SoPGPUShoVDY",
        "outputId": "055dc6c5-83ea-4efa-a5bb-e53f140354c7"
      },
      "execution_count": null,
      "outputs": [
        {
          "output_type": "stream",
          "name": "stdout",
          "text": [
            "g\n"
          ]
        },
        {
          "output_type": "execute_result",
          "data": {
            "text/plain": [
              "'dbcgdebgabedggade'"
            ],
            "application/vnd.google.colaboratory.intrinsic+json": {
              "type": "string"
            }
          },
          "metadata": {},
          "execution_count": 32
        }
      ]
    },
    {
      "cell_type": "markdown",
      "source": [
        "## Упражнение № 29\n",
        "\n",
        "Создайте временной ряд, начинающийся с `2000-01-01`, содержащий 10 субботних дней после этого и имеющий в качестве значений случайные числа\n"
      ],
      "metadata": {
        "id": "t9G8q9SCooiM"
      }
    },
    {
      "cell_type": "code",
      "source": [
        "dates = pd.date_range('2000-01-01', periods=10, freq='W-SAT')\n",
        "ser = pd.Series(np.random.randint(1, 10, 10), index=dates)\n",
        "print(ser)"
      ],
      "metadata": {
        "colab": {
          "base_uri": "https://localhost:8080/"
        },
        "id": "BD02lAHcoWK4",
        "outputId": "9d81406f-c096-4d9d-8775-f30375fa4f02"
      },
      "execution_count": null,
      "outputs": [
        {
          "output_type": "stream",
          "name": "stdout",
          "text": [
            "2000-01-01    1\n",
            "2000-01-08    9\n",
            "2000-01-15    6\n",
            "2000-01-22    1\n",
            "2000-01-29    9\n",
            "2000-02-05    8\n",
            "2000-02-12    7\n",
            "2000-02-19    5\n",
            "2000-02-26    5\n",
            "2000-03-04    1\n",
            "Freq: W-SAT, dtype: int64\n"
          ]
        }
      ]
    },
    {
      "cell_type": "markdown",
      "source": [
        "## Упражнение № 30\n",
        "\n",
        "В `ser` отсутствуют некоторые даты и значения. Сделайте так, чтобы все отсутствующие даты появились и заполнились значением из предыдущей даты.\n"
      ],
      "metadata": {
        "id": "gEzxS-h3ow_r"
      }
    },
    {
      "cell_type": "code",
      "source": [
        "ser = pd.Series([1, 10, 3, np.nan], index=pd.to_datetime(['2000-01-01', '2000-01-03', '2000-01-06', '2000-01-08']))\n",
        "result = ser.resample('D').ffill()\n",
        "print(result)"
      ],
      "metadata": {
        "colab": {
          "base_uri": "https://localhost:8080/"
        },
        "id": "wdewJjm-oz5M",
        "outputId": "0814aea0-dd52-41e0-8395-d692def4fc66"
      },
      "execution_count": null,
      "outputs": [
        {
          "output_type": "stream",
          "name": "stdout",
          "text": [
            "2000-01-01     1.0\n",
            "2000-01-02     1.0\n",
            "2000-01-03    10.0\n",
            "2000-01-04    10.0\n",
            "2000-01-05    10.0\n",
            "2000-01-06     3.0\n",
            "2000-01-07     3.0\n",
            "2000-01-08     NaN\n",
            "Freq: D, dtype: float64\n"
          ]
        }
      ]
    },
    {
      "cell_type": "markdown",
      "source": [
        "## Упражнение № 31\n",
        "\n",
        "Вычислите автокорреляции для первых 10 лагов `ser`. Определите, какой из лагов имеет наибольшую корреляцию. (см. также [Модель авторегрессии и распределённого лага — Википедия](https://ru.wikipedia.org/wiki/%D0%9C%D0%BE%D0%B4%D0%B5%D0%BB%D1%8C_%D0%B0%D0%B2%D1%82%D0%BE%D1%80%D0%B5%D0%B3%D1%80%D0%B5%D1%81%D1%81%D0%B8%D0%B8_%D0%B8_%D1%80%D0%B0%D1%81%D0%BF%D1%80%D0%B5%D0%B4%D0%B5%D0%BB%D1%91%D0%BD%D0%BD%D0%BE%D0%B3%D0%BE_%D0%BB%D0%B0%D0%B3%D0%B0))\n"
      ],
      "metadata": {
        "id": "iSJtcoIRpU-P"
      }
    },
    {
      "cell_type": "code",
      "source": [
        "ser = pd.Series(np.arange(20) + np.random.normal(1, 10, 20))\n",
        "autocorrelations = [ser.autocorr(lag=i) for i in range(1, 11)]\n",
        "max_lag = np.argmax(autocorrelations) + 1\n",
        "print(autocorrelations)\n",
        "print(\"Lag having highest correlation:\", max_lag)"
      ],
      "metadata": {
        "colab": {
          "base_uri": "https://localhost:8080/"
        },
        "id": "NmvP3Pg7pa39",
        "outputId": "699f6106-1444-4495-bf52-1fdebe8c5484"
      },
      "execution_count": null,
      "outputs": [
        {
          "output_type": "stream",
          "name": "stdout",
          "text": [
            "[0.39357027710399717, 0.26579228267092203, 0.16762764599470975, -0.15387530197830704, -0.07199798294118293, 0.0334573988084037, 0.26843958541964646, 0.2918928346498974, 0.2712874126622643, 0.36665772212808395]\n",
            "Lag having highest correlation: 1\n"
          ]
        }
      ]
    },
    {
      "cell_type": "markdown",
      "source": [
        "## Упражнение № 32\n",
        "\n",
        "Импортируйте каждую 50-ю строку набора данных [BostonHousing dataset](https://raw.githubusercontent.com/selva86/datasets/master/BostonHousing.csv) в виде датафрейма.\n"
      ],
      "metadata": {
        "id": "vnMHR4tIqxnS"
      }
    },
    {
      "cell_type": "code",
      "source": [
        "url = 'https://raw.githubusercontent.com/selva86/datasets/master/BostonHousing.csv'\n",
        "df = pd.read_csv(url).iloc[::50]\n",
        "print(df)"
      ],
      "metadata": {
        "colab": {
          "base_uri": "https://localhost:8080/"
        },
        "id": "5sWBhariq11D",
        "outputId": "22192d22-705f-4bb2-caa1-879577403058"
      },
      "execution_count": null,
      "outputs": [
        {
          "output_type": "stream",
          "name": "stdout",
          "text": [
            "         crim    zn  indus  chas    nox     rm    age     dis  rad  tax  \\\n",
            "0     0.00632  18.0   2.31     0  0.538  6.575   65.2  4.0900    1  296   \n",
            "50    0.08873  21.0   5.64     0  0.439  5.963   45.7  6.8147    4  243   \n",
            "100   0.14866   0.0   8.56     0  0.520  6.727   79.9  2.7778    5  384   \n",
            "150   1.65660   0.0  19.58     0  0.871  6.122   97.3  1.6180    5  403   \n",
            "200   0.01778  95.0   1.47     0  0.403  7.135   13.9  7.6534    3  402   \n",
            "250   0.14030  22.0   5.86     0  0.431  6.487   13.0  7.3967    7  330   \n",
            "300   0.04417  70.0   2.24     0  0.400  6.871   47.4  7.8278    5  358   \n",
            "350   0.06211  40.0   1.25     0  0.429  6.490   44.4  8.7921    1  335   \n",
            "400  25.04610   0.0  18.10     0  0.693  5.987  100.0  1.5888   24  666   \n",
            "450   6.71772   0.0  18.10     0  0.713  6.749   92.6  2.3236   24  666   \n",
            "500   0.22438   0.0   9.69     0  0.585  6.027   79.7  2.4982    6  391   \n",
            "\n",
            "     ptratio       b  lstat  medv  \n",
            "0       15.3  396.90   4.98  24.0  \n",
            "50      16.8  395.56  13.45  19.7  \n",
            "100     20.9  394.76   9.42  27.5  \n",
            "150     14.7  372.80  14.10  21.5  \n",
            "200     17.0  384.30   4.45  32.9  \n",
            "250     19.1  396.28   5.90  24.4  \n",
            "300     14.8  390.86   6.07  24.8  \n",
            "350     19.7  396.90   5.98  22.9  \n",
            "400     20.2  396.90  26.77   5.6  \n",
            "450     20.2    0.32  17.44  13.4  \n",
            "500     19.2  396.90  14.33  16.8  \n"
          ]
        }
      ]
    },
    {
      "cell_type": "markdown",
      "source": [
        "## Упражнение № 33\n",
        "\n",
        "Импортируйте набор данных [boston housing dataset](https://raw.githubusercontent.com/selva86/datasets/master/BostonHousing.csv), но при импорте измените столбец `'medv'` (*median house value*) так, чтобы значения < 25 стали `Low`, а > 25 - `High`.\n"
      ],
      "metadata": {
        "id": "y2SxZEIHq6_7"
      }
    },
    {
      "cell_type": "code",
      "source": [
        "url = 'https://raw.githubusercontent.com/selva86/datasets/master/BostonHousing.csv'\n",
        "df = pd.read_csv(url)\n",
        "df['medv'] = np.where(df['medv'] < 25, 'Low', 'High')\n",
        "print(df.head())"
      ],
      "metadata": {
        "colab": {
          "base_uri": "https://localhost:8080/"
        },
        "id": "xRtQd-ZprAes",
        "outputId": "c888e7f0-9571-4400-c8db-65724579b9f8"
      },
      "execution_count": null,
      "outputs": [
        {
          "output_type": "stream",
          "name": "stdout",
          "text": [
            "      crim    zn  indus  chas    nox     rm   age     dis  rad  tax  ptratio  \\\n",
            "0  0.00632  18.0   2.31     0  0.538  6.575  65.2  4.0900    1  296     15.3   \n",
            "1  0.02731   0.0   7.07     0  0.469  6.421  78.9  4.9671    2  242     17.8   \n",
            "2  0.02729   0.0   7.07     0  0.469  7.185  61.1  4.9671    2  242     17.8   \n",
            "3  0.03237   0.0   2.18     0  0.458  6.998  45.8  6.0622    3  222     18.7   \n",
            "4  0.06905   0.0   2.18     0  0.458  7.147  54.2  6.0622    3  222     18.7   \n",
            "\n",
            "        b  lstat  medv  \n",
            "0  396.90   4.98   Low  \n",
            "1  396.90   9.14   Low  \n",
            "2  392.83   4.03  High  \n",
            "3  394.63   2.94  High  \n",
            "4  396.90   5.33  High  \n"
          ]
        }
      ]
    },
    {
      "cell_type": "markdown",
      "source": [
        "## Упражнение № 34\n",
        "\n",
        "Создайте датафрейм со строками в виде шагов (интервалов) заданного ряда"
      ],
      "metadata": {
        "id": "0bR8vqjHrFVD"
      }
    },
    {
      "cell_type": "code",
      "source": [
        "L = pd.Series(range(15))\n",
        "step = 2\n",
        "window = 4\n",
        "result = pd.DataFrame([L[i:i+window].values for i in range(0, len(L)-window+1, step)])\n",
        "print(result)"
      ],
      "metadata": {
        "id": "vaj8yeh3rGLa"
      },
      "execution_count": null,
      "outputs": []
    },
    {
      "cell_type": "markdown",
      "source": [
        "## Упражнение № 35\n",
        "\n",
        "Импортируйте столбцы 'crim' и 'medv' из набора данных [BostonHousing dataset](https://raw.githubusercontent.com/selva86/datasets/master/BostonHousing.csv) в виде датафрейма.\n"
      ],
      "metadata": {
        "id": "US_6egAqrMJ0"
      }
    },
    {
      "cell_type": "code",
      "source": [
        "url = 'https://raw.githubusercontent.com/selva86/datasets/master/BostonHousing.csv'\n",
        "df = pd.read_csv(url, usecols=['crim', 'medv'])\n",
        "print(df.head())"
      ],
      "metadata": {
        "colab": {
          "base_uri": "https://localhost:8080/"
        },
        "id": "CUOgjOJIrNgn",
        "outputId": "a289cbf6-d112-455d-fe30-fbaff59cbbf5"
      },
      "execution_count": null,
      "outputs": [
        {
          "output_type": "stream",
          "name": "stdout",
          "text": [
            "      crim  medv\n",
            "0  0.00632  24.0\n",
            "1  0.02731  21.6\n",
            "2  0.02729  34.7\n",
            "3  0.03237  33.4\n",
            "4  0.06905  36.2\n"
          ]
        }
      ]
    },
    {
      "cell_type": "markdown",
      "source": [
        "## Упражнение № 36\n",
        "\n",
        "Получите количество строк, столбцов, тип данных и суммарную статистику каждого столбца набора данных [Cars93](https://raw.githubusercontent.com/selva86/datasets/master/Cars93_miss.csv). Также получите эквивалент датафрейма в виде numpy-массива и списка.\n"
      ],
      "metadata": {
        "id": "t96xh3HvrS9p"
      }
    },
    {
      "cell_type": "code",
      "source": [
        "df =pd.read_csv('https://raw.githubusercontent.com/selva86/datasets/master/Cars93_miss.csv')\n",
        "count_lines = df.__len__()\n",
        "count_columns = df.columns.__len__()\n",
        "datatypes = df.dtypes.value_counts()\n",
        "statistics = df.describe()\n",
        "df_np = df.to_numpy()\n",
        "df_list = df.to_numpy().tolist()\n",
        "statistics\n"
      ],
      "metadata": {
        "colab": {
          "base_uri": "https://localhost:8080/",
          "height": 320
        },
        "id": "RtuIS5xxrW7p",
        "outputId": "7832ad4e-e554-41c7-e3ee-63fdb0d92a9f"
      },
      "execution_count": null,
      "outputs": [
        {
          "output_type": "execute_result",
          "data": {
            "text/plain": [
              "       Min.Price      Price  Max.Price   MPG.city  MPG.highway  EngineSize  \\\n",
              "count  86.000000  91.000000  88.000000  84.000000    91.000000   91.000000   \n",
              "mean   17.118605  19.616484  21.459091  22.404762    29.065934    2.658242   \n",
              "std     8.828290   9.724280  10.696563   5.841520     5.370293    1.045845   \n",
              "min     6.700000   7.400000   7.900000  15.000000    20.000000    1.000000   \n",
              "25%    10.825000  12.350000  14.575000  18.000000    26.000000    1.800000   \n",
              "50%    14.600000  17.700000  19.150000  21.000000    28.000000    2.300000   \n",
              "75%    20.250000  23.500000  24.825000  25.000000    31.000000    3.250000   \n",
              "max    45.400000  61.900000  80.000000  46.000000    50.000000    5.700000   \n",
              "\n",
              "       Horsepower          RPM  Rev.per.mile  Fuel.tank.capacity  Passengers  \\\n",
              "count   86.000000    90.000000     87.000000           85.000000   91.000000   \n",
              "mean   144.000000  5276.666667   2355.000000           16.683529    5.076923   \n",
              "std     53.455204   605.554811    486.916616            3.375748    1.045953   \n",
              "min     55.000000  3800.000000   1320.000000            9.200000    2.000000   \n",
              "25%    100.750000  4800.000000   2017.500000           14.500000    4.000000   \n",
              "50%    140.000000  5200.000000   2360.000000           16.500000    5.000000   \n",
              "75%    170.000000  5787.500000   2565.000000           19.000000    6.000000   \n",
              "max    300.000000  6500.000000   3755.000000           27.000000    8.000000   \n",
              "\n",
              "           Length   Wheelbase      Width  Turn.circle  Rear.seat.room  \\\n",
              "count   89.000000   92.000000  87.000000    88.000000       89.000000   \n",
              "mean   182.865169  103.956522  69.448276    38.954545       27.853933   \n",
              "std     14.792651    6.856317   3.778023     3.304157        3.018129   \n",
              "min    141.000000   90.000000  60.000000    32.000000       19.000000   \n",
              "25%    174.000000   98.000000  67.000000    36.000000       26.000000   \n",
              "50%    181.000000  103.000000  69.000000    39.000000       27.500000   \n",
              "75%    192.000000  110.000000  72.000000    42.000000       30.000000   \n",
              "max    219.000000  119.000000  78.000000    45.000000       36.000000   \n",
              "\n",
              "       Luggage.room       Weight  \n",
              "count     74.000000    86.000000  \n",
              "mean      13.986486  3104.593023  \n",
              "std        3.120824   600.129993  \n",
              "min        6.000000  1695.000000  \n",
              "25%       12.000000  2647.500000  \n",
              "50%       14.000000  3085.000000  \n",
              "75%       16.000000  3567.500000  \n",
              "max       22.000000  4105.000000  "
            ],
            "text/html": [
              "\n",
              "  <div id=\"df-bfdc9ea0-7119-4cf2-9da7-5a738731d9b3\" class=\"colab-df-container\">\n",
              "    <div>\n",
              "<style scoped>\n",
              "    .dataframe tbody tr th:only-of-type {\n",
              "        vertical-align: middle;\n",
              "    }\n",
              "\n",
              "    .dataframe tbody tr th {\n",
              "        vertical-align: top;\n",
              "    }\n",
              "\n",
              "    .dataframe thead th {\n",
              "        text-align: right;\n",
              "    }\n",
              "</style>\n",
              "<table border=\"1\" class=\"dataframe\">\n",
              "  <thead>\n",
              "    <tr style=\"text-align: right;\">\n",
              "      <th></th>\n",
              "      <th>Min.Price</th>\n",
              "      <th>Price</th>\n",
              "      <th>Max.Price</th>\n",
              "      <th>MPG.city</th>\n",
              "      <th>MPG.highway</th>\n",
              "      <th>EngineSize</th>\n",
              "      <th>Horsepower</th>\n",
              "      <th>RPM</th>\n",
              "      <th>Rev.per.mile</th>\n",
              "      <th>Fuel.tank.capacity</th>\n",
              "      <th>Passengers</th>\n",
              "      <th>Length</th>\n",
              "      <th>Wheelbase</th>\n",
              "      <th>Width</th>\n",
              "      <th>Turn.circle</th>\n",
              "      <th>Rear.seat.room</th>\n",
              "      <th>Luggage.room</th>\n",
              "      <th>Weight</th>\n",
              "    </tr>\n",
              "  </thead>\n",
              "  <tbody>\n",
              "    <tr>\n",
              "      <th>count</th>\n",
              "      <td>86.000000</td>\n",
              "      <td>91.000000</td>\n",
              "      <td>88.000000</td>\n",
              "      <td>84.000000</td>\n",
              "      <td>91.000000</td>\n",
              "      <td>91.000000</td>\n",
              "      <td>86.000000</td>\n",
              "      <td>90.000000</td>\n",
              "      <td>87.000000</td>\n",
              "      <td>85.000000</td>\n",
              "      <td>91.000000</td>\n",
              "      <td>89.000000</td>\n",
              "      <td>92.000000</td>\n",
              "      <td>87.000000</td>\n",
              "      <td>88.000000</td>\n",
              "      <td>89.000000</td>\n",
              "      <td>74.000000</td>\n",
              "      <td>86.000000</td>\n",
              "    </tr>\n",
              "    <tr>\n",
              "      <th>mean</th>\n",
              "      <td>17.118605</td>\n",
              "      <td>19.616484</td>\n",
              "      <td>21.459091</td>\n",
              "      <td>22.404762</td>\n",
              "      <td>29.065934</td>\n",
              "      <td>2.658242</td>\n",
              "      <td>144.000000</td>\n",
              "      <td>5276.666667</td>\n",
              "      <td>2355.000000</td>\n",
              "      <td>16.683529</td>\n",
              "      <td>5.076923</td>\n",
              "      <td>182.865169</td>\n",
              "      <td>103.956522</td>\n",
              "      <td>69.448276</td>\n",
              "      <td>38.954545</td>\n",
              "      <td>27.853933</td>\n",
              "      <td>13.986486</td>\n",
              "      <td>3104.593023</td>\n",
              "    </tr>\n",
              "    <tr>\n",
              "      <th>std</th>\n",
              "      <td>8.828290</td>\n",
              "      <td>9.724280</td>\n",
              "      <td>10.696563</td>\n",
              "      <td>5.841520</td>\n",
              "      <td>5.370293</td>\n",
              "      <td>1.045845</td>\n",
              "      <td>53.455204</td>\n",
              "      <td>605.554811</td>\n",
              "      <td>486.916616</td>\n",
              "      <td>3.375748</td>\n",
              "      <td>1.045953</td>\n",
              "      <td>14.792651</td>\n",
              "      <td>6.856317</td>\n",
              "      <td>3.778023</td>\n",
              "      <td>3.304157</td>\n",
              "      <td>3.018129</td>\n",
              "      <td>3.120824</td>\n",
              "      <td>600.129993</td>\n",
              "    </tr>\n",
              "    <tr>\n",
              "      <th>min</th>\n",
              "      <td>6.700000</td>\n",
              "      <td>7.400000</td>\n",
              "      <td>7.900000</td>\n",
              "      <td>15.000000</td>\n",
              "      <td>20.000000</td>\n",
              "      <td>1.000000</td>\n",
              "      <td>55.000000</td>\n",
              "      <td>3800.000000</td>\n",
              "      <td>1320.000000</td>\n",
              "      <td>9.200000</td>\n",
              "      <td>2.000000</td>\n",
              "      <td>141.000000</td>\n",
              "      <td>90.000000</td>\n",
              "      <td>60.000000</td>\n",
              "      <td>32.000000</td>\n",
              "      <td>19.000000</td>\n",
              "      <td>6.000000</td>\n",
              "      <td>1695.000000</td>\n",
              "    </tr>\n",
              "    <tr>\n",
              "      <th>25%</th>\n",
              "      <td>10.825000</td>\n",
              "      <td>12.350000</td>\n",
              "      <td>14.575000</td>\n",
              "      <td>18.000000</td>\n",
              "      <td>26.000000</td>\n",
              "      <td>1.800000</td>\n",
              "      <td>100.750000</td>\n",
              "      <td>4800.000000</td>\n",
              "      <td>2017.500000</td>\n",
              "      <td>14.500000</td>\n",
              "      <td>4.000000</td>\n",
              "      <td>174.000000</td>\n",
              "      <td>98.000000</td>\n",
              "      <td>67.000000</td>\n",
              "      <td>36.000000</td>\n",
              "      <td>26.000000</td>\n",
              "      <td>12.000000</td>\n",
              "      <td>2647.500000</td>\n",
              "    </tr>\n",
              "    <tr>\n",
              "      <th>50%</th>\n",
              "      <td>14.600000</td>\n",
              "      <td>17.700000</td>\n",
              "      <td>19.150000</td>\n",
              "      <td>21.000000</td>\n",
              "      <td>28.000000</td>\n",
              "      <td>2.300000</td>\n",
              "      <td>140.000000</td>\n",
              "      <td>5200.000000</td>\n",
              "      <td>2360.000000</td>\n",
              "      <td>16.500000</td>\n",
              "      <td>5.000000</td>\n",
              "      <td>181.000000</td>\n",
              "      <td>103.000000</td>\n",
              "      <td>69.000000</td>\n",
              "      <td>39.000000</td>\n",
              "      <td>27.500000</td>\n",
              "      <td>14.000000</td>\n",
              "      <td>3085.000000</td>\n",
              "    </tr>\n",
              "    <tr>\n",
              "      <th>75%</th>\n",
              "      <td>20.250000</td>\n",
              "      <td>23.500000</td>\n",
              "      <td>24.825000</td>\n",
              "      <td>25.000000</td>\n",
              "      <td>31.000000</td>\n",
              "      <td>3.250000</td>\n",
              "      <td>170.000000</td>\n",
              "      <td>5787.500000</td>\n",
              "      <td>2565.000000</td>\n",
              "      <td>19.000000</td>\n",
              "      <td>6.000000</td>\n",
              "      <td>192.000000</td>\n",
              "      <td>110.000000</td>\n",
              "      <td>72.000000</td>\n",
              "      <td>42.000000</td>\n",
              "      <td>30.000000</td>\n",
              "      <td>16.000000</td>\n",
              "      <td>3567.500000</td>\n",
              "    </tr>\n",
              "    <tr>\n",
              "      <th>max</th>\n",
              "      <td>45.400000</td>\n",
              "      <td>61.900000</td>\n",
              "      <td>80.000000</td>\n",
              "      <td>46.000000</td>\n",
              "      <td>50.000000</td>\n",
              "      <td>5.700000</td>\n",
              "      <td>300.000000</td>\n",
              "      <td>6500.000000</td>\n",
              "      <td>3755.000000</td>\n",
              "      <td>27.000000</td>\n",
              "      <td>8.000000</td>\n",
              "      <td>219.000000</td>\n",
              "      <td>119.000000</td>\n",
              "      <td>78.000000</td>\n",
              "      <td>45.000000</td>\n",
              "      <td>36.000000</td>\n",
              "      <td>22.000000</td>\n",
              "      <td>4105.000000</td>\n",
              "    </tr>\n",
              "  </tbody>\n",
              "</table>\n",
              "</div>\n",
              "    <div class=\"colab-df-buttons\">\n",
              "\n",
              "  <div class=\"colab-df-container\">\n",
              "    <button class=\"colab-df-convert\" onclick=\"convertToInteractive('df-bfdc9ea0-7119-4cf2-9da7-5a738731d9b3')\"\n",
              "            title=\"Convert this dataframe to an interactive table.\"\n",
              "            style=\"display:none;\">\n",
              "\n",
              "  <svg xmlns=\"http://www.w3.org/2000/svg\" height=\"24px\" viewBox=\"0 -960 960 960\">\n",
              "    <path d=\"M120-120v-720h720v720H120Zm60-500h600v-160H180v160Zm220 220h160v-160H400v160Zm0 220h160v-160H400v160ZM180-400h160v-160H180v160Zm440 0h160v-160H620v160ZM180-180h160v-160H180v160Zm440 0h160v-160H620v160Z\"/>\n",
              "  </svg>\n",
              "    </button>\n",
              "\n",
              "  <style>\n",
              "    .colab-df-container {\n",
              "      display:flex;\n",
              "      gap: 12px;\n",
              "    }\n",
              "\n",
              "    .colab-df-convert {\n",
              "      background-color: #E8F0FE;\n",
              "      border: none;\n",
              "      border-radius: 50%;\n",
              "      cursor: pointer;\n",
              "      display: none;\n",
              "      fill: #1967D2;\n",
              "      height: 32px;\n",
              "      padding: 0 0 0 0;\n",
              "      width: 32px;\n",
              "    }\n",
              "\n",
              "    .colab-df-convert:hover {\n",
              "      background-color: #E2EBFA;\n",
              "      box-shadow: 0px 1px 2px rgba(60, 64, 67, 0.3), 0px 1px 3px 1px rgba(60, 64, 67, 0.15);\n",
              "      fill: #174EA6;\n",
              "    }\n",
              "\n",
              "    .colab-df-buttons div {\n",
              "      margin-bottom: 4px;\n",
              "    }\n",
              "\n",
              "    [theme=dark] .colab-df-convert {\n",
              "      background-color: #3B4455;\n",
              "      fill: #D2E3FC;\n",
              "    }\n",
              "\n",
              "    [theme=dark] .colab-df-convert:hover {\n",
              "      background-color: #434B5C;\n",
              "      box-shadow: 0px 1px 3px 1px rgba(0, 0, 0, 0.15);\n",
              "      filter: drop-shadow(0px 1px 2px rgba(0, 0, 0, 0.3));\n",
              "      fill: #FFFFFF;\n",
              "    }\n",
              "  </style>\n",
              "\n",
              "    <script>\n",
              "      const buttonEl =\n",
              "        document.querySelector('#df-bfdc9ea0-7119-4cf2-9da7-5a738731d9b3 button.colab-df-convert');\n",
              "      buttonEl.style.display =\n",
              "        google.colab.kernel.accessAllowed ? 'block' : 'none';\n",
              "\n",
              "      async function convertToInteractive(key) {\n",
              "        const element = document.querySelector('#df-bfdc9ea0-7119-4cf2-9da7-5a738731d9b3');\n",
              "        const dataTable =\n",
              "          await google.colab.kernel.invokeFunction('convertToInteractive',\n",
              "                                                    [key], {});\n",
              "        if (!dataTable) return;\n",
              "\n",
              "        const docLinkHtml = 'Like what you see? Visit the ' +\n",
              "          '<a target=\"_blank\" href=https://colab.research.google.com/notebooks/data_table.ipynb>data table notebook</a>'\n",
              "          + ' to learn more about interactive tables.';\n",
              "        element.innerHTML = '';\n",
              "        dataTable['output_type'] = 'display_data';\n",
              "        await google.colab.output.renderOutput(dataTable, element);\n",
              "        const docLink = document.createElement('div');\n",
              "        docLink.innerHTML = docLinkHtml;\n",
              "        element.appendChild(docLink);\n",
              "      }\n",
              "    </script>\n",
              "  </div>\n",
              "\n",
              "\n",
              "<div id=\"df-e857ab78-331d-4c12-afe1-991c2a39398f\">\n",
              "  <button class=\"colab-df-quickchart\" onclick=\"quickchart('df-e857ab78-331d-4c12-afe1-991c2a39398f')\"\n",
              "            title=\"Suggest charts\"\n",
              "            style=\"display:none;\">\n",
              "\n",
              "<svg xmlns=\"http://www.w3.org/2000/svg\" height=\"24px\"viewBox=\"0 0 24 24\"\n",
              "     width=\"24px\">\n",
              "    <g>\n",
              "        <path d=\"M19 3H5c-1.1 0-2 .9-2 2v14c0 1.1.9 2 2 2h14c1.1 0 2-.9 2-2V5c0-1.1-.9-2-2-2zM9 17H7v-7h2v7zm4 0h-2V7h2v10zm4 0h-2v-4h2v4z\"/>\n",
              "    </g>\n",
              "</svg>\n",
              "  </button>\n",
              "\n",
              "<style>\n",
              "  .colab-df-quickchart {\n",
              "      --bg-color: #E8F0FE;\n",
              "      --fill-color: #1967D2;\n",
              "      --hover-bg-color: #E2EBFA;\n",
              "      --hover-fill-color: #174EA6;\n",
              "      --disabled-fill-color: #AAA;\n",
              "      --disabled-bg-color: #DDD;\n",
              "  }\n",
              "\n",
              "  [theme=dark] .colab-df-quickchart {\n",
              "      --bg-color: #3B4455;\n",
              "      --fill-color: #D2E3FC;\n",
              "      --hover-bg-color: #434B5C;\n",
              "      --hover-fill-color: #FFFFFF;\n",
              "      --disabled-bg-color: #3B4455;\n",
              "      --disabled-fill-color: #666;\n",
              "  }\n",
              "\n",
              "  .colab-df-quickchart {\n",
              "    background-color: var(--bg-color);\n",
              "    border: none;\n",
              "    border-radius: 50%;\n",
              "    cursor: pointer;\n",
              "    display: none;\n",
              "    fill: var(--fill-color);\n",
              "    height: 32px;\n",
              "    padding: 0;\n",
              "    width: 32px;\n",
              "  }\n",
              "\n",
              "  .colab-df-quickchart:hover {\n",
              "    background-color: var(--hover-bg-color);\n",
              "    box-shadow: 0 1px 2px rgba(60, 64, 67, 0.3), 0 1px 3px 1px rgba(60, 64, 67, 0.15);\n",
              "    fill: var(--button-hover-fill-color);\n",
              "  }\n",
              "\n",
              "  .colab-df-quickchart-complete:disabled,\n",
              "  .colab-df-quickchart-complete:disabled:hover {\n",
              "    background-color: var(--disabled-bg-color);\n",
              "    fill: var(--disabled-fill-color);\n",
              "    box-shadow: none;\n",
              "  }\n",
              "\n",
              "  .colab-df-spinner {\n",
              "    border: 2px solid var(--fill-color);\n",
              "    border-color: transparent;\n",
              "    border-bottom-color: var(--fill-color);\n",
              "    animation:\n",
              "      spin 1s steps(1) infinite;\n",
              "  }\n",
              "\n",
              "  @keyframes spin {\n",
              "    0% {\n",
              "      border-color: transparent;\n",
              "      border-bottom-color: var(--fill-color);\n",
              "      border-left-color: var(--fill-color);\n",
              "    }\n",
              "    20% {\n",
              "      border-color: transparent;\n",
              "      border-left-color: var(--fill-color);\n",
              "      border-top-color: var(--fill-color);\n",
              "    }\n",
              "    30% {\n",
              "      border-color: transparent;\n",
              "      border-left-color: var(--fill-color);\n",
              "      border-top-color: var(--fill-color);\n",
              "      border-right-color: var(--fill-color);\n",
              "    }\n",
              "    40% {\n",
              "      border-color: transparent;\n",
              "      border-right-color: var(--fill-color);\n",
              "      border-top-color: var(--fill-color);\n",
              "    }\n",
              "    60% {\n",
              "      border-color: transparent;\n",
              "      border-right-color: var(--fill-color);\n",
              "    }\n",
              "    80% {\n",
              "      border-color: transparent;\n",
              "      border-right-color: var(--fill-color);\n",
              "      border-bottom-color: var(--fill-color);\n",
              "    }\n",
              "    90% {\n",
              "      border-color: transparent;\n",
              "      border-bottom-color: var(--fill-color);\n",
              "    }\n",
              "  }\n",
              "</style>\n",
              "\n",
              "  <script>\n",
              "    async function quickchart(key) {\n",
              "      const quickchartButtonEl =\n",
              "        document.querySelector('#' + key + ' button');\n",
              "      quickchartButtonEl.disabled = true;  // To prevent multiple clicks.\n",
              "      quickchartButtonEl.classList.add('colab-df-spinner');\n",
              "      try {\n",
              "        const charts = await google.colab.kernel.invokeFunction(\n",
              "            'suggestCharts', [key], {});\n",
              "      } catch (error) {\n",
              "        console.error('Error during call to suggestCharts:', error);\n",
              "      }\n",
              "      quickchartButtonEl.classList.remove('colab-df-spinner');\n",
              "      quickchartButtonEl.classList.add('colab-df-quickchart-complete');\n",
              "    }\n",
              "    (() => {\n",
              "      let quickchartButtonEl =\n",
              "        document.querySelector('#df-e857ab78-331d-4c12-afe1-991c2a39398f button');\n",
              "      quickchartButtonEl.style.display =\n",
              "        google.colab.kernel.accessAllowed ? 'block' : 'none';\n",
              "    })();\n",
              "  </script>\n",
              "</div>\n",
              "    </div>\n",
              "  </div>\n"
            ],
            "application/vnd.google.colaboratory.intrinsic+json": {
              "type": "dataframe",
              "variable_name": "statistics",
              "summary": "{\n  \"name\": \"statistics\",\n  \"rows\": 8,\n  \"fields\": [\n    {\n      \"column\": \"Min.Price\",\n      \"properties\": {\n        \"dtype\": \"number\",\n        \"std\": 27.033125999305867,\n        \"min\": 6.7,\n        \"max\": 86.0,\n        \"num_unique_values\": 8,\n        \"samples\": [\n          17.118604651162787,\n          14.6,\n          86.0\n        ],\n        \"semantic_type\": \"\",\n        \"description\": \"\"\n      }\n    },\n    {\n      \"column\": \"Price\",\n      \"properties\": {\n        \"dtype\": \"number\",\n        \"std\": 29.933455077749265,\n        \"min\": 7.4,\n        \"max\": 91.0,\n        \"num_unique_values\": 8,\n        \"samples\": [\n          19.61648351648352,\n          17.7,\n          91.0\n        ],\n        \"semantic_type\": \"\",\n        \"description\": \"\"\n      }\n    },\n    {\n      \"column\": \"Max.Price\",\n      \"properties\": {\n        \"dtype\": \"number\",\n        \"std\": 31.829750096523025,\n        \"min\": 7.9,\n        \"max\": 88.0,\n        \"num_unique_values\": 8,\n        \"samples\": [\n          21.45909090909091,\n          19.15,\n          88.0\n        ],\n        \"semantic_type\": \"\",\n        \"description\": \"\"\n      }\n    },\n    {\n      \"column\": \"MPG.city\",\n      \"properties\": {\n        \"dtype\": \"number\",\n        \"std\": 24.74836776461474,\n        \"min\": 5.841519540756266,\n        \"max\": 84.0,\n        \"num_unique_values\": 8,\n        \"samples\": [\n          22.404761904761905,\n          21.0,\n          84.0\n        ],\n        \"semantic_type\": \"\",\n        \"description\": \"\"\n      }\n    },\n    {\n      \"column\": \"MPG.highway\",\n      \"properties\": {\n        \"dtype\": \"number\",\n        \"std\": 25.760182114395604,\n        \"min\": 5.370293180083265,\n        \"max\": 91.0,\n        \"num_unique_values\": 8,\n        \"samples\": [\n          29.065934065934066,\n          28.0,\n          91.0\n        ],\n        \"semantic_type\": \"\",\n        \"description\": \"\"\n      }\n    },\n    {\n      \"column\": \"EngineSize\",\n      \"properties\": {\n        \"dtype\": \"number\",\n        \"std\": 31.312505739249612,\n        \"min\": 1.0,\n        \"max\": 91.0,\n        \"num_unique_values\": 8,\n        \"samples\": [\n          2.6582417582417586,\n          2.3,\n          91.0\n        ],\n        \"semantic_type\": \"\",\n        \"description\": \"\"\n      }\n    },\n    {\n      \"column\": \"Horsepower\",\n      \"properties\": {\n        \"dtype\": \"number\",\n        \"std\": 80.23276525060052,\n        \"min\": 53.45520389568645,\n        \"max\": 300.0,\n        \"num_unique_values\": 8,\n        \"samples\": [\n          144.0,\n          140.0,\n          86.0\n        ],\n        \"semantic_type\": \"\",\n        \"description\": \"\"\n      }\n    },\n    {\n      \"column\": \"RPM\",\n      \"properties\": {\n        \"dtype\": \"number\",\n        \"std\": 2390.6050141736528,\n        \"min\": 90.0,\n        \"max\": 6500.0,\n        \"num_unique_values\": 8,\n        \"samples\": [\n          5276.666666666667,\n          5200.0,\n          90.0\n        ],\n        \"semantic_type\": \"\",\n        \"description\": \"\"\n      }\n    },\n    {\n      \"column\": \"Rev.per.mile\",\n      \"properties\": {\n        \"dtype\": \"number\",\n        \"std\": 1190.9070273316554,\n        \"min\": 87.0,\n        \"max\": 3755.0,\n        \"num_unique_values\": 8,\n        \"samples\": [\n          2355.0,\n          2360.0,\n          87.0\n        ],\n        \"semantic_type\": \"\",\n        \"description\": \"\"\n      }\n    },\n    {\n      \"column\": \"Fuel.tank.capacity\",\n      \"properties\": {\n        \"dtype\": \"number\",\n        \"std\": 25.633019744468406,\n        \"min\": 3.375748490505248,\n        \"max\": 85.0,\n        \"num_unique_values\": 8,\n        \"samples\": [\n          16.683529411764706,\n          16.5,\n          85.0\n        ],\n        \"semantic_type\": \"\",\n        \"description\": \"\"\n      }\n    },\n    {\n      \"column\": \"Passengers\",\n      \"properties\": {\n        \"dtype\": \"number\",\n        \"std\": 30.679494235649305,\n        \"min\": 1.0459527207369812,\n        \"max\": 91.0,\n        \"num_unique_values\": 8,\n        \"samples\": [\n          5.076923076923077,\n          5.0,\n          91.0\n        ],\n        \"semantic_type\": \"\",\n        \"description\": \"\"\n      }\n    },\n    {\n      \"column\": \"Length\",\n      \"properties\": {\n        \"dtype\": \"number\",\n        \"std\": 66.7833583053467,\n        \"min\": 14.792650978869045,\n        \"max\": 219.0,\n        \"num_unique_values\": 8,\n        \"samples\": [\n          182.86516853932585,\n          181.0,\n          89.0\n        ],\n        \"semantic_type\": \"\",\n        \"description\": \"\"\n      }\n    },\n    {\n      \"column\": \"Wheelbase\",\n      \"properties\": {\n        \"dtype\": \"number\",\n        \"std\": 35.019724185346185,\n        \"min\": 6.856316640780465,\n        \"max\": 119.0,\n        \"num_unique_values\": 8,\n        \"samples\": [\n          103.95652173913044,\n          103.0,\n          92.0\n        ],\n        \"semantic_type\": \"\",\n        \"description\": \"\"\n      }\n    },\n    {\n      \"column\": \"Width\",\n      \"properties\": {\n        \"dtype\": \"number\",\n        \"std\": 25.329833607467467,\n        \"min\": 3.7780228023541977,\n        \"max\": 87.0,\n        \"num_unique_values\": 8,\n        \"samples\": [\n          69.44827586206897,\n          69.0,\n          87.0\n        ],\n        \"semantic_type\": \"\",\n        \"description\": \"\"\n      }\n    },\n    {\n      \"column\": \"Turn.circle\",\n      \"properties\": {\n        \"dtype\": \"number\",\n        \"std\": 23.174526764959545,\n        \"min\": 3.3041565286357466,\n        \"max\": 88.0,\n        \"num_unique_values\": 8,\n        \"samples\": [\n          38.95454545454545,\n          39.0,\n          88.0\n        ],\n        \"semantic_type\": \"\",\n        \"description\": \"\"\n      }\n    },\n    {\n      \"column\": \"Rear.seat.room\",\n      \"properties\": {\n        \"dtype\": \"number\",\n        \"std\": 24.93043285766785,\n        \"min\": 3.0181291684123885,\n        \"max\": 89.0,\n        \"num_unique_values\": 8,\n        \"samples\": [\n          27.853932584269664,\n          27.5,\n          89.0\n        ],\n        \"semantic_type\": \"\",\n        \"description\": \"\"\n      }\n    },\n    {\n      \"column\": \"Luggage.room\",\n      \"properties\": {\n        \"dtype\": \"number\",\n        \"std\": 22.529078569976303,\n        \"min\": 3.1208237551604516,\n        \"max\": 74.0,\n        \"num_unique_values\": 8,\n        \"samples\": [\n          13.986486486486486,\n          14.0,\n          74.0\n        ],\n        \"semantic_type\": \"\",\n        \"description\": \"\"\n      }\n    },\n    {\n      \"column\": \"Weight\",\n      \"properties\": {\n        \"dtype\": \"number\",\n        \"std\": 1433.0890879385177,\n        \"min\": 86.0,\n        \"max\": 4105.0,\n        \"num_unique_values\": 8,\n        \"samples\": [\n          3104.593023255814,\n          3085.0,\n          86.0\n        ],\n        \"semantic_type\": \"\",\n        \"description\": \"\"\n      }\n    }\n  ]\n}"
            }
          },
          "metadata": {},
          "execution_count": 40
        }
      ]
    },
    {
      "cell_type": "markdown",
      "source": [
        "## Упражнение № 37\n",
        "\n",
        "Извлеките номер строки и столбца конкретной ячейки по заданному критерию.\n"
      ],
      "metadata": {
        "id": "mZwym4wHrsNt"
      }
    },
    {
      "cell_type": "code",
      "source": [
        "url = 'https://raw.githubusercontent.com/selva86/datasets/master/Cars93_miss.csv'\n",
        "df = pd.read_csv(url)\n",
        "max_price_idx = df['Price'].idxmax()\n",
        "max_price_row = df.loc[max_price_idx]\n",
        "print(\"Производитель, модель и тип с наибольшей ценой:\", max_price_row[['Manufacturer', 'Model', 'Type']])\n",
        "print(\"Номер строки и столбца:\", max_price_idx, df.columns.get_loc('Price'))"
      ],
      "metadata": {
        "colab": {
          "base_uri": "https://localhost:8080/"
        },
        "id": "xXD-Ke2IrtP2",
        "outputId": "6505b883-14ae-4e0e-9664-cd8c02faf2f5"
      },
      "execution_count": null,
      "outputs": [
        {
          "output_type": "stream",
          "name": "stdout",
          "text": [
            "Производитель, модель и тип с наибольшей ценой: Manufacturer    Mercedes-Benz\n",
            "Model                    300E\n",
            "Type                  Midsize\n",
            "Name: 58, dtype: object\n",
            "Номер строки и столбца: 58 4\n"
          ]
        }
      ]
    },
    {
      "cell_type": "markdown",
      "source": [
        "## Упражнение № 38\n",
        "\n",
        "Переименуйте в `df` столбец `Type` в `CarType` и замените `.` в именах столбцов на `_`."
      ],
      "metadata": {
        "id": "KhOl1bawrxQo"
      }
    },
    {
      "cell_type": "code",
      "source": [
        "url = 'https://raw.githubusercontent.com/selva86/datasets/master/Cars93_miss.csv'\n",
        "df = pd.read_csv(url)\n",
        "df.rename(columns={'Type': 'CarType'}, inplace=True)\n",
        "df.columns = df.columns.str.replace('.', '_')\n",
        "print(df.columns)"
      ],
      "metadata": {
        "colab": {
          "base_uri": "https://localhost:8080/"
        },
        "id": "aAFiLlVXrzf0",
        "outputId": "dda32409-6527-4e79-a25f-c6d3f759c6bd"
      },
      "execution_count": null,
      "outputs": [
        {
          "output_type": "stream",
          "name": "stdout",
          "text": [
            "Index(['Manufacturer', 'Model', 'CarType', 'Min_Price', 'Price', 'Max_Price',\n",
            "       'MPG_city', 'MPG_highway', 'AirBags', 'DriveTrain', 'Cylinders',\n",
            "       'EngineSize', 'Horsepower', 'RPM', 'Rev_per_mile', 'Man_trans_avail',\n",
            "       'Fuel_tank_capacity', 'Passengers', 'Length', 'Wheelbase', 'Width',\n",
            "       'Turn_circle', 'Rear_seat_room', 'Luggage_room', 'Weight', 'Origin',\n",
            "       'Make'],\n",
            "      dtype='object')\n"
          ]
        }
      ]
    },
    {
      "cell_type": "markdown",
      "source": [
        "## Упражнение № 39\n",
        "\n",
        "Проверьте, нет ли в `df` отсутствующих значений.\n"
      ],
      "metadata": {
        "id": "iwR4v6x1sBFM"
      }
    },
    {
      "cell_type": "code",
      "source": [
        "df =pd.read_csv('https://raw.githubusercontent.com/selva86/datasets/master/Cars93_miss.csv')\n",
        "print(df.isna().any().any())\n"
      ],
      "metadata": {
        "colab": {
          "base_uri": "https://localhost:8080/"
        },
        "id": "pRVvHHlpsEZA",
        "outputId": "e4257d57-651a-4d6c-cf6e-680c5eb12101"
      },
      "execution_count": null,
      "outputs": [
        {
          "output_type": "stream",
          "name": "stdout",
          "text": [
            "True\n"
          ]
        }
      ]
    },
    {
      "cell_type": "markdown",
      "source": [
        "## Упражнение № 40\n",
        "\n",
        "Подсчитайте количество пропущенных значений в каждом столбце `df`. Какой столбец имеет наибольшее число пропущенных значений?\n"
      ],
      "metadata": {
        "id": "mbWBGbKMsd3q"
      }
    },
    {
      "cell_type": "code",
      "source": [
        "url = 'https://raw.githubusercontent.com/selva86/datasets/master/Cars93_miss.csv'\n",
        "df = pd.read_csv(url)\n",
        "missing_counts = df.isnull().sum()\n",
        "print(\"Количество пропущенных значений:\\n\", missing_counts)\n",
        "print(\"Столбец с наибольшим числом пропусков:\", missing_counts.idxmax())\n"
      ],
      "metadata": {
        "colab": {
          "base_uri": "https://localhost:8080/"
        },
        "id": "nZqVoLFyslJK",
        "outputId": "36c171c9-0b71-426a-875a-60cc1f9dee3e"
      },
      "execution_count": null,
      "outputs": [
        {
          "output_type": "stream",
          "name": "stdout",
          "text": [
            "Количество пропущенных значений:\n",
            " Manufacturer           4\n",
            "Model                  1\n",
            "Type                   3\n",
            "Min.Price              7\n",
            "Price                  2\n",
            "Max.Price              5\n",
            "MPG.city               9\n",
            "MPG.highway            2\n",
            "AirBags               38\n",
            "DriveTrain             7\n",
            "Cylinders              5\n",
            "EngineSize             2\n",
            "Horsepower             7\n",
            "RPM                    3\n",
            "Rev.per.mile           6\n",
            "Man.trans.avail        5\n",
            "Fuel.tank.capacity     8\n",
            "Passengers             2\n",
            "Length                 4\n",
            "Wheelbase              1\n",
            "Width                  6\n",
            "Turn.circle            5\n",
            "Rear.seat.room         4\n",
            "Luggage.room          19\n",
            "Weight                 7\n",
            "Origin                 5\n",
            "Make                   3\n",
            "dtype: int64\n",
            "Столбец с наибольшим числом пропусков: AirBags\n"
          ]
        }
      ]
    },
    {
      "cell_type": "markdown",
      "source": [
        "## Упражнение № 41\n",
        "\n",
        "Замените отсутствующие значения в столбцах `Min.Price` и `Max.Price` на соответствующие им средние значения.\n"
      ],
      "metadata": {
        "id": "eYTBR2u_s1yu"
      }
    },
    {
      "cell_type": "code",
      "source": [
        "df =pd.read_csv('https://raw.githubusercontent.com/selva86/datasets/master/Cars93_miss.csv',usecols=['Max.Price','Min.Price'])\n",
        "\n",
        "df['Min.Price'] = df['Min.Price'].fillna(df['Min.Price'].mean())\n",
        "df['Max.Price'] = df['Max.Price'].fillna(df[\"Max.Price\"].mean())\n",
        "df"
      ],
      "metadata": {
        "colab": {
          "base_uri": "https://localhost:8080/",
          "height": 423
        },
        "id": "3d2jnAo4sypb",
        "outputId": "fd217748-6f9b-4d60-d274-541519e521e7"
      },
      "execution_count": null,
      "outputs": [
        {
          "output_type": "execute_result",
          "data": {
            "text/plain": [
              "    Min.Price  Max.Price\n",
              "0   12.900000  18.800000\n",
              "1   29.200000  38.700000\n",
              "2   25.900000  32.300000\n",
              "3   17.118605  44.600000\n",
              "4   17.118605  21.459091\n",
              "..        ...        ...\n",
              "88  16.600000  22.700000\n",
              "89  17.600000  22.400000\n",
              "90  22.900000  23.700000\n",
              "91  21.800000  23.500000\n",
              "92  24.800000  28.500000\n",
              "\n",
              "[93 rows x 2 columns]"
            ],
            "text/html": [
              "\n",
              "  <div id=\"df-4e87aaea-1d15-476b-8d9b-a2061fd3de4f\" class=\"colab-df-container\">\n",
              "    <div>\n",
              "<style scoped>\n",
              "    .dataframe tbody tr th:only-of-type {\n",
              "        vertical-align: middle;\n",
              "    }\n",
              "\n",
              "    .dataframe tbody tr th {\n",
              "        vertical-align: top;\n",
              "    }\n",
              "\n",
              "    .dataframe thead th {\n",
              "        text-align: right;\n",
              "    }\n",
              "</style>\n",
              "<table border=\"1\" class=\"dataframe\">\n",
              "  <thead>\n",
              "    <tr style=\"text-align: right;\">\n",
              "      <th></th>\n",
              "      <th>Min.Price</th>\n",
              "      <th>Max.Price</th>\n",
              "    </tr>\n",
              "  </thead>\n",
              "  <tbody>\n",
              "    <tr>\n",
              "      <th>0</th>\n",
              "      <td>12.900000</td>\n",
              "      <td>18.800000</td>\n",
              "    </tr>\n",
              "    <tr>\n",
              "      <th>1</th>\n",
              "      <td>29.200000</td>\n",
              "      <td>38.700000</td>\n",
              "    </tr>\n",
              "    <tr>\n",
              "      <th>2</th>\n",
              "      <td>25.900000</td>\n",
              "      <td>32.300000</td>\n",
              "    </tr>\n",
              "    <tr>\n",
              "      <th>3</th>\n",
              "      <td>17.118605</td>\n",
              "      <td>44.600000</td>\n",
              "    </tr>\n",
              "    <tr>\n",
              "      <th>4</th>\n",
              "      <td>17.118605</td>\n",
              "      <td>21.459091</td>\n",
              "    </tr>\n",
              "    <tr>\n",
              "      <th>...</th>\n",
              "      <td>...</td>\n",
              "      <td>...</td>\n",
              "    </tr>\n",
              "    <tr>\n",
              "      <th>88</th>\n",
              "      <td>16.600000</td>\n",
              "      <td>22.700000</td>\n",
              "    </tr>\n",
              "    <tr>\n",
              "      <th>89</th>\n",
              "      <td>17.600000</td>\n",
              "      <td>22.400000</td>\n",
              "    </tr>\n",
              "    <tr>\n",
              "      <th>90</th>\n",
              "      <td>22.900000</td>\n",
              "      <td>23.700000</td>\n",
              "    </tr>\n",
              "    <tr>\n",
              "      <th>91</th>\n",
              "      <td>21.800000</td>\n",
              "      <td>23.500000</td>\n",
              "    </tr>\n",
              "    <tr>\n",
              "      <th>92</th>\n",
              "      <td>24.800000</td>\n",
              "      <td>28.500000</td>\n",
              "    </tr>\n",
              "  </tbody>\n",
              "</table>\n",
              "<p>93 rows × 2 columns</p>\n",
              "</div>\n",
              "    <div class=\"colab-df-buttons\">\n",
              "\n",
              "  <div class=\"colab-df-container\">\n",
              "    <button class=\"colab-df-convert\" onclick=\"convertToInteractive('df-4e87aaea-1d15-476b-8d9b-a2061fd3de4f')\"\n",
              "            title=\"Convert this dataframe to an interactive table.\"\n",
              "            style=\"display:none;\">\n",
              "\n",
              "  <svg xmlns=\"http://www.w3.org/2000/svg\" height=\"24px\" viewBox=\"0 -960 960 960\">\n",
              "    <path d=\"M120-120v-720h720v720H120Zm60-500h600v-160H180v160Zm220 220h160v-160H400v160Zm0 220h160v-160H400v160ZM180-400h160v-160H180v160Zm440 0h160v-160H620v160ZM180-180h160v-160H180v160Zm440 0h160v-160H620v160Z\"/>\n",
              "  </svg>\n",
              "    </button>\n",
              "\n",
              "  <style>\n",
              "    .colab-df-container {\n",
              "      display:flex;\n",
              "      gap: 12px;\n",
              "    }\n",
              "\n",
              "    .colab-df-convert {\n",
              "      background-color: #E8F0FE;\n",
              "      border: none;\n",
              "      border-radius: 50%;\n",
              "      cursor: pointer;\n",
              "      display: none;\n",
              "      fill: #1967D2;\n",
              "      height: 32px;\n",
              "      padding: 0 0 0 0;\n",
              "      width: 32px;\n",
              "    }\n",
              "\n",
              "    .colab-df-convert:hover {\n",
              "      background-color: #E2EBFA;\n",
              "      box-shadow: 0px 1px 2px rgba(60, 64, 67, 0.3), 0px 1px 3px 1px rgba(60, 64, 67, 0.15);\n",
              "      fill: #174EA6;\n",
              "    }\n",
              "\n",
              "    .colab-df-buttons div {\n",
              "      margin-bottom: 4px;\n",
              "    }\n",
              "\n",
              "    [theme=dark] .colab-df-convert {\n",
              "      background-color: #3B4455;\n",
              "      fill: #D2E3FC;\n",
              "    }\n",
              "\n",
              "    [theme=dark] .colab-df-convert:hover {\n",
              "      background-color: #434B5C;\n",
              "      box-shadow: 0px 1px 3px 1px rgba(0, 0, 0, 0.15);\n",
              "      filter: drop-shadow(0px 1px 2px rgba(0, 0, 0, 0.3));\n",
              "      fill: #FFFFFF;\n",
              "    }\n",
              "  </style>\n",
              "\n",
              "    <script>\n",
              "      const buttonEl =\n",
              "        document.querySelector('#df-4e87aaea-1d15-476b-8d9b-a2061fd3de4f button.colab-df-convert');\n",
              "      buttonEl.style.display =\n",
              "        google.colab.kernel.accessAllowed ? 'block' : 'none';\n",
              "\n",
              "      async function convertToInteractive(key) {\n",
              "        const element = document.querySelector('#df-4e87aaea-1d15-476b-8d9b-a2061fd3de4f');\n",
              "        const dataTable =\n",
              "          await google.colab.kernel.invokeFunction('convertToInteractive',\n",
              "                                                    [key], {});\n",
              "        if (!dataTable) return;\n",
              "\n",
              "        const docLinkHtml = 'Like what you see? Visit the ' +\n",
              "          '<a target=\"_blank\" href=https://colab.research.google.com/notebooks/data_table.ipynb>data table notebook</a>'\n",
              "          + ' to learn more about interactive tables.';\n",
              "        element.innerHTML = '';\n",
              "        dataTable['output_type'] = 'display_data';\n",
              "        await google.colab.output.renderOutput(dataTable, element);\n",
              "        const docLink = document.createElement('div');\n",
              "        docLink.innerHTML = docLinkHtml;\n",
              "        element.appendChild(docLink);\n",
              "      }\n",
              "    </script>\n",
              "  </div>\n",
              "\n",
              "\n",
              "<div id=\"df-02647466-68b0-44eb-a1f1-63154033b919\">\n",
              "  <button class=\"colab-df-quickchart\" onclick=\"quickchart('df-02647466-68b0-44eb-a1f1-63154033b919')\"\n",
              "            title=\"Suggest charts\"\n",
              "            style=\"display:none;\">\n",
              "\n",
              "<svg xmlns=\"http://www.w3.org/2000/svg\" height=\"24px\"viewBox=\"0 0 24 24\"\n",
              "     width=\"24px\">\n",
              "    <g>\n",
              "        <path d=\"M19 3H5c-1.1 0-2 .9-2 2v14c0 1.1.9 2 2 2h14c1.1 0 2-.9 2-2V5c0-1.1-.9-2-2-2zM9 17H7v-7h2v7zm4 0h-2V7h2v10zm4 0h-2v-4h2v4z\"/>\n",
              "    </g>\n",
              "</svg>\n",
              "  </button>\n",
              "\n",
              "<style>\n",
              "  .colab-df-quickchart {\n",
              "      --bg-color: #E8F0FE;\n",
              "      --fill-color: #1967D2;\n",
              "      --hover-bg-color: #E2EBFA;\n",
              "      --hover-fill-color: #174EA6;\n",
              "      --disabled-fill-color: #AAA;\n",
              "      --disabled-bg-color: #DDD;\n",
              "  }\n",
              "\n",
              "  [theme=dark] .colab-df-quickchart {\n",
              "      --bg-color: #3B4455;\n",
              "      --fill-color: #D2E3FC;\n",
              "      --hover-bg-color: #434B5C;\n",
              "      --hover-fill-color: #FFFFFF;\n",
              "      --disabled-bg-color: #3B4455;\n",
              "      --disabled-fill-color: #666;\n",
              "  }\n",
              "\n",
              "  .colab-df-quickchart {\n",
              "    background-color: var(--bg-color);\n",
              "    border: none;\n",
              "    border-radius: 50%;\n",
              "    cursor: pointer;\n",
              "    display: none;\n",
              "    fill: var(--fill-color);\n",
              "    height: 32px;\n",
              "    padding: 0;\n",
              "    width: 32px;\n",
              "  }\n",
              "\n",
              "  .colab-df-quickchart:hover {\n",
              "    background-color: var(--hover-bg-color);\n",
              "    box-shadow: 0 1px 2px rgba(60, 64, 67, 0.3), 0 1px 3px 1px rgba(60, 64, 67, 0.15);\n",
              "    fill: var(--button-hover-fill-color);\n",
              "  }\n",
              "\n",
              "  .colab-df-quickchart-complete:disabled,\n",
              "  .colab-df-quickchart-complete:disabled:hover {\n",
              "    background-color: var(--disabled-bg-color);\n",
              "    fill: var(--disabled-fill-color);\n",
              "    box-shadow: none;\n",
              "  }\n",
              "\n",
              "  .colab-df-spinner {\n",
              "    border: 2px solid var(--fill-color);\n",
              "    border-color: transparent;\n",
              "    border-bottom-color: var(--fill-color);\n",
              "    animation:\n",
              "      spin 1s steps(1) infinite;\n",
              "  }\n",
              "\n",
              "  @keyframes spin {\n",
              "    0% {\n",
              "      border-color: transparent;\n",
              "      border-bottom-color: var(--fill-color);\n",
              "      border-left-color: var(--fill-color);\n",
              "    }\n",
              "    20% {\n",
              "      border-color: transparent;\n",
              "      border-left-color: var(--fill-color);\n",
              "      border-top-color: var(--fill-color);\n",
              "    }\n",
              "    30% {\n",
              "      border-color: transparent;\n",
              "      border-left-color: var(--fill-color);\n",
              "      border-top-color: var(--fill-color);\n",
              "      border-right-color: var(--fill-color);\n",
              "    }\n",
              "    40% {\n",
              "      border-color: transparent;\n",
              "      border-right-color: var(--fill-color);\n",
              "      border-top-color: var(--fill-color);\n",
              "    }\n",
              "    60% {\n",
              "      border-color: transparent;\n",
              "      border-right-color: var(--fill-color);\n",
              "    }\n",
              "    80% {\n",
              "      border-color: transparent;\n",
              "      border-right-color: var(--fill-color);\n",
              "      border-bottom-color: var(--fill-color);\n",
              "    }\n",
              "    90% {\n",
              "      border-color: transparent;\n",
              "      border-bottom-color: var(--fill-color);\n",
              "    }\n",
              "  }\n",
              "</style>\n",
              "\n",
              "  <script>\n",
              "    async function quickchart(key) {\n",
              "      const quickchartButtonEl =\n",
              "        document.querySelector('#' + key + ' button');\n",
              "      quickchartButtonEl.disabled = true;  // To prevent multiple clicks.\n",
              "      quickchartButtonEl.classList.add('colab-df-spinner');\n",
              "      try {\n",
              "        const charts = await google.colab.kernel.invokeFunction(\n",
              "            'suggestCharts', [key], {});\n",
              "      } catch (error) {\n",
              "        console.error('Error during call to suggestCharts:', error);\n",
              "      }\n",
              "      quickchartButtonEl.classList.remove('colab-df-spinner');\n",
              "      quickchartButtonEl.classList.add('colab-df-quickchart-complete');\n",
              "    }\n",
              "    (() => {\n",
              "      let quickchartButtonEl =\n",
              "        document.querySelector('#df-02647466-68b0-44eb-a1f1-63154033b919 button');\n",
              "      quickchartButtonEl.style.display =\n",
              "        google.colab.kernel.accessAllowed ? 'block' : 'none';\n",
              "    })();\n",
              "  </script>\n",
              "</div>\n",
              "    </div>\n",
              "  </div>\n"
            ],
            "application/vnd.google.colaboratory.intrinsic+json": {
              "type": "dataframe",
              "variable_name": "df",
              "summary": "{\n  \"name\": \"df\",\n  \"rows\": 93,\n  \"fields\": [\n    {\n      \"column\": \"Min.Price\",\n      \"properties\": {\n        \"dtype\": \"number\",\n        \"std\": 8.485787499361953,\n        \"min\": 6.7,\n        \"max\": 45.4,\n        \"num_unique_values\": 73,\n        \"samples\": [\n          14.2,\n          20.3,\n          29.5\n        ],\n        \"semantic_type\": \"\",\n        \"description\": \"\"\n      }\n    },\n    {\n      \"column\": \"Max.Price\",\n      \"properties\": {\n        \"dtype\": \"number\",\n        \"std\": 10.401835502361198,\n        \"min\": 7.9,\n        \"max\": 80.0,\n        \"num_unique_values\": 77,\n        \"samples\": [\n          21.45909090909091,\n          21.7,\n          18.3\n        ],\n        \"semantic_type\": \"\",\n        \"description\": \"\"\n      }\n    }\n  ]\n}"
            }
          },
          "metadata": {},
          "execution_count": 48
        }
      ]
    },
    {
      "cell_type": "markdown",
      "source": [
        "## Упражнение № 42\n",
        "\n",
        "В `df` с помощью метода `apply` замените недостающие значения в `Min.Price` на среднее значение столбца, а в `Max.Price` — на медиану столбца.\n"
      ],
      "metadata": {
        "id": "WZmMo9ZqtCCC"
      }
    },
    {
      "cell_type": "code",
      "source": [
        "url = 'https://raw.githubusercontent.com/selva86/datasets/master/Cars93_miss.csv'\n",
        "df = pd.read_csv(url)\n",
        "df['Min.Price'] = df['Min.Price'].apply(lambda x: df['Min.Price'].mean() if pd.isnull(x) else x)\n",
        "df['Max.Price'] = df['Max.Price'].apply(lambda x: df['Max.Price'].median() if pd.isnull(x) else x)\n",
        "print(df[['Min.Price', 'Max.Price']].head())"
      ],
      "metadata": {
        "colab": {
          "base_uri": "https://localhost:8080/"
        },
        "id": "hui3xX8AtGF5",
        "outputId": "c9febba1-4bb0-452f-c2f7-35539a9b2c99"
      },
      "execution_count": null,
      "outputs": [
        {
          "output_type": "stream",
          "name": "stdout",
          "text": [
            "   Min.Price  Max.Price\n",
            "0  12.900000      18.80\n",
            "1  29.200000      38.70\n",
            "2  25.900000      32.30\n",
            "3  17.118605      44.60\n",
            "4  17.118605      19.15\n"
          ]
        }
      ]
    },
    {
      "cell_type": "markdown",
      "source": [
        "## Упражнение № 43\n",
        "\n",
        "Получите первый столбец (`a`) в `df` в виде датафрейма (а не в виде ряда)."
      ],
      "metadata": {
        "id": "Wx2nBatbtOvr"
      }
    },
    {
      "cell_type": "code",
      "source": [
        "df = pd.DataFrame(np.arange(20).reshape(-1, 5), columns=list('abcde'))\n",
        "result = df[['a']]\n",
        "print(result)"
      ],
      "metadata": {
        "colab": {
          "base_uri": "https://localhost:8080/"
        },
        "id": "y_cF73AjucwV",
        "outputId": "54cb9822-9bc9-439b-dbef-6b0340217ca0"
      },
      "execution_count": null,
      "outputs": [
        {
          "output_type": "stream",
          "name": "stdout",
          "text": [
            "    a\n",
            "0   0\n",
            "1   5\n",
            "2  10\n",
            "3  15\n"
          ]
        }
      ]
    },
    {
      "cell_type": "markdown",
      "source": [
        "## Упражнение № 44\n",
        "\n",
        "1. В `df` поменяйте местами столбцы `'a'` и `'c'`.\n",
        "2. Создайте обобщенную функцию для обмена данными между двумя столбцами без фиксированного задания имен столбцов.\n",
        "3. Отсортируйте столбцы в обратном алфавитном порядке, т.е. от столбца `'e'` до столбца `'a'`.\n"
      ],
      "metadata": {
        "id": "PjhOA4WJuio3"
      }
    },
    {
      "cell_type": "code",
      "source": [
        "df = pd.DataFrame(np.arange(20).reshape(-1, 5), columns=list('abcde'))\n",
        "df[['a', 'c']] = df[['c', 'a']]\n",
        "def swap_columns(df, col1, col2):\n",
        "    df[[col1, col2]] = df[[col2, col1]]\n",
        "    return df\n",
        "\n",
        "df = df[sorted(df.columns, reverse=True)]\n",
        "print(df)"
      ],
      "metadata": {
        "colab": {
          "base_uri": "https://localhost:8080/"
        },
        "id": "gZPSh0MAumm_",
        "outputId": "756795ab-6472-4c3a-9fdc-e6b172ae8697"
      },
      "execution_count": null,
      "outputs": [
        {
          "output_type": "stream",
          "name": "stdout",
          "text": [
            "    e   d   c   b   a\n",
            "0   4   3   0   1   2\n",
            "1   9   8   5   6   7\n",
            "2  14  13  10  11  12\n",
            "3  19  18  15  16  17\n"
          ]
        }
      ]
    },
    {
      "cell_type": "markdown",
      "source": [
        "## Упражнение № 45\n",
        "\n",
        "Измените настройки отображения `pandas` при выводе на печать датафрейма `df`, чтобы он показывал максимум 10 строк и 10 столбцов.\n"
      ],
      "metadata": {
        "id": "Iu5nEKLLur4Z"
      }
    },
    {
      "cell_type": "code",
      "source": [
        "df =pd.read_csv('https://raw.githubusercontent.com/selva86/datasets/master/Cars93_miss.csv')\n",
        "\n",
        "pd.set_option('display.max_columns', 10)\n",
        "pd.set_option('display.max_rows', 10)\n",
        "\n",
        "df"
      ],
      "metadata": {
        "colab": {
          "base_uri": "https://localhost:8080/",
          "height": 423
        },
        "id": "VWI6epNTutkT",
        "outputId": "de604436-7635-4af9-f2dd-f64a5be0ab02"
      },
      "execution_count": null,
      "outputs": [
        {
          "output_type": "execute_result",
          "data": {
            "text/plain": [
              "   Manufacturer    Model     Type  Min.Price  Price  ...  Rear.seat.room  \\\n",
              "0         Acura  Integra    Small       12.9   15.9  ...            26.5   \n",
              "1           NaN   Legend  Midsize       29.2   33.9  ...            30.0   \n",
              "2          Audi       90  Compact       25.9   29.1  ...            28.0   \n",
              "3          Audi      100  Midsize        NaN   37.7  ...            31.0   \n",
              "4           BMW     535i  Midsize        NaN   30.0  ...            27.0   \n",
              "..          ...      ...      ...        ...    ...  ...             ...   \n",
              "88   Volkswagen  Eurovan      Van       16.6   19.7  ...            34.0   \n",
              "89   Volkswagen   Passat  Compact       17.6   20.0  ...            31.5   \n",
              "90   Volkswagen  Corrado   Sporty       22.9   23.3  ...            26.0   \n",
              "91        Volvo      240  Compact       21.8   22.7  ...            29.5   \n",
              "92          NaN      850  Midsize       24.8   26.7  ...            30.0   \n",
              "\n",
              "    Luggage.room  Weight   Origin                Make  \n",
              "0            NaN  2705.0  non-USA       Acura Integra  \n",
              "1           15.0  3560.0  non-USA        Acura Legend  \n",
              "2           14.0  3375.0  non-USA             Audi 90  \n",
              "3           17.0  3405.0  non-USA            Audi 100  \n",
              "4           13.0  3640.0  non-USA            BMW 535i  \n",
              "..           ...     ...      ...                 ...  \n",
              "88           NaN  3960.0      NaN  Volkswagen Eurovan  \n",
              "89          14.0  2985.0  non-USA   Volkswagen Passat  \n",
              "90          15.0  2810.0  non-USA  Volkswagen Corrado  \n",
              "91          14.0  2985.0  non-USA           Volvo 240  \n",
              "92          15.0  3245.0  non-USA           Volvo 850  \n",
              "\n",
              "[93 rows x 27 columns]"
            ],
            "text/html": [
              "\n",
              "  <div id=\"df-c1d90add-dc9a-4b5f-a785-c1f8e5decfba\" class=\"colab-df-container\">\n",
              "    <div>\n",
              "<style scoped>\n",
              "    .dataframe tbody tr th:only-of-type {\n",
              "        vertical-align: middle;\n",
              "    }\n",
              "\n",
              "    .dataframe tbody tr th {\n",
              "        vertical-align: top;\n",
              "    }\n",
              "\n",
              "    .dataframe thead th {\n",
              "        text-align: right;\n",
              "    }\n",
              "</style>\n",
              "<table border=\"1\" class=\"dataframe\">\n",
              "  <thead>\n",
              "    <tr style=\"text-align: right;\">\n",
              "      <th></th>\n",
              "      <th>Manufacturer</th>\n",
              "      <th>Model</th>\n",
              "      <th>Type</th>\n",
              "      <th>Min.Price</th>\n",
              "      <th>Price</th>\n",
              "      <th>...</th>\n",
              "      <th>Rear.seat.room</th>\n",
              "      <th>Luggage.room</th>\n",
              "      <th>Weight</th>\n",
              "      <th>Origin</th>\n",
              "      <th>Make</th>\n",
              "    </tr>\n",
              "  </thead>\n",
              "  <tbody>\n",
              "    <tr>\n",
              "      <th>0</th>\n",
              "      <td>Acura</td>\n",
              "      <td>Integra</td>\n",
              "      <td>Small</td>\n",
              "      <td>12.9</td>\n",
              "      <td>15.9</td>\n",
              "      <td>...</td>\n",
              "      <td>26.5</td>\n",
              "      <td>NaN</td>\n",
              "      <td>2705.0</td>\n",
              "      <td>non-USA</td>\n",
              "      <td>Acura Integra</td>\n",
              "    </tr>\n",
              "    <tr>\n",
              "      <th>1</th>\n",
              "      <td>NaN</td>\n",
              "      <td>Legend</td>\n",
              "      <td>Midsize</td>\n",
              "      <td>29.2</td>\n",
              "      <td>33.9</td>\n",
              "      <td>...</td>\n",
              "      <td>30.0</td>\n",
              "      <td>15.0</td>\n",
              "      <td>3560.0</td>\n",
              "      <td>non-USA</td>\n",
              "      <td>Acura Legend</td>\n",
              "    </tr>\n",
              "    <tr>\n",
              "      <th>2</th>\n",
              "      <td>Audi</td>\n",
              "      <td>90</td>\n",
              "      <td>Compact</td>\n",
              "      <td>25.9</td>\n",
              "      <td>29.1</td>\n",
              "      <td>...</td>\n",
              "      <td>28.0</td>\n",
              "      <td>14.0</td>\n",
              "      <td>3375.0</td>\n",
              "      <td>non-USA</td>\n",
              "      <td>Audi 90</td>\n",
              "    </tr>\n",
              "    <tr>\n",
              "      <th>3</th>\n",
              "      <td>Audi</td>\n",
              "      <td>100</td>\n",
              "      <td>Midsize</td>\n",
              "      <td>NaN</td>\n",
              "      <td>37.7</td>\n",
              "      <td>...</td>\n",
              "      <td>31.0</td>\n",
              "      <td>17.0</td>\n",
              "      <td>3405.0</td>\n",
              "      <td>non-USA</td>\n",
              "      <td>Audi 100</td>\n",
              "    </tr>\n",
              "    <tr>\n",
              "      <th>4</th>\n",
              "      <td>BMW</td>\n",
              "      <td>535i</td>\n",
              "      <td>Midsize</td>\n",
              "      <td>NaN</td>\n",
              "      <td>30.0</td>\n",
              "      <td>...</td>\n",
              "      <td>27.0</td>\n",
              "      <td>13.0</td>\n",
              "      <td>3640.0</td>\n",
              "      <td>non-USA</td>\n",
              "      <td>BMW 535i</td>\n",
              "    </tr>\n",
              "    <tr>\n",
              "      <th>...</th>\n",
              "      <td>...</td>\n",
              "      <td>...</td>\n",
              "      <td>...</td>\n",
              "      <td>...</td>\n",
              "      <td>...</td>\n",
              "      <td>...</td>\n",
              "      <td>...</td>\n",
              "      <td>...</td>\n",
              "      <td>...</td>\n",
              "      <td>...</td>\n",
              "      <td>...</td>\n",
              "    </tr>\n",
              "    <tr>\n",
              "      <th>88</th>\n",
              "      <td>Volkswagen</td>\n",
              "      <td>Eurovan</td>\n",
              "      <td>Van</td>\n",
              "      <td>16.6</td>\n",
              "      <td>19.7</td>\n",
              "      <td>...</td>\n",
              "      <td>34.0</td>\n",
              "      <td>NaN</td>\n",
              "      <td>3960.0</td>\n",
              "      <td>NaN</td>\n",
              "      <td>Volkswagen Eurovan</td>\n",
              "    </tr>\n",
              "    <tr>\n",
              "      <th>89</th>\n",
              "      <td>Volkswagen</td>\n",
              "      <td>Passat</td>\n",
              "      <td>Compact</td>\n",
              "      <td>17.6</td>\n",
              "      <td>20.0</td>\n",
              "      <td>...</td>\n",
              "      <td>31.5</td>\n",
              "      <td>14.0</td>\n",
              "      <td>2985.0</td>\n",
              "      <td>non-USA</td>\n",
              "      <td>Volkswagen Passat</td>\n",
              "    </tr>\n",
              "    <tr>\n",
              "      <th>90</th>\n",
              "      <td>Volkswagen</td>\n",
              "      <td>Corrado</td>\n",
              "      <td>Sporty</td>\n",
              "      <td>22.9</td>\n",
              "      <td>23.3</td>\n",
              "      <td>...</td>\n",
              "      <td>26.0</td>\n",
              "      <td>15.0</td>\n",
              "      <td>2810.0</td>\n",
              "      <td>non-USA</td>\n",
              "      <td>Volkswagen Corrado</td>\n",
              "    </tr>\n",
              "    <tr>\n",
              "      <th>91</th>\n",
              "      <td>Volvo</td>\n",
              "      <td>240</td>\n",
              "      <td>Compact</td>\n",
              "      <td>21.8</td>\n",
              "      <td>22.7</td>\n",
              "      <td>...</td>\n",
              "      <td>29.5</td>\n",
              "      <td>14.0</td>\n",
              "      <td>2985.0</td>\n",
              "      <td>non-USA</td>\n",
              "      <td>Volvo 240</td>\n",
              "    </tr>\n",
              "    <tr>\n",
              "      <th>92</th>\n",
              "      <td>NaN</td>\n",
              "      <td>850</td>\n",
              "      <td>Midsize</td>\n",
              "      <td>24.8</td>\n",
              "      <td>26.7</td>\n",
              "      <td>...</td>\n",
              "      <td>30.0</td>\n",
              "      <td>15.0</td>\n",
              "      <td>3245.0</td>\n",
              "      <td>non-USA</td>\n",
              "      <td>Volvo 850</td>\n",
              "    </tr>\n",
              "  </tbody>\n",
              "</table>\n",
              "<p>93 rows × 27 columns</p>\n",
              "</div>\n",
              "    <div class=\"colab-df-buttons\">\n",
              "\n",
              "  <div class=\"colab-df-container\">\n",
              "    <button class=\"colab-df-convert\" onclick=\"convertToInteractive('df-c1d90add-dc9a-4b5f-a785-c1f8e5decfba')\"\n",
              "            title=\"Convert this dataframe to an interactive table.\"\n",
              "            style=\"display:none;\">\n",
              "\n",
              "  <svg xmlns=\"http://www.w3.org/2000/svg\" height=\"24px\" viewBox=\"0 -960 960 960\">\n",
              "    <path d=\"M120-120v-720h720v720H120Zm60-500h600v-160H180v160Zm220 220h160v-160H400v160Zm0 220h160v-160H400v160ZM180-400h160v-160H180v160Zm440 0h160v-160H620v160ZM180-180h160v-160H180v160Zm440 0h160v-160H620v160Z\"/>\n",
              "  </svg>\n",
              "    </button>\n",
              "\n",
              "  <style>\n",
              "    .colab-df-container {\n",
              "      display:flex;\n",
              "      gap: 12px;\n",
              "    }\n",
              "\n",
              "    .colab-df-convert {\n",
              "      background-color: #E8F0FE;\n",
              "      border: none;\n",
              "      border-radius: 50%;\n",
              "      cursor: pointer;\n",
              "      display: none;\n",
              "      fill: #1967D2;\n",
              "      height: 32px;\n",
              "      padding: 0 0 0 0;\n",
              "      width: 32px;\n",
              "    }\n",
              "\n",
              "    .colab-df-convert:hover {\n",
              "      background-color: #E2EBFA;\n",
              "      box-shadow: 0px 1px 2px rgba(60, 64, 67, 0.3), 0px 1px 3px 1px rgba(60, 64, 67, 0.15);\n",
              "      fill: #174EA6;\n",
              "    }\n",
              "\n",
              "    .colab-df-buttons div {\n",
              "      margin-bottom: 4px;\n",
              "    }\n",
              "\n",
              "    [theme=dark] .colab-df-convert {\n",
              "      background-color: #3B4455;\n",
              "      fill: #D2E3FC;\n",
              "    }\n",
              "\n",
              "    [theme=dark] .colab-df-convert:hover {\n",
              "      background-color: #434B5C;\n",
              "      box-shadow: 0px 1px 3px 1px rgba(0, 0, 0, 0.15);\n",
              "      filter: drop-shadow(0px 1px 2px rgba(0, 0, 0, 0.3));\n",
              "      fill: #FFFFFF;\n",
              "    }\n",
              "  </style>\n",
              "\n",
              "    <script>\n",
              "      const buttonEl =\n",
              "        document.querySelector('#df-c1d90add-dc9a-4b5f-a785-c1f8e5decfba button.colab-df-convert');\n",
              "      buttonEl.style.display =\n",
              "        google.colab.kernel.accessAllowed ? 'block' : 'none';\n",
              "\n",
              "      async function convertToInteractive(key) {\n",
              "        const element = document.querySelector('#df-c1d90add-dc9a-4b5f-a785-c1f8e5decfba');\n",
              "        const dataTable =\n",
              "          await google.colab.kernel.invokeFunction('convertToInteractive',\n",
              "                                                    [key], {});\n",
              "        if (!dataTable) return;\n",
              "\n",
              "        const docLinkHtml = 'Like what you see? Visit the ' +\n",
              "          '<a target=\"_blank\" href=https://colab.research.google.com/notebooks/data_table.ipynb>data table notebook</a>'\n",
              "          + ' to learn more about interactive tables.';\n",
              "        element.innerHTML = '';\n",
              "        dataTable['output_type'] = 'display_data';\n",
              "        await google.colab.output.renderOutput(dataTable, element);\n",
              "        const docLink = document.createElement('div');\n",
              "        docLink.innerHTML = docLinkHtml;\n",
              "        element.appendChild(docLink);\n",
              "      }\n",
              "    </script>\n",
              "  </div>\n",
              "\n",
              "\n",
              "<div id=\"df-25bb9f63-c6f9-4d6c-b623-ef1e77b51b6c\">\n",
              "  <button class=\"colab-df-quickchart\" onclick=\"quickchart('df-25bb9f63-c6f9-4d6c-b623-ef1e77b51b6c')\"\n",
              "            title=\"Suggest charts\"\n",
              "            style=\"display:none;\">\n",
              "\n",
              "<svg xmlns=\"http://www.w3.org/2000/svg\" height=\"24px\"viewBox=\"0 0 24 24\"\n",
              "     width=\"24px\">\n",
              "    <g>\n",
              "        <path d=\"M19 3H5c-1.1 0-2 .9-2 2v14c0 1.1.9 2 2 2h14c1.1 0 2-.9 2-2V5c0-1.1-.9-2-2-2zM9 17H7v-7h2v7zm4 0h-2V7h2v10zm4 0h-2v-4h2v4z\"/>\n",
              "    </g>\n",
              "</svg>\n",
              "  </button>\n",
              "\n",
              "<style>\n",
              "  .colab-df-quickchart {\n",
              "      --bg-color: #E8F0FE;\n",
              "      --fill-color: #1967D2;\n",
              "      --hover-bg-color: #E2EBFA;\n",
              "      --hover-fill-color: #174EA6;\n",
              "      --disabled-fill-color: #AAA;\n",
              "      --disabled-bg-color: #DDD;\n",
              "  }\n",
              "\n",
              "  [theme=dark] .colab-df-quickchart {\n",
              "      --bg-color: #3B4455;\n",
              "      --fill-color: #D2E3FC;\n",
              "      --hover-bg-color: #434B5C;\n",
              "      --hover-fill-color: #FFFFFF;\n",
              "      --disabled-bg-color: #3B4455;\n",
              "      --disabled-fill-color: #666;\n",
              "  }\n",
              "\n",
              "  .colab-df-quickchart {\n",
              "    background-color: var(--bg-color);\n",
              "    border: none;\n",
              "    border-radius: 50%;\n",
              "    cursor: pointer;\n",
              "    display: none;\n",
              "    fill: var(--fill-color);\n",
              "    height: 32px;\n",
              "    padding: 0;\n",
              "    width: 32px;\n",
              "  }\n",
              "\n",
              "  .colab-df-quickchart:hover {\n",
              "    background-color: var(--hover-bg-color);\n",
              "    box-shadow: 0 1px 2px rgba(60, 64, 67, 0.3), 0 1px 3px 1px rgba(60, 64, 67, 0.15);\n",
              "    fill: var(--button-hover-fill-color);\n",
              "  }\n",
              "\n",
              "  .colab-df-quickchart-complete:disabled,\n",
              "  .colab-df-quickchart-complete:disabled:hover {\n",
              "    background-color: var(--disabled-bg-color);\n",
              "    fill: var(--disabled-fill-color);\n",
              "    box-shadow: none;\n",
              "  }\n",
              "\n",
              "  .colab-df-spinner {\n",
              "    border: 2px solid var(--fill-color);\n",
              "    border-color: transparent;\n",
              "    border-bottom-color: var(--fill-color);\n",
              "    animation:\n",
              "      spin 1s steps(1) infinite;\n",
              "  }\n",
              "\n",
              "  @keyframes spin {\n",
              "    0% {\n",
              "      border-color: transparent;\n",
              "      border-bottom-color: var(--fill-color);\n",
              "      border-left-color: var(--fill-color);\n",
              "    }\n",
              "    20% {\n",
              "      border-color: transparent;\n",
              "      border-left-color: var(--fill-color);\n",
              "      border-top-color: var(--fill-color);\n",
              "    }\n",
              "    30% {\n",
              "      border-color: transparent;\n",
              "      border-left-color: var(--fill-color);\n",
              "      border-top-color: var(--fill-color);\n",
              "      border-right-color: var(--fill-color);\n",
              "    }\n",
              "    40% {\n",
              "      border-color: transparent;\n",
              "      border-right-color: var(--fill-color);\n",
              "      border-top-color: var(--fill-color);\n",
              "    }\n",
              "    60% {\n",
              "      border-color: transparent;\n",
              "      border-right-color: var(--fill-color);\n",
              "    }\n",
              "    80% {\n",
              "      border-color: transparent;\n",
              "      border-right-color: var(--fill-color);\n",
              "      border-bottom-color: var(--fill-color);\n",
              "    }\n",
              "    90% {\n",
              "      border-color: transparent;\n",
              "      border-bottom-color: var(--fill-color);\n",
              "    }\n",
              "  }\n",
              "</style>\n",
              "\n",
              "  <script>\n",
              "    async function quickchart(key) {\n",
              "      const quickchartButtonEl =\n",
              "        document.querySelector('#' + key + ' button');\n",
              "      quickchartButtonEl.disabled = true;  // To prevent multiple clicks.\n",
              "      quickchartButtonEl.classList.add('colab-df-spinner');\n",
              "      try {\n",
              "        const charts = await google.colab.kernel.invokeFunction(\n",
              "            'suggestCharts', [key], {});\n",
              "      } catch (error) {\n",
              "        console.error('Error during call to suggestCharts:', error);\n",
              "      }\n",
              "      quickchartButtonEl.classList.remove('colab-df-spinner');\n",
              "      quickchartButtonEl.classList.add('colab-df-quickchart-complete');\n",
              "    }\n",
              "    (() => {\n",
              "      let quickchartButtonEl =\n",
              "        document.querySelector('#df-25bb9f63-c6f9-4d6c-b623-ef1e77b51b6c button');\n",
              "      quickchartButtonEl.style.display =\n",
              "        google.colab.kernel.accessAllowed ? 'block' : 'none';\n",
              "    })();\n",
              "  </script>\n",
              "</div>\n",
              "    </div>\n",
              "  </div>\n"
            ],
            "application/vnd.google.colaboratory.intrinsic+json": {
              "type": "dataframe",
              "variable_name": "df"
            }
          },
          "metadata": {},
          "execution_count": 55
        }
      ]
    },
    {
      "cell_type": "markdown",
      "source": [
        "## Упражнение № 46\n",
        "\n",
        "Исключите вывод научной нотации типа 'e-03' в `df` и выведите до 4 чисел после запятой.\n"
      ],
      "metadata": {
        "id": "RvliZraovG8q"
      }
    },
    {
      "cell_type": "code",
      "source": [
        "pd.set_option('display.float_format', '{:.4f}'.format)\n",
        "df = pd.DataFrame(np.random.random(4)**10, columns=['random'])\n",
        "print(df)"
      ],
      "metadata": {
        "colab": {
          "base_uri": "https://localhost:8080/"
        },
        "id": "Yd9wA4zTvHtk",
        "outputId": "4bbd09bb-6b34-40f2-ca4f-e47875b4f5ca"
      },
      "execution_count": null,
      "outputs": [
        {
          "output_type": "stream",
          "name": "stdout",
          "text": [
            "   random\n",
            "0  0.0000\n",
            "1  0.0004\n",
            "2  0.0000\n",
            "3  0.0022\n"
          ]
        }
      ]
    },
    {
      "cell_type": "markdown",
      "source": [
        "## Упражнение № 47\n",
        "\n",
        "Отформатируйте значения в столбце `'random'` из `df` в виде процентов.\n"
      ],
      "metadata": {
        "id": "H5x8qKA3vMrd"
      }
    },
    {
      "cell_type": "code",
      "source": [
        "df = pd.DataFrame(np.random.random(4), columns=['random'])\n",
        "df['random'] = df['random'].apply(lambda x: f'{x:.2%}')\n",
        "print(df)"
      ],
      "metadata": {
        "colab": {
          "base_uri": "https://localhost:8080/"
        },
        "id": "0E2TfVXIvPDu",
        "outputId": "833ce505-c1b0-48a5-d3f5-9cf416e278e2"
      },
      "execution_count": null,
      "outputs": [
        {
          "output_type": "stream",
          "name": "stdout",
          "text": [
            "   random\n",
            "0  79.62%\n",
            "1  32.20%\n",
            "2  87.93%\n",
            "3  46.94%\n"
          ]
        }
      ]
    },
    {
      "cell_type": "markdown",
      "source": [
        "## Упражнение № 48\n",
        "\n",
        "Из `df` отфильтруйте значения `Manufacturer`, `Model` и `Type` для каждой 20-й строки, начиная с 1-й (строка 0).\n"
      ],
      "metadata": {
        "id": "LFZVjJDsvTV_"
      }
    },
    {
      "cell_type": "code",
      "source": [
        "df = pd.read_csv('https://raw.githubusercontent.com/selva86/datasets/master/Cars93_miss.csv')\n",
        "result = df.iloc[::20, :3]\n",
        "print(result)"
      ],
      "metadata": {
        "colab": {
          "base_uri": "https://localhost:8080/"
        },
        "id": "STMtzX7DvUOv",
        "outputId": "8ab85ea6-81ad-4894-c3ec-afee0f73a4bd"
      },
      "execution_count": null,
      "outputs": [
        {
          "output_type": "stream",
          "name": "stdout",
          "text": [
            "   Manufacturer    Model     Type\n",
            "0         Acura  Integra    Small\n",
            "20     Chrysler  LeBaron  Compact\n",
            "40        Honda  Prelude   Sporty\n",
            "60      Mercury   Cougar  Midsize\n",
            "80       Subaru   Loyale    Small\n"
          ]
        }
      ]
    },
    {
      "cell_type": "markdown",
      "source": [
        "## Упражнение № 49\n",
        "\n",
        "В `df` замените `NaN` на `missing` в столбцах `Manufacturer`, `Model` и `Type` , создайте индекс как комбинацию этих трех столбцов и проверьте, является ли этот индекс первичным ключом.\n"
      ],
      "metadata": {
        "id": "bF6oo1hcvXn5"
      }
    },
    {
      "cell_type": "code",
      "source": [
        "df = pd.read_csv('https://raw.githubusercontent.com/selva86/datasets/master/Cars93_miss.csv', usecols=[0, 1, 2, 3, 5])\n",
        "df[['Manufacturer', 'Model', 'Type']] = df[['Manufacturer', 'Model', 'Type']].fillna('missing')\n",
        "df.set_index(df['Manufacturer'] + '_' + df['Model'] + '_' + df['Type'], inplace=True)\n",
        "print(df.head())\n",
        "df.index.is_unique"
      ],
      "metadata": {
        "colab": {
          "base_uri": "https://localhost:8080/"
        },
        "id": "BVJOMR1CvbAT",
        "outputId": "964b41f0-d915-45ec-e3c8-f777912c916c"
      },
      "execution_count": null,
      "outputs": [
        {
          "output_type": "stream",
          "name": "stdout",
          "text": [
            "                       Manufacturer    Model     Type  Min.Price  Max.Price\n",
            "Acura_Integra_Small           Acura  Integra    Small    12.9000    18.8000\n",
            "missing_Legend_Midsize      missing   Legend  Midsize    29.2000    38.7000\n",
            "Audi_90_Compact                Audi       90  Compact    25.9000    32.3000\n",
            "Audi_100_Midsize               Audi      100  Midsize        NaN    44.6000\n",
            "BMW_535i_Midsize                BMW     535i  Midsize        NaN        NaN\n"
          ]
        },
        {
          "output_type": "execute_result",
          "data": {
            "text/plain": [
              "True"
            ]
          },
          "metadata": {},
          "execution_count": 62
        }
      ]
    },
    {
      "cell_type": "markdown",
      "source": [
        "## Упражнение № 50\n",
        "\n",
        "Найти положение строки с 5-м наибольшим значением столбца `'a'` в `df`."
      ],
      "metadata": {
        "id": "C6Uy8c45v8MB"
      }
    },
    {
      "cell_type": "code",
      "source": [
        "df = pd.DataFrame(np.random.randint(1, 30, 30).reshape(10, -1), columns=list('abc'))\n",
        "fifth_largest_idx = df['a'].nlargest(5).index[-1]\n",
        "print(\"Положение строки с 5-м наибольшим значением:\", fifth_largest_idx)"
      ],
      "metadata": {
        "colab": {
          "base_uri": "https://localhost:8080/"
        },
        "id": "_jQKlZSMv9zO",
        "outputId": "ce8b04cd-5b51-4b63-97a9-969d335c53a3"
      },
      "execution_count": null,
      "outputs": [
        {
          "output_type": "stream",
          "name": "stdout",
          "text": [
            "Положение строки с 5-м наибольшим значением: 5\n"
          ]
        }
      ]
    },
    {
      "cell_type": "markdown",
      "source": [
        "## Упражнение № 51\n",
        "\n",
        "В `ser` найдите положение 2-го наибольшего значения, превышающего среднее."
      ],
      "metadata": {
        "id": "JBD16dKuv-_z"
      }
    },
    {
      "cell_type": "code",
      "source": [
        "ser = pd.Series(np.random.randint(1, 100, 15))\n",
        "mean_value = ser.mean()\n",
        "second_largest_idx = ser[ser > mean_value].nlargest(2).index[-1]\n",
        "print(\"Положение 2-го наибольшего значения, превышающего среднее:\", second_largest_idx)"
      ],
      "metadata": {
        "colab": {
          "base_uri": "https://localhost:8080/"
        },
        "id": "u7N3NF_twC_p",
        "outputId": "a15ba6e7-ffee-48a3-fbba-da462a2806a9"
      },
      "execution_count": null,
      "outputs": [
        {
          "output_type": "stream",
          "name": "stdout",
          "text": [
            "Положение 2-го наибольшего значения, превышающего среднее: 13\n"
          ]
        }
      ]
    },
    {
      "cell_type": "markdown",
      "source": [
        "## Упражнение № 52\n",
        "\n",
        "Получите две последние строки `df`, сумма строк которых больше 100."
      ],
      "metadata": {
        "id": "XRnNISCBwFkv"
      }
    },
    {
      "cell_type": "code",
      "source": [
        "df = pd.DataFrame(np.random.randint(10, 40, 60).reshape(-1, 4))\n",
        "filtered_df = df[df.sum(axis=1) > 100].tail(2)\n",
        "print(filtered_df)"
      ],
      "metadata": {
        "colab": {
          "base_uri": "https://localhost:8080/"
        },
        "id": "nQtt2oGtwHZW",
        "outputId": "bec49845-4949-4f7b-ef6f-ba783d6114f2"
      },
      "execution_count": null,
      "outputs": [
        {
          "output_type": "stream",
          "name": "stdout",
          "text": [
            "     0   1   2   3\n",
            "8   20  21  29  38\n",
            "13  36  30  27  11\n"
          ]
        }
      ]
    },
    {
      "cell_type": "markdown",
      "source": [
        "## Упражнение № 53\n",
        "\n",
        "Замените все значения `ser`, находящиеся ниже 5%-ного и выше 95%-ного перцентиля, на соответствующие значения 5-го и 95-го перцентиля.\n"
      ],
      "metadata": {
        "id": "2iJQGWvGwJq3"
      }
    },
    {
      "cell_type": "code",
      "source": [
        "ser = pd.Series(np.logspace(-2, 2, 30))\n",
        "lower_bound = ser.quantile(0.05)\n",
        "upper_bound = ser.quantile(0.95)\n",
        "ser = ser.clip(lower=lower_bound, upper=upper_bound)\n",
        "print(ser)"
      ],
      "metadata": {
        "colab": {
          "base_uri": "https://localhost:8080/"
        },
        "id": "vQ81BmU2wLAi",
        "outputId": "68454f37-568d-4048-a25a-734e8e94549b"
      },
      "execution_count": null,
      "outputs": [
        {
          "output_type": "stream",
          "name": "stdout",
          "text": [
            "0     0.0160\n",
            "1     0.0160\n",
            "2     0.0189\n",
            "3     0.0259\n",
            "4     0.0356\n",
            "       ...  \n",
            "25   28.0722\n",
            "26   38.5662\n",
            "27   52.9832\n",
            "28   63.8767\n",
            "29   63.8767\n",
            "Length: 30, dtype: float64\n"
          ]
        }
      ]
    },
    {
      "cell_type": "markdown",
      "source": [
        "## Упражнение № 54\n",
        "\n",
        "Перестройте `df` в максимально возможный квадрат с удалением отрицательных значений. При необходимости отбросьте наименьшие значения. Порядок положительных чисел в результате должен остаться тем же, что и в исходном варианте.\n"
      ],
      "metadata": {
        "id": "HlUMPiKx5wTd"
      }
    },
    {
      "cell_type": "code",
      "source": [
        "df = pd.DataFrame(np.random.randint(-20, 50, 100).reshape(10,-1))\n",
        "\n",
        "positive = df[df > 0].values.flatten()\n",
        "n = int(np.sqrt(positive.__len__()))\n",
        "pd.DataFrame(positive[:n*n].reshape(n, n))"
      ],
      "metadata": {
        "colab": {
          "base_uri": "https://localhost:8080/",
          "height": 363
        },
        "id": "SciX84nN5sLb",
        "outputId": "08ce6738-35cb-4d8b-a5b0-f3b69045fe63"
      },
      "execution_count": null,
      "outputs": [
        {
          "output_type": "execute_result",
          "data": {
            "text/plain": [
              "        0       1       2       3       4       5       6       7       8  \\\n",
              "0     NaN  9.0000 14.0000 31.0000 31.0000 42.0000 11.0000  4.0000 22.0000   \n",
              "1 18.0000     NaN 21.0000 38.0000     NaN 30.0000 11.0000 32.0000 31.0000   \n",
              "2     NaN 39.0000 31.0000 19.0000  3.0000     NaN 31.0000 38.0000     NaN   \n",
              "3     NaN 15.0000 24.0000  6.0000 47.0000     NaN  3.0000 38.0000     NaN   \n",
              "4 23.0000 43.0000     NaN 47.0000 29.0000  4.0000     NaN 18.0000 38.0000   \n",
              "5  5.0000 20.0000     NaN     NaN 23.0000  4.0000 39.0000 43.0000 18.0000   \n",
              "6 43.0000     NaN 48.0000 35.0000 31.0000 44.0000 40.0000 25.0000  9.0000   \n",
              "7     NaN 19.0000 26.0000 32.0000 27.0000 17.0000 11.0000 16.0000  8.0000   \n",
              "8 11.0000     NaN 38.0000     NaN     NaN 30.0000 14.0000 37.0000 27.0000   \n",
              "9 27.0000 15.0000 46.0000     NaN     NaN 13.0000 34.0000     NaN     NaN   \n",
              "\n",
              "        9  \n",
              "0     NaN  \n",
              "1     NaN  \n",
              "2 29.0000  \n",
              "3     NaN  \n",
              "4     NaN  \n",
              "5     NaN  \n",
              "6     NaN  \n",
              "7 41.0000  \n",
              "8 38.0000  \n",
              "9 32.0000  "
            ],
            "text/html": [
              "\n",
              "  <div id=\"df-304d2001-9111-4108-919a-f4c67417729c\" class=\"colab-df-container\">\n",
              "    <div>\n",
              "<style scoped>\n",
              "    .dataframe tbody tr th:only-of-type {\n",
              "        vertical-align: middle;\n",
              "    }\n",
              "\n",
              "    .dataframe tbody tr th {\n",
              "        vertical-align: top;\n",
              "    }\n",
              "\n",
              "    .dataframe thead th {\n",
              "        text-align: right;\n",
              "    }\n",
              "</style>\n",
              "<table border=\"1\" class=\"dataframe\">\n",
              "  <thead>\n",
              "    <tr style=\"text-align: right;\">\n",
              "      <th></th>\n",
              "      <th>0</th>\n",
              "      <th>1</th>\n",
              "      <th>2</th>\n",
              "      <th>3</th>\n",
              "      <th>4</th>\n",
              "      <th>5</th>\n",
              "      <th>6</th>\n",
              "      <th>7</th>\n",
              "      <th>8</th>\n",
              "      <th>9</th>\n",
              "    </tr>\n",
              "  </thead>\n",
              "  <tbody>\n",
              "    <tr>\n",
              "      <th>0</th>\n",
              "      <td>NaN</td>\n",
              "      <td>9.0000</td>\n",
              "      <td>14.0000</td>\n",
              "      <td>31.0000</td>\n",
              "      <td>31.0000</td>\n",
              "      <td>42.0000</td>\n",
              "      <td>11.0000</td>\n",
              "      <td>4.0000</td>\n",
              "      <td>22.0000</td>\n",
              "      <td>NaN</td>\n",
              "    </tr>\n",
              "    <tr>\n",
              "      <th>1</th>\n",
              "      <td>18.0000</td>\n",
              "      <td>NaN</td>\n",
              "      <td>21.0000</td>\n",
              "      <td>38.0000</td>\n",
              "      <td>NaN</td>\n",
              "      <td>30.0000</td>\n",
              "      <td>11.0000</td>\n",
              "      <td>32.0000</td>\n",
              "      <td>31.0000</td>\n",
              "      <td>NaN</td>\n",
              "    </tr>\n",
              "    <tr>\n",
              "      <th>2</th>\n",
              "      <td>NaN</td>\n",
              "      <td>39.0000</td>\n",
              "      <td>31.0000</td>\n",
              "      <td>19.0000</td>\n",
              "      <td>3.0000</td>\n",
              "      <td>NaN</td>\n",
              "      <td>31.0000</td>\n",
              "      <td>38.0000</td>\n",
              "      <td>NaN</td>\n",
              "      <td>29.0000</td>\n",
              "    </tr>\n",
              "    <tr>\n",
              "      <th>3</th>\n",
              "      <td>NaN</td>\n",
              "      <td>15.0000</td>\n",
              "      <td>24.0000</td>\n",
              "      <td>6.0000</td>\n",
              "      <td>47.0000</td>\n",
              "      <td>NaN</td>\n",
              "      <td>3.0000</td>\n",
              "      <td>38.0000</td>\n",
              "      <td>NaN</td>\n",
              "      <td>NaN</td>\n",
              "    </tr>\n",
              "    <tr>\n",
              "      <th>4</th>\n",
              "      <td>23.0000</td>\n",
              "      <td>43.0000</td>\n",
              "      <td>NaN</td>\n",
              "      <td>47.0000</td>\n",
              "      <td>29.0000</td>\n",
              "      <td>4.0000</td>\n",
              "      <td>NaN</td>\n",
              "      <td>18.0000</td>\n",
              "      <td>38.0000</td>\n",
              "      <td>NaN</td>\n",
              "    </tr>\n",
              "    <tr>\n",
              "      <th>5</th>\n",
              "      <td>5.0000</td>\n",
              "      <td>20.0000</td>\n",
              "      <td>NaN</td>\n",
              "      <td>NaN</td>\n",
              "      <td>23.0000</td>\n",
              "      <td>4.0000</td>\n",
              "      <td>39.0000</td>\n",
              "      <td>43.0000</td>\n",
              "      <td>18.0000</td>\n",
              "      <td>NaN</td>\n",
              "    </tr>\n",
              "    <tr>\n",
              "      <th>6</th>\n",
              "      <td>43.0000</td>\n",
              "      <td>NaN</td>\n",
              "      <td>48.0000</td>\n",
              "      <td>35.0000</td>\n",
              "      <td>31.0000</td>\n",
              "      <td>44.0000</td>\n",
              "      <td>40.0000</td>\n",
              "      <td>25.0000</td>\n",
              "      <td>9.0000</td>\n",
              "      <td>NaN</td>\n",
              "    </tr>\n",
              "    <tr>\n",
              "      <th>7</th>\n",
              "      <td>NaN</td>\n",
              "      <td>19.0000</td>\n",
              "      <td>26.0000</td>\n",
              "      <td>32.0000</td>\n",
              "      <td>27.0000</td>\n",
              "      <td>17.0000</td>\n",
              "      <td>11.0000</td>\n",
              "      <td>16.0000</td>\n",
              "      <td>8.0000</td>\n",
              "      <td>41.0000</td>\n",
              "    </tr>\n",
              "    <tr>\n",
              "      <th>8</th>\n",
              "      <td>11.0000</td>\n",
              "      <td>NaN</td>\n",
              "      <td>38.0000</td>\n",
              "      <td>NaN</td>\n",
              "      <td>NaN</td>\n",
              "      <td>30.0000</td>\n",
              "      <td>14.0000</td>\n",
              "      <td>37.0000</td>\n",
              "      <td>27.0000</td>\n",
              "      <td>38.0000</td>\n",
              "    </tr>\n",
              "    <tr>\n",
              "      <th>9</th>\n",
              "      <td>27.0000</td>\n",
              "      <td>15.0000</td>\n",
              "      <td>46.0000</td>\n",
              "      <td>NaN</td>\n",
              "      <td>NaN</td>\n",
              "      <td>13.0000</td>\n",
              "      <td>34.0000</td>\n",
              "      <td>NaN</td>\n",
              "      <td>NaN</td>\n",
              "      <td>32.0000</td>\n",
              "    </tr>\n",
              "  </tbody>\n",
              "</table>\n",
              "</div>\n",
              "    <div class=\"colab-df-buttons\">\n",
              "\n",
              "  <div class=\"colab-df-container\">\n",
              "    <button class=\"colab-df-convert\" onclick=\"convertToInteractive('df-304d2001-9111-4108-919a-f4c67417729c')\"\n",
              "            title=\"Convert this dataframe to an interactive table.\"\n",
              "            style=\"display:none;\">\n",
              "\n",
              "  <svg xmlns=\"http://www.w3.org/2000/svg\" height=\"24px\" viewBox=\"0 -960 960 960\">\n",
              "    <path d=\"M120-120v-720h720v720H120Zm60-500h600v-160H180v160Zm220 220h160v-160H400v160Zm0 220h160v-160H400v160ZM180-400h160v-160H180v160Zm440 0h160v-160H620v160ZM180-180h160v-160H180v160Zm440 0h160v-160H620v160Z\"/>\n",
              "  </svg>\n",
              "    </button>\n",
              "\n",
              "  <style>\n",
              "    .colab-df-container {\n",
              "      display:flex;\n",
              "      gap: 12px;\n",
              "    }\n",
              "\n",
              "    .colab-df-convert {\n",
              "      background-color: #E8F0FE;\n",
              "      border: none;\n",
              "      border-radius: 50%;\n",
              "      cursor: pointer;\n",
              "      display: none;\n",
              "      fill: #1967D2;\n",
              "      height: 32px;\n",
              "      padding: 0 0 0 0;\n",
              "      width: 32px;\n",
              "    }\n",
              "\n",
              "    .colab-df-convert:hover {\n",
              "      background-color: #E2EBFA;\n",
              "      box-shadow: 0px 1px 2px rgba(60, 64, 67, 0.3), 0px 1px 3px 1px rgba(60, 64, 67, 0.15);\n",
              "      fill: #174EA6;\n",
              "    }\n",
              "\n",
              "    .colab-df-buttons div {\n",
              "      margin-bottom: 4px;\n",
              "    }\n",
              "\n",
              "    [theme=dark] .colab-df-convert {\n",
              "      background-color: #3B4455;\n",
              "      fill: #D2E3FC;\n",
              "    }\n",
              "\n",
              "    [theme=dark] .colab-df-convert:hover {\n",
              "      background-color: #434B5C;\n",
              "      box-shadow: 0px 1px 3px 1px rgba(0, 0, 0, 0.15);\n",
              "      filter: drop-shadow(0px 1px 2px rgba(0, 0, 0, 0.3));\n",
              "      fill: #FFFFFF;\n",
              "    }\n",
              "  </style>\n",
              "\n",
              "    <script>\n",
              "      const buttonEl =\n",
              "        document.querySelector('#df-304d2001-9111-4108-919a-f4c67417729c button.colab-df-convert');\n",
              "      buttonEl.style.display =\n",
              "        google.colab.kernel.accessAllowed ? 'block' : 'none';\n",
              "\n",
              "      async function convertToInteractive(key) {\n",
              "        const element = document.querySelector('#df-304d2001-9111-4108-919a-f4c67417729c');\n",
              "        const dataTable =\n",
              "          await google.colab.kernel.invokeFunction('convertToInteractive',\n",
              "                                                    [key], {});\n",
              "        if (!dataTable) return;\n",
              "\n",
              "        const docLinkHtml = 'Like what you see? Visit the ' +\n",
              "          '<a target=\"_blank\" href=https://colab.research.google.com/notebooks/data_table.ipynb>data table notebook</a>'\n",
              "          + ' to learn more about interactive tables.';\n",
              "        element.innerHTML = '';\n",
              "        dataTable['output_type'] = 'display_data';\n",
              "        await google.colab.output.renderOutput(dataTable, element);\n",
              "        const docLink = document.createElement('div');\n",
              "        docLink.innerHTML = docLinkHtml;\n",
              "        element.appendChild(docLink);\n",
              "      }\n",
              "    </script>\n",
              "  </div>\n",
              "\n",
              "\n",
              "<div id=\"df-f898ab64-191d-48ff-99b7-40fbda19e215\">\n",
              "  <button class=\"colab-df-quickchart\" onclick=\"quickchart('df-f898ab64-191d-48ff-99b7-40fbda19e215')\"\n",
              "            title=\"Suggest charts\"\n",
              "            style=\"display:none;\">\n",
              "\n",
              "<svg xmlns=\"http://www.w3.org/2000/svg\" height=\"24px\"viewBox=\"0 0 24 24\"\n",
              "     width=\"24px\">\n",
              "    <g>\n",
              "        <path d=\"M19 3H5c-1.1 0-2 .9-2 2v14c0 1.1.9 2 2 2h14c1.1 0 2-.9 2-2V5c0-1.1-.9-2-2-2zM9 17H7v-7h2v7zm4 0h-2V7h2v10zm4 0h-2v-4h2v4z\"/>\n",
              "    </g>\n",
              "</svg>\n",
              "  </button>\n",
              "\n",
              "<style>\n",
              "  .colab-df-quickchart {\n",
              "      --bg-color: #E8F0FE;\n",
              "      --fill-color: #1967D2;\n",
              "      --hover-bg-color: #E2EBFA;\n",
              "      --hover-fill-color: #174EA6;\n",
              "      --disabled-fill-color: #AAA;\n",
              "      --disabled-bg-color: #DDD;\n",
              "  }\n",
              "\n",
              "  [theme=dark] .colab-df-quickchart {\n",
              "      --bg-color: #3B4455;\n",
              "      --fill-color: #D2E3FC;\n",
              "      --hover-bg-color: #434B5C;\n",
              "      --hover-fill-color: #FFFFFF;\n",
              "      --disabled-bg-color: #3B4455;\n",
              "      --disabled-fill-color: #666;\n",
              "  }\n",
              "\n",
              "  .colab-df-quickchart {\n",
              "    background-color: var(--bg-color);\n",
              "    border: none;\n",
              "    border-radius: 50%;\n",
              "    cursor: pointer;\n",
              "    display: none;\n",
              "    fill: var(--fill-color);\n",
              "    height: 32px;\n",
              "    padding: 0;\n",
              "    width: 32px;\n",
              "  }\n",
              "\n",
              "  .colab-df-quickchart:hover {\n",
              "    background-color: var(--hover-bg-color);\n",
              "    box-shadow: 0 1px 2px rgba(60, 64, 67, 0.3), 0 1px 3px 1px rgba(60, 64, 67, 0.15);\n",
              "    fill: var(--button-hover-fill-color);\n",
              "  }\n",
              "\n",
              "  .colab-df-quickchart-complete:disabled,\n",
              "  .colab-df-quickchart-complete:disabled:hover {\n",
              "    background-color: var(--disabled-bg-color);\n",
              "    fill: var(--disabled-fill-color);\n",
              "    box-shadow: none;\n",
              "  }\n",
              "\n",
              "  .colab-df-spinner {\n",
              "    border: 2px solid var(--fill-color);\n",
              "    border-color: transparent;\n",
              "    border-bottom-color: var(--fill-color);\n",
              "    animation:\n",
              "      spin 1s steps(1) infinite;\n",
              "  }\n",
              "\n",
              "  @keyframes spin {\n",
              "    0% {\n",
              "      border-color: transparent;\n",
              "      border-bottom-color: var(--fill-color);\n",
              "      border-left-color: var(--fill-color);\n",
              "    }\n",
              "    20% {\n",
              "      border-color: transparent;\n",
              "      border-left-color: var(--fill-color);\n",
              "      border-top-color: var(--fill-color);\n",
              "    }\n",
              "    30% {\n",
              "      border-color: transparent;\n",
              "      border-left-color: var(--fill-color);\n",
              "      border-top-color: var(--fill-color);\n",
              "      border-right-color: var(--fill-color);\n",
              "    }\n",
              "    40% {\n",
              "      border-color: transparent;\n",
              "      border-right-color: var(--fill-color);\n",
              "      border-top-color: var(--fill-color);\n",
              "    }\n",
              "    60% {\n",
              "      border-color: transparent;\n",
              "      border-right-color: var(--fill-color);\n",
              "    }\n",
              "    80% {\n",
              "      border-color: transparent;\n",
              "      border-right-color: var(--fill-color);\n",
              "      border-bottom-color: var(--fill-color);\n",
              "    }\n",
              "    90% {\n",
              "      border-color: transparent;\n",
              "      border-bottom-color: var(--fill-color);\n",
              "    }\n",
              "  }\n",
              "</style>\n",
              "\n",
              "  <script>\n",
              "    async function quickchart(key) {\n",
              "      const quickchartButtonEl =\n",
              "        document.querySelector('#' + key + ' button');\n",
              "      quickchartButtonEl.disabled = true;  // To prevent multiple clicks.\n",
              "      quickchartButtonEl.classList.add('colab-df-spinner');\n",
              "      try {\n",
              "        const charts = await google.colab.kernel.invokeFunction(\n",
              "            'suggestCharts', [key], {});\n",
              "      } catch (error) {\n",
              "        console.error('Error during call to suggestCharts:', error);\n",
              "      }\n",
              "      quickchartButtonEl.classList.remove('colab-df-spinner');\n",
              "      quickchartButtonEl.classList.add('colab-df-quickchart-complete');\n",
              "    }\n",
              "    (() => {\n",
              "      let quickchartButtonEl =\n",
              "        document.querySelector('#df-f898ab64-191d-48ff-99b7-40fbda19e215 button');\n",
              "      quickchartButtonEl.style.display =\n",
              "        google.colab.kernel.accessAllowed ? 'block' : 'none';\n",
              "    })();\n",
              "  </script>\n",
              "</div>\n",
              "    </div>\n",
              "  </div>\n"
            ],
            "application/vnd.google.colaboratory.intrinsic+json": {
              "type": "dataframe",
              "summary": "{\n  \"name\": \"pd\",\n  \"rows\": 10,\n  \"fields\": [\n    {\n      \"column\": 0,\n      \"properties\": {\n        \"dtype\": \"number\",\n        \"std\": 13.332916660156046,\n        \"min\": 5.0,\n        \"max\": 43.0,\n        \"num_unique_values\": 6,\n        \"samples\": [\n          18.0,\n          23.0,\n          27.0\n        ],\n        \"semantic_type\": \"\",\n        \"description\": \"\"\n      }\n    },\n    {\n      \"column\": 1,\n      \"properties\": {\n        \"dtype\": \"number\",\n        \"std\": 12.941259230700483,\n        \"min\": 9.0,\n        \"max\": 43.0,\n        \"num_unique_values\": 6,\n        \"samples\": [\n          9.0,\n          39.0,\n          19.0\n        ],\n        \"semantic_type\": \"\",\n        \"description\": \"\"\n      }\n    },\n    {\n      \"column\": 2,\n      \"properties\": {\n        \"dtype\": \"number\",\n        \"std\": 12.106668764421887,\n        \"min\": 14.0,\n        \"max\": 48.0,\n        \"num_unique_values\": 8,\n        \"samples\": [\n          21.0,\n          26.0,\n          14.0\n        ],\n        \"semantic_type\": \"\",\n        \"description\": \"\"\n      }\n    },\n    {\n      \"column\": 3,\n      \"properties\": {\n        \"dtype\": \"number\",\n        \"std\": 13.412858081138483,\n        \"min\": 6.0,\n        \"max\": 47.0,\n        \"num_unique_values\": 7,\n        \"samples\": [\n          31.0,\n          38.0,\n          35.0\n        ],\n        \"semantic_type\": \"\",\n        \"description\": \"\"\n      }\n    },\n    {\n      \"column\": 4,\n      \"properties\": {\n        \"dtype\": \"number\",\n        \"std\": 13.085797462825688,\n        \"min\": 3.0,\n        \"max\": 47.0,\n        \"num_unique_values\": 6,\n        \"samples\": [\n          31.0,\n          3.0,\n          27.0\n        ],\n        \"semantic_type\": \"\",\n        \"description\": \"\"\n      }\n    },\n    {\n      \"column\": 5,\n      \"properties\": {\n        \"dtype\": \"number\",\n        \"std\": 15.84748740787817,\n        \"min\": 4.0,\n        \"max\": 44.0,\n        \"num_unique_values\": 6,\n        \"samples\": [\n          42.0,\n          30.0,\n          13.0\n        ],\n        \"semantic_type\": \"\",\n        \"description\": \"\"\n      }\n    },\n    {\n      \"column\": 6,\n      \"properties\": {\n        \"dtype\": \"number\",\n        \"std\": 14.248781624327666,\n        \"min\": 3.0,\n        \"max\": 40.0,\n        \"num_unique_values\": 7,\n        \"samples\": [\n          11.0,\n          31.0,\n          14.0\n        ],\n        \"semantic_type\": \"\",\n        \"description\": \"\"\n      }\n    },\n    {\n      \"column\": 7,\n      \"properties\": {\n        \"dtype\": \"number\",\n        \"std\": 12.994657021680531,\n        \"min\": 4.0,\n        \"max\": 43.0,\n        \"num_unique_values\": 8,\n        \"samples\": [\n          32.0,\n          25.0,\n          4.0\n        ],\n        \"semantic_type\": \"\",\n        \"description\": \"\"\n      }\n    },\n    {\n      \"column\": 8,\n      \"properties\": {\n        \"dtype\": \"number\",\n        \"std\": 11.126972805283735,\n        \"min\": 8.0,\n        \"max\": 38.0,\n        \"num_unique_values\": 7,\n        \"samples\": [\n          22.0,\n          31.0,\n          8.0\n        ],\n        \"semantic_type\": \"\",\n        \"description\": \"\"\n      }\n    },\n    {\n      \"column\": 9,\n      \"properties\": {\n        \"dtype\": \"number\",\n        \"std\": 5.477225575051661,\n        \"min\": 29.0,\n        \"max\": 41.0,\n        \"num_unique_values\": 4,\n        \"samples\": [\n          41.0,\n          32.0,\n          29.0\n        ],\n        \"semantic_type\": \"\",\n        \"description\": \"\"\n      }\n    }\n  ]\n}"
            }
          },
          "metadata": {},
          "execution_count": 68
        }
      ]
    },
    {
      "cell_type": "markdown",
      "source": [
        "## Упражнение № 55\n",
        "\n",
        "Поменяйте местами строки 1 и 2 в `df`."
      ],
      "metadata": {
        "id": "bEvddDaG6IWY"
      }
    },
    {
      "cell_type": "code",
      "source": [
        "df = pd.DataFrame(np.arange(25).reshape(5, -1))\n",
        "df.iloc[1], df.iloc[2] = df.iloc[2].copy(), df.iloc[1].copy()\n",
        "df"
      ],
      "metadata": {
        "colab": {
          "base_uri": "https://localhost:8080/",
          "height": 206
        },
        "id": "6ADEggOm6KSQ",
        "outputId": "83287ddd-cfd5-441d-fb42-8093b6c5fc04"
      },
      "execution_count": null,
      "outputs": [
        {
          "output_type": "execute_result",
          "data": {
            "text/plain": [
              "    0   1   2   3   4\n",
              "0   0   1   2   3   4\n",
              "1  10  11  12  13  14\n",
              "2   5   6   7   8   9\n",
              "3  15  16  17  18  19\n",
              "4  20  21  22  23  24"
            ],
            "text/html": [
              "\n",
              "  <div id=\"df-211177a1-44e2-4549-983f-18957d2cfbca\" class=\"colab-df-container\">\n",
              "    <div>\n",
              "<style scoped>\n",
              "    .dataframe tbody tr th:only-of-type {\n",
              "        vertical-align: middle;\n",
              "    }\n",
              "\n",
              "    .dataframe tbody tr th {\n",
              "        vertical-align: top;\n",
              "    }\n",
              "\n",
              "    .dataframe thead th {\n",
              "        text-align: right;\n",
              "    }\n",
              "</style>\n",
              "<table border=\"1\" class=\"dataframe\">\n",
              "  <thead>\n",
              "    <tr style=\"text-align: right;\">\n",
              "      <th></th>\n",
              "      <th>0</th>\n",
              "      <th>1</th>\n",
              "      <th>2</th>\n",
              "      <th>3</th>\n",
              "      <th>4</th>\n",
              "    </tr>\n",
              "  </thead>\n",
              "  <tbody>\n",
              "    <tr>\n",
              "      <th>0</th>\n",
              "      <td>0</td>\n",
              "      <td>1</td>\n",
              "      <td>2</td>\n",
              "      <td>3</td>\n",
              "      <td>4</td>\n",
              "    </tr>\n",
              "    <tr>\n",
              "      <th>1</th>\n",
              "      <td>10</td>\n",
              "      <td>11</td>\n",
              "      <td>12</td>\n",
              "      <td>13</td>\n",
              "      <td>14</td>\n",
              "    </tr>\n",
              "    <tr>\n",
              "      <th>2</th>\n",
              "      <td>5</td>\n",
              "      <td>6</td>\n",
              "      <td>7</td>\n",
              "      <td>8</td>\n",
              "      <td>9</td>\n",
              "    </tr>\n",
              "    <tr>\n",
              "      <th>3</th>\n",
              "      <td>15</td>\n",
              "      <td>16</td>\n",
              "      <td>17</td>\n",
              "      <td>18</td>\n",
              "      <td>19</td>\n",
              "    </tr>\n",
              "    <tr>\n",
              "      <th>4</th>\n",
              "      <td>20</td>\n",
              "      <td>21</td>\n",
              "      <td>22</td>\n",
              "      <td>23</td>\n",
              "      <td>24</td>\n",
              "    </tr>\n",
              "  </tbody>\n",
              "</table>\n",
              "</div>\n",
              "    <div class=\"colab-df-buttons\">\n",
              "\n",
              "  <div class=\"colab-df-container\">\n",
              "    <button class=\"colab-df-convert\" onclick=\"convertToInteractive('df-211177a1-44e2-4549-983f-18957d2cfbca')\"\n",
              "            title=\"Convert this dataframe to an interactive table.\"\n",
              "            style=\"display:none;\">\n",
              "\n",
              "  <svg xmlns=\"http://www.w3.org/2000/svg\" height=\"24px\" viewBox=\"0 -960 960 960\">\n",
              "    <path d=\"M120-120v-720h720v720H120Zm60-500h600v-160H180v160Zm220 220h160v-160H400v160Zm0 220h160v-160H400v160ZM180-400h160v-160H180v160Zm440 0h160v-160H620v160ZM180-180h160v-160H180v160Zm440 0h160v-160H620v160Z\"/>\n",
              "  </svg>\n",
              "    </button>\n",
              "\n",
              "  <style>\n",
              "    .colab-df-container {\n",
              "      display:flex;\n",
              "      gap: 12px;\n",
              "    }\n",
              "\n",
              "    .colab-df-convert {\n",
              "      background-color: #E8F0FE;\n",
              "      border: none;\n",
              "      border-radius: 50%;\n",
              "      cursor: pointer;\n",
              "      display: none;\n",
              "      fill: #1967D2;\n",
              "      height: 32px;\n",
              "      padding: 0 0 0 0;\n",
              "      width: 32px;\n",
              "    }\n",
              "\n",
              "    .colab-df-convert:hover {\n",
              "      background-color: #E2EBFA;\n",
              "      box-shadow: 0px 1px 2px rgba(60, 64, 67, 0.3), 0px 1px 3px 1px rgba(60, 64, 67, 0.15);\n",
              "      fill: #174EA6;\n",
              "    }\n",
              "\n",
              "    .colab-df-buttons div {\n",
              "      margin-bottom: 4px;\n",
              "    }\n",
              "\n",
              "    [theme=dark] .colab-df-convert {\n",
              "      background-color: #3B4455;\n",
              "      fill: #D2E3FC;\n",
              "    }\n",
              "\n",
              "    [theme=dark] .colab-df-convert:hover {\n",
              "      background-color: #434B5C;\n",
              "      box-shadow: 0px 1px 3px 1px rgba(0, 0, 0, 0.15);\n",
              "      filter: drop-shadow(0px 1px 2px rgba(0, 0, 0, 0.3));\n",
              "      fill: #FFFFFF;\n",
              "    }\n",
              "  </style>\n",
              "\n",
              "    <script>\n",
              "      const buttonEl =\n",
              "        document.querySelector('#df-211177a1-44e2-4549-983f-18957d2cfbca button.colab-df-convert');\n",
              "      buttonEl.style.display =\n",
              "        google.colab.kernel.accessAllowed ? 'block' : 'none';\n",
              "\n",
              "      async function convertToInteractive(key) {\n",
              "        const element = document.querySelector('#df-211177a1-44e2-4549-983f-18957d2cfbca');\n",
              "        const dataTable =\n",
              "          await google.colab.kernel.invokeFunction('convertToInteractive',\n",
              "                                                    [key], {});\n",
              "        if (!dataTable) return;\n",
              "\n",
              "        const docLinkHtml = 'Like what you see? Visit the ' +\n",
              "          '<a target=\"_blank\" href=https://colab.research.google.com/notebooks/data_table.ipynb>data table notebook</a>'\n",
              "          + ' to learn more about interactive tables.';\n",
              "        element.innerHTML = '';\n",
              "        dataTable['output_type'] = 'display_data';\n",
              "        await google.colab.output.renderOutput(dataTable, element);\n",
              "        const docLink = document.createElement('div');\n",
              "        docLink.innerHTML = docLinkHtml;\n",
              "        element.appendChild(docLink);\n",
              "      }\n",
              "    </script>\n",
              "  </div>\n",
              "\n",
              "\n",
              "<div id=\"df-684fca22-3b10-402f-bd84-3465a63d91a1\">\n",
              "  <button class=\"colab-df-quickchart\" onclick=\"quickchart('df-684fca22-3b10-402f-bd84-3465a63d91a1')\"\n",
              "            title=\"Suggest charts\"\n",
              "            style=\"display:none;\">\n",
              "\n",
              "<svg xmlns=\"http://www.w3.org/2000/svg\" height=\"24px\"viewBox=\"0 0 24 24\"\n",
              "     width=\"24px\">\n",
              "    <g>\n",
              "        <path d=\"M19 3H5c-1.1 0-2 .9-2 2v14c0 1.1.9 2 2 2h14c1.1 0 2-.9 2-2V5c0-1.1-.9-2-2-2zM9 17H7v-7h2v7zm4 0h-2V7h2v10zm4 0h-2v-4h2v4z\"/>\n",
              "    </g>\n",
              "</svg>\n",
              "  </button>\n",
              "\n",
              "<style>\n",
              "  .colab-df-quickchart {\n",
              "      --bg-color: #E8F0FE;\n",
              "      --fill-color: #1967D2;\n",
              "      --hover-bg-color: #E2EBFA;\n",
              "      --hover-fill-color: #174EA6;\n",
              "      --disabled-fill-color: #AAA;\n",
              "      --disabled-bg-color: #DDD;\n",
              "  }\n",
              "\n",
              "  [theme=dark] .colab-df-quickchart {\n",
              "      --bg-color: #3B4455;\n",
              "      --fill-color: #D2E3FC;\n",
              "      --hover-bg-color: #434B5C;\n",
              "      --hover-fill-color: #FFFFFF;\n",
              "      --disabled-bg-color: #3B4455;\n",
              "      --disabled-fill-color: #666;\n",
              "  }\n",
              "\n",
              "  .colab-df-quickchart {\n",
              "    background-color: var(--bg-color);\n",
              "    border: none;\n",
              "    border-radius: 50%;\n",
              "    cursor: pointer;\n",
              "    display: none;\n",
              "    fill: var(--fill-color);\n",
              "    height: 32px;\n",
              "    padding: 0;\n",
              "    width: 32px;\n",
              "  }\n",
              "\n",
              "  .colab-df-quickchart:hover {\n",
              "    background-color: var(--hover-bg-color);\n",
              "    box-shadow: 0 1px 2px rgba(60, 64, 67, 0.3), 0 1px 3px 1px rgba(60, 64, 67, 0.15);\n",
              "    fill: var(--button-hover-fill-color);\n",
              "  }\n",
              "\n",
              "  .colab-df-quickchart-complete:disabled,\n",
              "  .colab-df-quickchart-complete:disabled:hover {\n",
              "    background-color: var(--disabled-bg-color);\n",
              "    fill: var(--disabled-fill-color);\n",
              "    box-shadow: none;\n",
              "  }\n",
              "\n",
              "  .colab-df-spinner {\n",
              "    border: 2px solid var(--fill-color);\n",
              "    border-color: transparent;\n",
              "    border-bottom-color: var(--fill-color);\n",
              "    animation:\n",
              "      spin 1s steps(1) infinite;\n",
              "  }\n",
              "\n",
              "  @keyframes spin {\n",
              "    0% {\n",
              "      border-color: transparent;\n",
              "      border-bottom-color: var(--fill-color);\n",
              "      border-left-color: var(--fill-color);\n",
              "    }\n",
              "    20% {\n",
              "      border-color: transparent;\n",
              "      border-left-color: var(--fill-color);\n",
              "      border-top-color: var(--fill-color);\n",
              "    }\n",
              "    30% {\n",
              "      border-color: transparent;\n",
              "      border-left-color: var(--fill-color);\n",
              "      border-top-color: var(--fill-color);\n",
              "      border-right-color: var(--fill-color);\n",
              "    }\n",
              "    40% {\n",
              "      border-color: transparent;\n",
              "      border-right-color: var(--fill-color);\n",
              "      border-top-color: var(--fill-color);\n",
              "    }\n",
              "    60% {\n",
              "      border-color: transparent;\n",
              "      border-right-color: var(--fill-color);\n",
              "    }\n",
              "    80% {\n",
              "      border-color: transparent;\n",
              "      border-right-color: var(--fill-color);\n",
              "      border-bottom-color: var(--fill-color);\n",
              "    }\n",
              "    90% {\n",
              "      border-color: transparent;\n",
              "      border-bottom-color: var(--fill-color);\n",
              "    }\n",
              "  }\n",
              "</style>\n",
              "\n",
              "  <script>\n",
              "    async function quickchart(key) {\n",
              "      const quickchartButtonEl =\n",
              "        document.querySelector('#' + key + ' button');\n",
              "      quickchartButtonEl.disabled = true;  // To prevent multiple clicks.\n",
              "      quickchartButtonEl.classList.add('colab-df-spinner');\n",
              "      try {\n",
              "        const charts = await google.colab.kernel.invokeFunction(\n",
              "            'suggestCharts', [key], {});\n",
              "      } catch (error) {\n",
              "        console.error('Error during call to suggestCharts:', error);\n",
              "      }\n",
              "      quickchartButtonEl.classList.remove('colab-df-spinner');\n",
              "      quickchartButtonEl.classList.add('colab-df-quickchart-complete');\n",
              "    }\n",
              "    (() => {\n",
              "      let quickchartButtonEl =\n",
              "        document.querySelector('#df-684fca22-3b10-402f-bd84-3465a63d91a1 button');\n",
              "      quickchartButtonEl.style.display =\n",
              "        google.colab.kernel.accessAllowed ? 'block' : 'none';\n",
              "    })();\n",
              "  </script>\n",
              "</div>\n",
              "    </div>\n",
              "  </div>\n"
            ],
            "application/vnd.google.colaboratory.intrinsic+json": {
              "type": "dataframe",
              "variable_name": "df",
              "summary": "{\n  \"name\": \"df\",\n  \"rows\": 5,\n  \"fields\": [\n    {\n      \"column\": 0,\n      \"properties\": {\n        \"dtype\": \"number\",\n        \"std\": 7,\n        \"min\": 0,\n        \"max\": 20,\n        \"num_unique_values\": 5,\n        \"samples\": [\n          10,\n          20,\n          5\n        ],\n        \"semantic_type\": \"\",\n        \"description\": \"\"\n      }\n    },\n    {\n      \"column\": 1,\n      \"properties\": {\n        \"dtype\": \"number\",\n        \"std\": 7,\n        \"min\": 1,\n        \"max\": 21,\n        \"num_unique_values\": 5,\n        \"samples\": [\n          11,\n          21,\n          6\n        ],\n        \"semantic_type\": \"\",\n        \"description\": \"\"\n      }\n    },\n    {\n      \"column\": 2,\n      \"properties\": {\n        \"dtype\": \"number\",\n        \"std\": 7,\n        \"min\": 2,\n        \"max\": 22,\n        \"num_unique_values\": 5,\n        \"samples\": [\n          12,\n          22,\n          7\n        ],\n        \"semantic_type\": \"\",\n        \"description\": \"\"\n      }\n    },\n    {\n      \"column\": 3,\n      \"properties\": {\n        \"dtype\": \"number\",\n        \"std\": 7,\n        \"min\": 3,\n        \"max\": 23,\n        \"num_unique_values\": 5,\n        \"samples\": [\n          13,\n          23,\n          8\n        ],\n        \"semantic_type\": \"\",\n        \"description\": \"\"\n      }\n    },\n    {\n      \"column\": 4,\n      \"properties\": {\n        \"dtype\": \"number\",\n        \"std\": 7,\n        \"min\": 4,\n        \"max\": 24,\n        \"num_unique_values\": 5,\n        \"samples\": [\n          14,\n          24,\n          9\n        ],\n        \"semantic_type\": \"\",\n        \"description\": \"\"\n      }\n    }\n  ]\n}"
            }
          },
          "metadata": {},
          "execution_count": 70
        }
      ]
    },
    {
      "cell_type": "markdown",
      "source": [
        "## Упражнение № 56\n",
        "\n",
        "Переверните строки датафрейма `df` (первая строка становится последней)."
      ],
      "metadata": {
        "id": "ymSO1jI56TyL"
      }
    },
    {
      "cell_type": "code",
      "source": [
        "df = pd.DataFrame(np.arange(25).reshape(5, -1))\n",
        "df = df.iloc[::-1]\n",
        "df"
      ],
      "metadata": {
        "colab": {
          "base_uri": "https://localhost:8080/",
          "height": 206
        },
        "id": "dPjxGD3a6WwS",
        "outputId": "95d2f154-d7a6-4022-a7d6-6561f6c11af4"
      },
      "execution_count": null,
      "outputs": [
        {
          "output_type": "execute_result",
          "data": {
            "text/plain": [
              "    0   1   2   3   4\n",
              "4  20  21  22  23  24\n",
              "3  15  16  17  18  19\n",
              "2  10  11  12  13  14\n",
              "1   5   6   7   8   9\n",
              "0   0   1   2   3   4"
            ],
            "text/html": [
              "\n",
              "  <div id=\"df-ee80248f-7b12-4b9a-ad0a-3f066d79da6b\" class=\"colab-df-container\">\n",
              "    <div>\n",
              "<style scoped>\n",
              "    .dataframe tbody tr th:only-of-type {\n",
              "        vertical-align: middle;\n",
              "    }\n",
              "\n",
              "    .dataframe tbody tr th {\n",
              "        vertical-align: top;\n",
              "    }\n",
              "\n",
              "    .dataframe thead th {\n",
              "        text-align: right;\n",
              "    }\n",
              "</style>\n",
              "<table border=\"1\" class=\"dataframe\">\n",
              "  <thead>\n",
              "    <tr style=\"text-align: right;\">\n",
              "      <th></th>\n",
              "      <th>0</th>\n",
              "      <th>1</th>\n",
              "      <th>2</th>\n",
              "      <th>3</th>\n",
              "      <th>4</th>\n",
              "    </tr>\n",
              "  </thead>\n",
              "  <tbody>\n",
              "    <tr>\n",
              "      <th>4</th>\n",
              "      <td>20</td>\n",
              "      <td>21</td>\n",
              "      <td>22</td>\n",
              "      <td>23</td>\n",
              "      <td>24</td>\n",
              "    </tr>\n",
              "    <tr>\n",
              "      <th>3</th>\n",
              "      <td>15</td>\n",
              "      <td>16</td>\n",
              "      <td>17</td>\n",
              "      <td>18</td>\n",
              "      <td>19</td>\n",
              "    </tr>\n",
              "    <tr>\n",
              "      <th>2</th>\n",
              "      <td>10</td>\n",
              "      <td>11</td>\n",
              "      <td>12</td>\n",
              "      <td>13</td>\n",
              "      <td>14</td>\n",
              "    </tr>\n",
              "    <tr>\n",
              "      <th>1</th>\n",
              "      <td>5</td>\n",
              "      <td>6</td>\n",
              "      <td>7</td>\n",
              "      <td>8</td>\n",
              "      <td>9</td>\n",
              "    </tr>\n",
              "    <tr>\n",
              "      <th>0</th>\n",
              "      <td>0</td>\n",
              "      <td>1</td>\n",
              "      <td>2</td>\n",
              "      <td>3</td>\n",
              "      <td>4</td>\n",
              "    </tr>\n",
              "  </tbody>\n",
              "</table>\n",
              "</div>\n",
              "    <div class=\"colab-df-buttons\">\n",
              "\n",
              "  <div class=\"colab-df-container\">\n",
              "    <button class=\"colab-df-convert\" onclick=\"convertToInteractive('df-ee80248f-7b12-4b9a-ad0a-3f066d79da6b')\"\n",
              "            title=\"Convert this dataframe to an interactive table.\"\n",
              "            style=\"display:none;\">\n",
              "\n",
              "  <svg xmlns=\"http://www.w3.org/2000/svg\" height=\"24px\" viewBox=\"0 -960 960 960\">\n",
              "    <path d=\"M120-120v-720h720v720H120Zm60-500h600v-160H180v160Zm220 220h160v-160H400v160Zm0 220h160v-160H400v160ZM180-400h160v-160H180v160Zm440 0h160v-160H620v160ZM180-180h160v-160H180v160Zm440 0h160v-160H620v160Z\"/>\n",
              "  </svg>\n",
              "    </button>\n",
              "\n",
              "  <style>\n",
              "    .colab-df-container {\n",
              "      display:flex;\n",
              "      gap: 12px;\n",
              "    }\n",
              "\n",
              "    .colab-df-convert {\n",
              "      background-color: #E8F0FE;\n",
              "      border: none;\n",
              "      border-radius: 50%;\n",
              "      cursor: pointer;\n",
              "      display: none;\n",
              "      fill: #1967D2;\n",
              "      height: 32px;\n",
              "      padding: 0 0 0 0;\n",
              "      width: 32px;\n",
              "    }\n",
              "\n",
              "    .colab-df-convert:hover {\n",
              "      background-color: #E2EBFA;\n",
              "      box-shadow: 0px 1px 2px rgba(60, 64, 67, 0.3), 0px 1px 3px 1px rgba(60, 64, 67, 0.15);\n",
              "      fill: #174EA6;\n",
              "    }\n",
              "\n",
              "    .colab-df-buttons div {\n",
              "      margin-bottom: 4px;\n",
              "    }\n",
              "\n",
              "    [theme=dark] .colab-df-convert {\n",
              "      background-color: #3B4455;\n",
              "      fill: #D2E3FC;\n",
              "    }\n",
              "\n",
              "    [theme=dark] .colab-df-convert:hover {\n",
              "      background-color: #434B5C;\n",
              "      box-shadow: 0px 1px 3px 1px rgba(0, 0, 0, 0.15);\n",
              "      filter: drop-shadow(0px 1px 2px rgba(0, 0, 0, 0.3));\n",
              "      fill: #FFFFFF;\n",
              "    }\n",
              "  </style>\n",
              "\n",
              "    <script>\n",
              "      const buttonEl =\n",
              "        document.querySelector('#df-ee80248f-7b12-4b9a-ad0a-3f066d79da6b button.colab-df-convert');\n",
              "      buttonEl.style.display =\n",
              "        google.colab.kernel.accessAllowed ? 'block' : 'none';\n",
              "\n",
              "      async function convertToInteractive(key) {\n",
              "        const element = document.querySelector('#df-ee80248f-7b12-4b9a-ad0a-3f066d79da6b');\n",
              "        const dataTable =\n",
              "          await google.colab.kernel.invokeFunction('convertToInteractive',\n",
              "                                                    [key], {});\n",
              "        if (!dataTable) return;\n",
              "\n",
              "        const docLinkHtml = 'Like what you see? Visit the ' +\n",
              "          '<a target=\"_blank\" href=https://colab.research.google.com/notebooks/data_table.ipynb>data table notebook</a>'\n",
              "          + ' to learn more about interactive tables.';\n",
              "        element.innerHTML = '';\n",
              "        dataTable['output_type'] = 'display_data';\n",
              "        await google.colab.output.renderOutput(dataTable, element);\n",
              "        const docLink = document.createElement('div');\n",
              "        docLink.innerHTML = docLinkHtml;\n",
              "        element.appendChild(docLink);\n",
              "      }\n",
              "    </script>\n",
              "  </div>\n",
              "\n",
              "\n",
              "<div id=\"df-f35d0749-9992-491c-b65b-5033fce8b76a\">\n",
              "  <button class=\"colab-df-quickchart\" onclick=\"quickchart('df-f35d0749-9992-491c-b65b-5033fce8b76a')\"\n",
              "            title=\"Suggest charts\"\n",
              "            style=\"display:none;\">\n",
              "\n",
              "<svg xmlns=\"http://www.w3.org/2000/svg\" height=\"24px\"viewBox=\"0 0 24 24\"\n",
              "     width=\"24px\">\n",
              "    <g>\n",
              "        <path d=\"M19 3H5c-1.1 0-2 .9-2 2v14c0 1.1.9 2 2 2h14c1.1 0 2-.9 2-2V5c0-1.1-.9-2-2-2zM9 17H7v-7h2v7zm4 0h-2V7h2v10zm4 0h-2v-4h2v4z\"/>\n",
              "    </g>\n",
              "</svg>\n",
              "  </button>\n",
              "\n",
              "<style>\n",
              "  .colab-df-quickchart {\n",
              "      --bg-color: #E8F0FE;\n",
              "      --fill-color: #1967D2;\n",
              "      --hover-bg-color: #E2EBFA;\n",
              "      --hover-fill-color: #174EA6;\n",
              "      --disabled-fill-color: #AAA;\n",
              "      --disabled-bg-color: #DDD;\n",
              "  }\n",
              "\n",
              "  [theme=dark] .colab-df-quickchart {\n",
              "      --bg-color: #3B4455;\n",
              "      --fill-color: #D2E3FC;\n",
              "      --hover-bg-color: #434B5C;\n",
              "      --hover-fill-color: #FFFFFF;\n",
              "      --disabled-bg-color: #3B4455;\n",
              "      --disabled-fill-color: #666;\n",
              "  }\n",
              "\n",
              "  .colab-df-quickchart {\n",
              "    background-color: var(--bg-color);\n",
              "    border: none;\n",
              "    border-radius: 50%;\n",
              "    cursor: pointer;\n",
              "    display: none;\n",
              "    fill: var(--fill-color);\n",
              "    height: 32px;\n",
              "    padding: 0;\n",
              "    width: 32px;\n",
              "  }\n",
              "\n",
              "  .colab-df-quickchart:hover {\n",
              "    background-color: var(--hover-bg-color);\n",
              "    box-shadow: 0 1px 2px rgba(60, 64, 67, 0.3), 0 1px 3px 1px rgba(60, 64, 67, 0.15);\n",
              "    fill: var(--button-hover-fill-color);\n",
              "  }\n",
              "\n",
              "  .colab-df-quickchart-complete:disabled,\n",
              "  .colab-df-quickchart-complete:disabled:hover {\n",
              "    background-color: var(--disabled-bg-color);\n",
              "    fill: var(--disabled-fill-color);\n",
              "    box-shadow: none;\n",
              "  }\n",
              "\n",
              "  .colab-df-spinner {\n",
              "    border: 2px solid var(--fill-color);\n",
              "    border-color: transparent;\n",
              "    border-bottom-color: var(--fill-color);\n",
              "    animation:\n",
              "      spin 1s steps(1) infinite;\n",
              "  }\n",
              "\n",
              "  @keyframes spin {\n",
              "    0% {\n",
              "      border-color: transparent;\n",
              "      border-bottom-color: var(--fill-color);\n",
              "      border-left-color: var(--fill-color);\n",
              "    }\n",
              "    20% {\n",
              "      border-color: transparent;\n",
              "      border-left-color: var(--fill-color);\n",
              "      border-top-color: var(--fill-color);\n",
              "    }\n",
              "    30% {\n",
              "      border-color: transparent;\n",
              "      border-left-color: var(--fill-color);\n",
              "      border-top-color: var(--fill-color);\n",
              "      border-right-color: var(--fill-color);\n",
              "    }\n",
              "    40% {\n",
              "      border-color: transparent;\n",
              "      border-right-color: var(--fill-color);\n",
              "      border-top-color: var(--fill-color);\n",
              "    }\n",
              "    60% {\n",
              "      border-color: transparent;\n",
              "      border-right-color: var(--fill-color);\n",
              "    }\n",
              "    80% {\n",
              "      border-color: transparent;\n",
              "      border-right-color: var(--fill-color);\n",
              "      border-bottom-color: var(--fill-color);\n",
              "    }\n",
              "    90% {\n",
              "      border-color: transparent;\n",
              "      border-bottom-color: var(--fill-color);\n",
              "    }\n",
              "  }\n",
              "</style>\n",
              "\n",
              "  <script>\n",
              "    async function quickchart(key) {\n",
              "      const quickchartButtonEl =\n",
              "        document.querySelector('#' + key + ' button');\n",
              "      quickchartButtonEl.disabled = true;  // To prevent multiple clicks.\n",
              "      quickchartButtonEl.classList.add('colab-df-spinner');\n",
              "      try {\n",
              "        const charts = await google.colab.kernel.invokeFunction(\n",
              "            'suggestCharts', [key], {});\n",
              "      } catch (error) {\n",
              "        console.error('Error during call to suggestCharts:', error);\n",
              "      }\n",
              "      quickchartButtonEl.classList.remove('colab-df-spinner');\n",
              "      quickchartButtonEl.classList.add('colab-df-quickchart-complete');\n",
              "    }\n",
              "    (() => {\n",
              "      let quickchartButtonEl =\n",
              "        document.querySelector('#df-f35d0749-9992-491c-b65b-5033fce8b76a button');\n",
              "      quickchartButtonEl.style.display =\n",
              "        google.colab.kernel.accessAllowed ? 'block' : 'none';\n",
              "    })();\n",
              "  </script>\n",
              "</div>\n",
              "    </div>\n",
              "  </div>\n"
            ],
            "application/vnd.google.colaboratory.intrinsic+json": {
              "type": "dataframe",
              "variable_name": "df",
              "summary": "{\n  \"name\": \"df\",\n  \"rows\": 5,\n  \"fields\": [\n    {\n      \"column\": 0,\n      \"properties\": {\n        \"dtype\": \"number\",\n        \"std\": 7,\n        \"min\": 0,\n        \"max\": 20,\n        \"num_unique_values\": 5,\n        \"samples\": [\n          15,\n          0,\n          10\n        ],\n        \"semantic_type\": \"\",\n        \"description\": \"\"\n      }\n    },\n    {\n      \"column\": 1,\n      \"properties\": {\n        \"dtype\": \"number\",\n        \"std\": 7,\n        \"min\": 1,\n        \"max\": 21,\n        \"num_unique_values\": 5,\n        \"samples\": [\n          16,\n          1,\n          11\n        ],\n        \"semantic_type\": \"\",\n        \"description\": \"\"\n      }\n    },\n    {\n      \"column\": 2,\n      \"properties\": {\n        \"dtype\": \"number\",\n        \"std\": 7,\n        \"min\": 2,\n        \"max\": 22,\n        \"num_unique_values\": 5,\n        \"samples\": [\n          17,\n          2,\n          12\n        ],\n        \"semantic_type\": \"\",\n        \"description\": \"\"\n      }\n    },\n    {\n      \"column\": 3,\n      \"properties\": {\n        \"dtype\": \"number\",\n        \"std\": 7,\n        \"min\": 3,\n        \"max\": 23,\n        \"num_unique_values\": 5,\n        \"samples\": [\n          18,\n          3,\n          13\n        ],\n        \"semantic_type\": \"\",\n        \"description\": \"\"\n      }\n    },\n    {\n      \"column\": 4,\n      \"properties\": {\n        \"dtype\": \"number\",\n        \"std\": 7,\n        \"min\": 4,\n        \"max\": 24,\n        \"num_unique_values\": 5,\n        \"samples\": [\n          19,\n          4,\n          14\n        ],\n        \"semantic_type\": \"\",\n        \"description\": \"\"\n      }\n    }\n  ]\n}"
            }
          },
          "metadata": {},
          "execution_count": 71
        }
      ]
    },
    {
      "cell_type": "markdown",
      "source": [],
      "metadata": {
        "id": "LrMZJrHW6d2M"
      }
    },
    {
      "cell_type": "markdown",
      "source": [
        "## Упражнение № 57\n",
        "\n",
        "Получите бинарный код для столбца `'a'` в датафрейме `df` и добавьте его в виде столбцов."
      ],
      "metadata": {
        "id": "37NpFrRb6gvE"
      }
    },
    {
      "cell_type": "code",
      "source": [
        "df = pd.DataFrame(np.arange(25).reshape(5, -1), columns=list('abcde'))\n",
        "binary_df = pd.get_dummies(df['a']).astype(int)\n",
        "result = pd.concat([binary_df, df.drop('a', axis=1)], axis=1)\n",
        "print(result)"
      ],
      "metadata": {
        "colab": {
          "base_uri": "https://localhost:8080/"
        },
        "id": "ozdXpTsZ6jQ_",
        "outputId": "11fd32db-3dd3-4667-d93a-c892c64ad413"
      },
      "execution_count": null,
      "outputs": [
        {
          "output_type": "stream",
          "name": "stdout",
          "text": [
            "   0  5  10  15  20   b   c   d   e\n",
            "0  1  0   0   0   0   1   2   3   4\n",
            "1  0  1   0   0   0   6   7   8   9\n",
            "2  0  0   1   0   0  11  12  13  14\n",
            "3  0  0   0   1   0  16  17  18  19\n",
            "4  0  0   0   0   1  21  22  23  24\n"
          ]
        }
      ]
    },
    {
      "cell_type": "markdown",
      "source": [
        "## Упражнение № 58\n",
        "\n",
        "Получите название столбца с наибольшим количеством строчных максимумов в `df`.\n"
      ],
      "metadata": {
        "id": "UN0Pf7CE6n5k"
      }
    },
    {
      "cell_type": "code",
      "source": [
        "df = pd.DataFrame(np.random.randint(1, 100, 40).reshape(10, -1))\n",
        "max_col = df.eq(df.max(axis=1), axis=0).sum().idxmax()\n",
        "print(max_col)"
      ],
      "metadata": {
        "id": "5YmOkzrk6pXm"
      },
      "execution_count": null,
      "outputs": []
    },
    {
      "cell_type": "markdown",
      "source": [
        "## Упражнение № 59\n",
        "\n",
        "Создать новый столбец, в каждой строке которого будет указан номер строки, ближайшей по евклидову расстоянию к данной строке.\n"
      ],
      "metadata": {
        "id": "NbQIXjNp6rg-"
      }
    },
    {
      "cell_type": "code",
      "source": [
        "from scipy.spatial.distance import cdist\n",
        "\n",
        "df = pd.DataFrame(np.random.randint(1,100, 40).reshape(10, -1),\n",
        "                  columns=list('pqrs'), index=list('abcdefghij'))\n",
        "\n",
        "distanses = cdist(df,df, 'euclidean')\n",
        "np.fill_diagonal(distanses,np.inf)\n",
        "df['nearest_raw'] = df.index[distanses.argmin(axis=1)]\n",
        "df['dist'] = distanses.min(axis=1)\n",
        "print(df)"
      ],
      "metadata": {
        "colab": {
          "base_uri": "https://localhost:8080/"
        },
        "id": "SxMdrfwe6uOc",
        "outputId": "2c380321-1f95-4a4b-d967-26bb0d5e263b"
      },
      "execution_count": null,
      "outputs": [
        {
          "output_type": "stream",
          "name": "stdout",
          "text": [
            "    p   q   r   s nearest_raw    dist\n",
            "a  12  16  10  31           h 17.3494\n",
            "b  64  32  90  44           g 66.1589\n",
            "c  89  42  18  45           j 47.6865\n",
            "d   7  14  22  53           a 25.6320\n",
            "e  26  98  37  28           i 54.0925\n",
            "f  58  72  61  93           g 39.9124\n",
            "g  28  48  55  84           f 39.9124\n",
            "h  24  22  21  31           a 17.3494\n",
            "i  40  58   8  11           h 46.0543\n",
            "j  92  14  34  80           c 47.6865\n"
          ]
        }
      ]
    },
    {
      "cell_type": "markdown",
      "source": [
        "## Упражнение № 60\n",
        "\n",
        "Вычислите максимально возможное абсолютное значение корреляции каждого столбца с другими столбцами в `df`."
      ],
      "metadata": {
        "id": "26ye4SzO6_Xr"
      }
    },
    {
      "cell_type": "code",
      "source": [
        "df = pd.DataFrame(np.random.randint(1, 100, 80).reshape(8, -1), columns=list('pqrstuvwxy'), index=list('abcdefgh'))\n",
        "corr_matrix = df.corr().abs()\n",
        "max_corr = corr_matrix.apply(lambda x: x.nlargest(2).iloc[-1])\n",
        "print(max_corr)"
      ],
      "metadata": {
        "colab": {
          "base_uri": "https://localhost:8080/"
        },
        "id": "n_0Ml7Ng7B49",
        "outputId": "7e81446f-c135-45a4-9e5c-6dd722768b63"
      },
      "execution_count": null,
      "outputs": [
        {
          "output_type": "stream",
          "name": "stdout",
          "text": [
            "p   0.5913\n",
            "q   0.5522\n",
            "r   0.7468\n",
            "s   0.8432\n",
            "t   0.5913\n",
            "u   0.5522\n",
            "v   0.6947\n",
            "w   0.6947\n",
            "x   0.4247\n",
            "y   0.8432\n",
            "dtype: float64\n"
          ]
        }
      ]
    },
    {
      "cell_type": "markdown",
      "source": [
        "## Упражнение № 61\n",
        "\n",
        "Вычислите минимум-максимум для каждой строки `df`."
      ],
      "metadata": {
        "id": "_TaObzQf7JT8"
      }
    },
    {
      "cell_type": "code",
      "source": [
        "df = pd.DataFrame(np.random.randint(1, 100, 80).reshape(8, -1))\n",
        "min_max = df.apply(lambda x: (x.min(), x.max()), axis=1)\n",
        "print(min_max)"
      ],
      "metadata": {
        "colab": {
          "base_uri": "https://localhost:8080/"
        },
        "id": "Z1VGowr77MDZ",
        "outputId": "4c0f141f-b780-4803-eef9-5d836b60b387"
      },
      "execution_count": null,
      "outputs": [
        {
          "output_type": "stream",
          "name": "stdout",
          "text": [
            "0     (2, 88)\n",
            "1     (1, 93)\n",
            "2     (2, 86)\n",
            "3    (11, 90)\n",
            "4     (6, 89)\n",
            "5     (4, 97)\n",
            "6     (8, 87)\n",
            "7     (7, 99)\n",
            "dtype: object\n"
          ]
        }
      ]
    },
    {
      "cell_type": "markdown",
      "source": [
        "## Упражнение № 62\n",
        "\n",
        "Создайте новый столбец `penultimate`, который содержит второе по величине значение каждой строки `df`.\n"
      ],
      "metadata": {
        "id": "I8N5Y0GT7Q4Z"
      }
    },
    {
      "cell_type": "code",
      "source": [
        "df = pd.DataFrame(np.random.randint(1, 100, 80).reshape(8, -1))\n",
        "df['penultimate'] = df.apply(lambda x: x.nlargest(2).iloc[-1], axis=1)\n",
        "print(df)"
      ],
      "metadata": {
        "colab": {
          "base_uri": "https://localhost:8080/"
        },
        "id": "24gxeHi67XwY",
        "outputId": "24fb4c0d-146f-45eb-bb79-dd37cfeb5ca7"
      },
      "execution_count": null,
      "outputs": [
        {
          "output_type": "stream",
          "name": "stdout",
          "text": [
            "    0   1   2   3   4  ...   6   7   8   9  penultimate\n",
            "0  59  98  64  47  21  ...  19  56  25  28           96\n",
            "1  20  85  67  18  47  ...  48  52  30   2           85\n",
            "2  19  64  91  67  22  ...  99  93  22  26           93\n",
            "3  94  79  18  81  97  ...  85   5  80  97           97\n",
            "4  23  63   1  63  63  ...  54  30  97   9           80\n",
            "5  52  45  67  28  31  ...  75  69  60  10           75\n",
            "6  41  73   7  64  95  ...  34  19  44  95           95\n",
            "7  74  37   1  58  36  ...  81  97  87   6           87\n",
            "\n",
            "[8 rows x 11 columns]\n"
          ]
        }
      ]
    },
    {
      "cell_type": "markdown",
      "source": [
        "## Упражнение № 63\n",
        "\n",
        "1. Нормализуйте все столбцы `df`, вычитая среднее значение столбца и деля его на стандартное отклонение.\n",
        "2. Произведите ранжирование всех столбцов `df` таким образом, чтобы минимальное значение в каждом столбце было равно 0, а максимальное — 1.\n",
        "\n",
        "Не используйте внешние пакеты типа `sklearn`.\n"
      ],
      "metadata": {
        "id": "5Uis1xPc7k9i"
      }
    },
    {
      "cell_type": "markdown",
      "source": [],
      "metadata": {
        "id": "hK-ct3uL7oAb"
      }
    },
    {
      "cell_type": "code",
      "source": [
        "\n",
        "df_normalized = (df - df.mean()) / df.std()\n",
        "\n",
        "df_ranked = (df - df.min()) / (df.max() - df.min())\n",
        "\n",
        "print(\"Нормализованный датафрейм:\")\n",
        "print(df_normalized)\n",
        "print(\"\\nРанжированный датафрейм:\")\n",
        "print(df_ranked)"
      ],
      "metadata": {
        "colab": {
          "base_uri": "https://localhost:8080/"
        },
        "id": "hfs_LoJ87xrk",
        "outputId": "a813c380-d1cc-48a5-9fd3-9d180d53b658"
      },
      "execution_count": null,
      "outputs": [
        {
          "output_type": "stream",
          "name": "stdout",
          "text": [
            "Нормализованный датафрейм:\n",
            "        0       1       2       3       4  ...       6       7       8  \\\n",
            "0  0.4117  1.4826  0.6740 -0.2964 -0.9951  ... -1.5551  0.1012 -1.0315   \n",
            "1 -1.0155  0.8402  0.7566 -1.6719 -0.1468  ... -0.5033 -0.0187 -0.8631   \n",
            "2 -1.0521 -0.1977  1.4169  0.6522 -0.9625  ...  1.3466  1.2103 -1.1326   \n",
            "3  1.6924  0.5436 -0.5915  1.3162  1.4845  ...  0.8388 -1.4276  0.8210   \n",
            "4 -0.9057 -0.2471 -1.0592  0.4625  0.3752  ... -0.2856 -0.6782  1.3936   \n",
            "5  0.1555 -1.1367  0.7566 -1.1976 -0.6688  ...  0.4761  0.4909  0.1474   \n",
            "6 -0.2470  0.2471 -0.8941  0.5099  1.4192  ... -1.0110 -1.0080 -0.3916   \n",
            "7  0.9606 -1.5320 -1.0592  0.2253 -0.5057  ...  0.6937  1.3302  1.0568   \n",
            "\n",
            "        9  penultimate  \n",
            "0 -0.1559       0.9252  \n",
            "1 -0.8179      -0.4318  \n",
            "2 -0.2069       0.5551  \n",
            "3  1.6008       1.0485  \n",
            "4 -0.6397      -1.0485  \n",
            "5 -0.6142      -1.6653  \n",
            "6  1.5499       0.8018  \n",
            "7 -0.7161      -0.1850  \n",
            "\n",
            "[8 rows x 11 columns]\n",
            "\n",
            "Ранжированный датафрейм:\n",
            "       0      1      2      3      4  ...      6      7      8      9  \\\n",
            "0 0.5333 1.0000 0.7000 0.4603 0.0000  ... 0.0000 0.5543 0.0400 0.2737   \n",
            "1 0.0133 0.7869 0.7333 0.0000 0.3421  ... 0.3625 0.5109 0.1067 0.0000   \n",
            "2 0.0000 0.4426 1.0000 0.7778 0.0132  ... 1.0000 0.9565 0.0000 0.2526   \n",
            "3 1.0000 0.6885 0.1889 1.0000 1.0000  ... 0.8250 0.0000 0.7733 1.0000   \n",
            "4 0.0533 0.4262 0.0000 0.7143 0.5526  ... 0.4375 0.2717 1.0000 0.0737   \n",
            "5 0.4400 0.1311 0.7333 0.1587 0.1316  ... 0.7000 0.6957 0.5067 0.0842   \n",
            "6 0.2933 0.5902 0.0667 0.7302 0.9737  ... 0.1875 0.1522 0.2933 0.9789   \n",
            "7 0.7333 0.0000 0.0000 0.6349 0.1974  ... 0.7750 1.0000 0.8667 0.0421   \n",
            "\n",
            "   penultimate  \n",
            "0       0.9545  \n",
            "1       0.4545  \n",
            "2       0.8182  \n",
            "3       1.0000  \n",
            "4       0.2273  \n",
            "5       0.0000  \n",
            "6       0.9091  \n",
            "7       0.5455  \n",
            "\n",
            "[8 rows x 11 columns]\n"
          ]
        }
      ]
    },
    {
      "cell_type": "markdown",
      "source": [
        "## Упражнение № 64\n",
        "\n",
        "Вычислите корреляцию каждой строки `df` с последующей строкой."
      ],
      "metadata": {
        "id": "5Ev5_U7M7qCa"
      }
    },
    {
      "cell_type": "code",
      "source": [
        "df = pd.DataFrame(np.random.randint(1,100, 80).reshape(8, -1))\n",
        "\n",
        "df.corrwith(df.shift(-1))"
      ],
      "metadata": {
        "colab": {
          "base_uri": "https://localhost:8080/",
          "height": 397
        },
        "id": "kupeMmgc7_L4",
        "outputId": "5a179300-1e96-46d6-c6ad-f20e4473cc33"
      },
      "execution_count": null,
      "outputs": [
        {
          "output_type": "execute_result",
          "data": {
            "text/plain": [
              "0   -0.3928\n",
              "1   -0.0800\n",
              "2    0.4278\n",
              "3   -0.3467\n",
              "4   -0.8483\n",
              "5    0.0297\n",
              "6   -0.5210\n",
              "7   -0.1314\n",
              "8    0.1817\n",
              "9    0.1237\n",
              "dtype: float64"
            ],
            "text/html": [
              "<div>\n",
              "<style scoped>\n",
              "    .dataframe tbody tr th:only-of-type {\n",
              "        vertical-align: middle;\n",
              "    }\n",
              "\n",
              "    .dataframe tbody tr th {\n",
              "        vertical-align: top;\n",
              "    }\n",
              "\n",
              "    .dataframe thead th {\n",
              "        text-align: right;\n",
              "    }\n",
              "</style>\n",
              "<table border=\"1\" class=\"dataframe\">\n",
              "  <thead>\n",
              "    <tr style=\"text-align: right;\">\n",
              "      <th></th>\n",
              "      <th>0</th>\n",
              "    </tr>\n",
              "  </thead>\n",
              "  <tbody>\n",
              "    <tr>\n",
              "      <th>0</th>\n",
              "      <td>-0.3928</td>\n",
              "    </tr>\n",
              "    <tr>\n",
              "      <th>1</th>\n",
              "      <td>-0.0800</td>\n",
              "    </tr>\n",
              "    <tr>\n",
              "      <th>2</th>\n",
              "      <td>0.4278</td>\n",
              "    </tr>\n",
              "    <tr>\n",
              "      <th>3</th>\n",
              "      <td>-0.3467</td>\n",
              "    </tr>\n",
              "    <tr>\n",
              "      <th>4</th>\n",
              "      <td>-0.8483</td>\n",
              "    </tr>\n",
              "    <tr>\n",
              "      <th>5</th>\n",
              "      <td>0.0297</td>\n",
              "    </tr>\n",
              "    <tr>\n",
              "      <th>6</th>\n",
              "      <td>-0.5210</td>\n",
              "    </tr>\n",
              "    <tr>\n",
              "      <th>7</th>\n",
              "      <td>-0.1314</td>\n",
              "    </tr>\n",
              "    <tr>\n",
              "      <th>8</th>\n",
              "      <td>0.1817</td>\n",
              "    </tr>\n",
              "    <tr>\n",
              "      <th>9</th>\n",
              "      <td>0.1237</td>\n",
              "    </tr>\n",
              "  </tbody>\n",
              "</table>\n",
              "</div><br><label><b>dtype:</b> float64</label>"
            ]
          },
          "metadata": {},
          "execution_count": 90
        }
      ]
    },
    {
      "cell_type": "markdown",
      "source": [
        "## Упражнение № 65\n",
        "\n",
        "Замените все значения в обеих диагоналях `df` на 0."
      ],
      "metadata": {
        "id": "UypDu-OV7su7"
      }
    },
    {
      "cell_type": "code",
      "source": [
        "df = pd.DataFrame(np.random.randint(1,100, 100).reshape(10, -1))\n",
        "\n",
        "np.fill_diagonal(df.to_numpy(),0)\n",
        "np.fill_diagonal(np.fliplr(df.to_numpy()),0)\n",
        "\n",
        "print(df)"
      ],
      "metadata": {
        "colab": {
          "base_uri": "https://localhost:8080/"
        },
        "id": "ARaAjnk28OLN",
        "outputId": "2a27c033-aa2c-40f2-a3be-c6e2de625d75"
      },
      "execution_count": null,
      "outputs": [
        {
          "output_type": "stream",
          "name": "stdout",
          "text": [
            "    0   1   2   3   4   5   6   7   8   9\n",
            "0   0  42  99  91  17   8  70  98  70   0\n",
            "1  83   0  79  73  67  72  26  96   0  95\n",
            "2  26  61   0  82  70  89  11   0  99  25\n",
            "3  25  94  75   0  41   5   0  54  83  22\n",
            "4  60  77  59  94   0   0  12  32  72  45\n",
            "5  17  88  78  97   0   0  65  57  82  74\n",
            "6  43  79  94   0  87  41   0  35  93  39\n",
            "7  29  70   0  91  32  33   7   0  92  92\n",
            "8  96   0  91  74  73  57  34  96   0   6\n",
            "9   0  57   4  49  37  68  73   9  28   0\n"
          ]
        }
      ]
    },
    {
      "cell_type": "markdown",
      "source": [
        "## Упражнение № 66\n",
        "\n",
        "Из `df_grouped` получите в виде датафрейма группу, относящуюся к `apple`."
      ],
      "metadata": {
        "id": "vUoR1skF8hFs"
      }
    },
    {
      "cell_type": "code",
      "source": [
        "df = pd.DataFrame({'col1': ['apple', 'banana', 'orange'] * 3,\n",
        "                   'col2': np.random.rand(9),\n",
        "                   'col3': np.random.randint(0, 15, 9)})\n",
        "df_grouped = df.groupby(['col1'])\n",
        "\n",
        "apple_group = df_grouped.get_group('apple')\n",
        "apple_group"
      ],
      "metadata": {
        "colab": {
          "base_uri": "https://localhost:8080/",
          "height": 199
        },
        "id": "lmT6_yxl8lnI",
        "outputId": "98c5b7f5-5707-4d21-ba7f-901345453189"
      },
      "execution_count": null,
      "outputs": [
        {
          "output_type": "stream",
          "name": "stderr",
          "text": [
            "<ipython-input-88-bb76806d42fc>:6: FutureWarning: When grouping with a length-1 list-like, you will need to pass a length-1 tuple to get_group in a future version of pandas. Pass `(name,)` instead of `name` to silence this warning.\n",
            "  apple_group = df_grouped.get_group('apple')\n"
          ]
        },
        {
          "output_type": "execute_result",
          "data": {
            "text/plain": [
              "    col1   col2  col3\n",
              "0  apple 0.4064     7\n",
              "3  apple 0.5187     8\n",
              "6  apple 0.6877     1"
            ],
            "text/html": [
              "\n",
              "  <div id=\"df-47e2b7be-027c-4f6b-ba75-b2189a89c871\" class=\"colab-df-container\">\n",
              "    <div>\n",
              "<style scoped>\n",
              "    .dataframe tbody tr th:only-of-type {\n",
              "        vertical-align: middle;\n",
              "    }\n",
              "\n",
              "    .dataframe tbody tr th {\n",
              "        vertical-align: top;\n",
              "    }\n",
              "\n",
              "    .dataframe thead th {\n",
              "        text-align: right;\n",
              "    }\n",
              "</style>\n",
              "<table border=\"1\" class=\"dataframe\">\n",
              "  <thead>\n",
              "    <tr style=\"text-align: right;\">\n",
              "      <th></th>\n",
              "      <th>col1</th>\n",
              "      <th>col2</th>\n",
              "      <th>col3</th>\n",
              "    </tr>\n",
              "  </thead>\n",
              "  <tbody>\n",
              "    <tr>\n",
              "      <th>0</th>\n",
              "      <td>apple</td>\n",
              "      <td>0.4064</td>\n",
              "      <td>7</td>\n",
              "    </tr>\n",
              "    <tr>\n",
              "      <th>3</th>\n",
              "      <td>apple</td>\n",
              "      <td>0.5187</td>\n",
              "      <td>8</td>\n",
              "    </tr>\n",
              "    <tr>\n",
              "      <th>6</th>\n",
              "      <td>apple</td>\n",
              "      <td>0.6877</td>\n",
              "      <td>1</td>\n",
              "    </tr>\n",
              "  </tbody>\n",
              "</table>\n",
              "</div>\n",
              "    <div class=\"colab-df-buttons\">\n",
              "\n",
              "  <div class=\"colab-df-container\">\n",
              "    <button class=\"colab-df-convert\" onclick=\"convertToInteractive('df-47e2b7be-027c-4f6b-ba75-b2189a89c871')\"\n",
              "            title=\"Convert this dataframe to an interactive table.\"\n",
              "            style=\"display:none;\">\n",
              "\n",
              "  <svg xmlns=\"http://www.w3.org/2000/svg\" height=\"24px\" viewBox=\"0 -960 960 960\">\n",
              "    <path d=\"M120-120v-720h720v720H120Zm60-500h600v-160H180v160Zm220 220h160v-160H400v160Zm0 220h160v-160H400v160ZM180-400h160v-160H180v160Zm440 0h160v-160H620v160ZM180-180h160v-160H180v160Zm440 0h160v-160H620v160Z\"/>\n",
              "  </svg>\n",
              "    </button>\n",
              "\n",
              "  <style>\n",
              "    .colab-df-container {\n",
              "      display:flex;\n",
              "      gap: 12px;\n",
              "    }\n",
              "\n",
              "    .colab-df-convert {\n",
              "      background-color: #E8F0FE;\n",
              "      border: none;\n",
              "      border-radius: 50%;\n",
              "      cursor: pointer;\n",
              "      display: none;\n",
              "      fill: #1967D2;\n",
              "      height: 32px;\n",
              "      padding: 0 0 0 0;\n",
              "      width: 32px;\n",
              "    }\n",
              "\n",
              "    .colab-df-convert:hover {\n",
              "      background-color: #E2EBFA;\n",
              "      box-shadow: 0px 1px 2px rgba(60, 64, 67, 0.3), 0px 1px 3px 1px rgba(60, 64, 67, 0.15);\n",
              "      fill: #174EA6;\n",
              "    }\n",
              "\n",
              "    .colab-df-buttons div {\n",
              "      margin-bottom: 4px;\n",
              "    }\n",
              "\n",
              "    [theme=dark] .colab-df-convert {\n",
              "      background-color: #3B4455;\n",
              "      fill: #D2E3FC;\n",
              "    }\n",
              "\n",
              "    [theme=dark] .colab-df-convert:hover {\n",
              "      background-color: #434B5C;\n",
              "      box-shadow: 0px 1px 3px 1px rgba(0, 0, 0, 0.15);\n",
              "      filter: drop-shadow(0px 1px 2px rgba(0, 0, 0, 0.3));\n",
              "      fill: #FFFFFF;\n",
              "    }\n",
              "  </style>\n",
              "\n",
              "    <script>\n",
              "      const buttonEl =\n",
              "        document.querySelector('#df-47e2b7be-027c-4f6b-ba75-b2189a89c871 button.colab-df-convert');\n",
              "      buttonEl.style.display =\n",
              "        google.colab.kernel.accessAllowed ? 'block' : 'none';\n",
              "\n",
              "      async function convertToInteractive(key) {\n",
              "        const element = document.querySelector('#df-47e2b7be-027c-4f6b-ba75-b2189a89c871');\n",
              "        const dataTable =\n",
              "          await google.colab.kernel.invokeFunction('convertToInteractive',\n",
              "                                                    [key], {});\n",
              "        if (!dataTable) return;\n",
              "\n",
              "        const docLinkHtml = 'Like what you see? Visit the ' +\n",
              "          '<a target=\"_blank\" href=https://colab.research.google.com/notebooks/data_table.ipynb>data table notebook</a>'\n",
              "          + ' to learn more about interactive tables.';\n",
              "        element.innerHTML = '';\n",
              "        dataTable['output_type'] = 'display_data';\n",
              "        await google.colab.output.renderOutput(dataTable, element);\n",
              "        const docLink = document.createElement('div');\n",
              "        docLink.innerHTML = docLinkHtml;\n",
              "        element.appendChild(docLink);\n",
              "      }\n",
              "    </script>\n",
              "  </div>\n",
              "\n",
              "\n",
              "<div id=\"df-320c6419-d0ea-40ba-b5f9-52262d94e171\">\n",
              "  <button class=\"colab-df-quickchart\" onclick=\"quickchart('df-320c6419-d0ea-40ba-b5f9-52262d94e171')\"\n",
              "            title=\"Suggest charts\"\n",
              "            style=\"display:none;\">\n",
              "\n",
              "<svg xmlns=\"http://www.w3.org/2000/svg\" height=\"24px\"viewBox=\"0 0 24 24\"\n",
              "     width=\"24px\">\n",
              "    <g>\n",
              "        <path d=\"M19 3H5c-1.1 0-2 .9-2 2v14c0 1.1.9 2 2 2h14c1.1 0 2-.9 2-2V5c0-1.1-.9-2-2-2zM9 17H7v-7h2v7zm4 0h-2V7h2v10zm4 0h-2v-4h2v4z\"/>\n",
              "    </g>\n",
              "</svg>\n",
              "  </button>\n",
              "\n",
              "<style>\n",
              "  .colab-df-quickchart {\n",
              "      --bg-color: #E8F0FE;\n",
              "      --fill-color: #1967D2;\n",
              "      --hover-bg-color: #E2EBFA;\n",
              "      --hover-fill-color: #174EA6;\n",
              "      --disabled-fill-color: #AAA;\n",
              "      --disabled-bg-color: #DDD;\n",
              "  }\n",
              "\n",
              "  [theme=dark] .colab-df-quickchart {\n",
              "      --bg-color: #3B4455;\n",
              "      --fill-color: #D2E3FC;\n",
              "      --hover-bg-color: #434B5C;\n",
              "      --hover-fill-color: #FFFFFF;\n",
              "      --disabled-bg-color: #3B4455;\n",
              "      --disabled-fill-color: #666;\n",
              "  }\n",
              "\n",
              "  .colab-df-quickchart {\n",
              "    background-color: var(--bg-color);\n",
              "    border: none;\n",
              "    border-radius: 50%;\n",
              "    cursor: pointer;\n",
              "    display: none;\n",
              "    fill: var(--fill-color);\n",
              "    height: 32px;\n",
              "    padding: 0;\n",
              "    width: 32px;\n",
              "  }\n",
              "\n",
              "  .colab-df-quickchart:hover {\n",
              "    background-color: var(--hover-bg-color);\n",
              "    box-shadow: 0 1px 2px rgba(60, 64, 67, 0.3), 0 1px 3px 1px rgba(60, 64, 67, 0.15);\n",
              "    fill: var(--button-hover-fill-color);\n",
              "  }\n",
              "\n",
              "  .colab-df-quickchart-complete:disabled,\n",
              "  .colab-df-quickchart-complete:disabled:hover {\n",
              "    background-color: var(--disabled-bg-color);\n",
              "    fill: var(--disabled-fill-color);\n",
              "    box-shadow: none;\n",
              "  }\n",
              "\n",
              "  .colab-df-spinner {\n",
              "    border: 2px solid var(--fill-color);\n",
              "    border-color: transparent;\n",
              "    border-bottom-color: var(--fill-color);\n",
              "    animation:\n",
              "      spin 1s steps(1) infinite;\n",
              "  }\n",
              "\n",
              "  @keyframes spin {\n",
              "    0% {\n",
              "      border-color: transparent;\n",
              "      border-bottom-color: var(--fill-color);\n",
              "      border-left-color: var(--fill-color);\n",
              "    }\n",
              "    20% {\n",
              "      border-color: transparent;\n",
              "      border-left-color: var(--fill-color);\n",
              "      border-top-color: var(--fill-color);\n",
              "    }\n",
              "    30% {\n",
              "      border-color: transparent;\n",
              "      border-left-color: var(--fill-color);\n",
              "      border-top-color: var(--fill-color);\n",
              "      border-right-color: var(--fill-color);\n",
              "    }\n",
              "    40% {\n",
              "      border-color: transparent;\n",
              "      border-right-color: var(--fill-color);\n",
              "      border-top-color: var(--fill-color);\n",
              "    }\n",
              "    60% {\n",
              "      border-color: transparent;\n",
              "      border-right-color: var(--fill-color);\n",
              "    }\n",
              "    80% {\n",
              "      border-color: transparent;\n",
              "      border-right-color: var(--fill-color);\n",
              "      border-bottom-color: var(--fill-color);\n",
              "    }\n",
              "    90% {\n",
              "      border-color: transparent;\n",
              "      border-bottom-color: var(--fill-color);\n",
              "    }\n",
              "  }\n",
              "</style>\n",
              "\n",
              "  <script>\n",
              "    async function quickchart(key) {\n",
              "      const quickchartButtonEl =\n",
              "        document.querySelector('#' + key + ' button');\n",
              "      quickchartButtonEl.disabled = true;  // To prevent multiple clicks.\n",
              "      quickchartButtonEl.classList.add('colab-df-spinner');\n",
              "      try {\n",
              "        const charts = await google.colab.kernel.invokeFunction(\n",
              "            'suggestCharts', [key], {});\n",
              "      } catch (error) {\n",
              "        console.error('Error during call to suggestCharts:', error);\n",
              "      }\n",
              "      quickchartButtonEl.classList.remove('colab-df-spinner');\n",
              "      quickchartButtonEl.classList.add('colab-df-quickchart-complete');\n",
              "    }\n",
              "    (() => {\n",
              "      let quickchartButtonEl =\n",
              "        document.querySelector('#df-320c6419-d0ea-40ba-b5f9-52262d94e171 button');\n",
              "      quickchartButtonEl.style.display =\n",
              "        google.colab.kernel.accessAllowed ? 'block' : 'none';\n",
              "    })();\n",
              "  </script>\n",
              "</div>\n",
              "    </div>\n",
              "  </div>\n"
            ],
            "application/vnd.google.colaboratory.intrinsic+json": {
              "type": "dataframe",
              "variable_name": "apple_group",
              "summary": "{\n  \"name\": \"apple_group\",\n  \"rows\": 3,\n  \"fields\": [\n    {\n      \"column\": \"col1\",\n      \"properties\": {\n        \"dtype\": \"category\",\n        \"num_unique_values\": 1,\n        \"samples\": [\n          \"apple\"\n        ],\n        \"semantic_type\": \"\",\n        \"description\": \"\"\n      }\n    },\n    {\n      \"column\": \"col2\",\n      \"properties\": {\n        \"dtype\": \"number\",\n        \"std\": 0.1415832046229749,\n        \"min\": 0.4064438274431744,\n        \"max\": 0.6877089746367787,\n        \"num_unique_values\": 3,\n        \"samples\": [\n          0.4064438274431744\n        ],\n        \"semantic_type\": \"\",\n        \"description\": \"\"\n      }\n    },\n    {\n      \"column\": \"col3\",\n      \"properties\": {\n        \"dtype\": \"number\",\n        \"std\": 3,\n        \"min\": 1,\n        \"max\": 8,\n        \"num_unique_values\": 3,\n        \"samples\": [\n          7\n        ],\n        \"semantic_type\": \"\",\n        \"description\": \"\"\n      }\n    }\n  ]\n}"
            }
          },
          "metadata": {},
          "execution_count": 88
        }
      ]
    },
    {
      "cell_type": "markdown",
      "source": [
        "## Упражнение № 67\n",
        "\n",
        "В `df` найдите второе по величине значение `taste` для `banana`."
      ],
      "metadata": {
        "id": "Pv8Z1eeo-AR7"
      }
    },
    {
      "cell_type": "code",
      "source": [
        "df = pd.DataFrame({'fruit': ['apple', 'banana', 'orange'] * 3,\n",
        "                   'rating': np.random.rand(9),\n",
        "                   'price': np.random.randint(0, 15, 9)})\n",
        "banana_taste = df[df['fruit'] == 'banana']['rating'].nlargest(2).iloc[-1]\n",
        "print(\"Второе по величине значение 'taste' для 'banana':\")\n",
        "print(banana_taste)"
      ],
      "metadata": {
        "colab": {
          "base_uri": "https://localhost:8080/"
        },
        "id": "vd9ISKP3-OhI",
        "outputId": "482db6c6-413a-40a4-989d-2998e59c0a0f"
      },
      "execution_count": null,
      "outputs": [
        {
          "output_type": "stream",
          "name": "stdout",
          "text": [
            "Второе по величине значение 'taste' для 'banana':\n",
            "0.6236999557208588\n"
          ]
        }
      ]
    },
    {
      "cell_type": "markdown",
      "source": [
        "## Упражнение № 68\n",
        "\n",
        "В `df` вычислите среднюю цену `Price` каждого фрукта `Fruit`, сохраняя фрукт как еще один столбец вместо индекса.\n"
      ],
      "metadata": {
        "id": "L6s5OAks-VHM"
      }
    },
    {
      "cell_type": "code",
      "source": [
        "df = pd.DataFrame({'fruit': ['apple', 'banana', 'orange'] * 3,\n",
        "                   'rating': np.random.rand(9),\n",
        "                   'price': np.random.randint(0, 15, 9)})\n",
        "avg_price = df.groupby('fruit', as_index=False)['price'].mean()\n",
        "print(\"Средняя цена для каждого фрукта:\")\n",
        "print(avg_price)"
      ],
      "metadata": {
        "colab": {
          "base_uri": "https://localhost:8080/"
        },
        "id": "imToITNl-cpE",
        "outputId": "e8483bff-64a4-4963-9ee5-123a2405043e"
      },
      "execution_count": null,
      "outputs": [
        {
          "output_type": "stream",
          "name": "stdout",
          "text": [
            "Средняя цена для каждого фрукта:\n",
            "    fruit  price\n",
            "0   apple 4.3333\n",
            "1  banana 7.3333\n",
            "2  orange 9.3333\n"
          ]
        }
      ]
    },
    {
      "cell_type": "markdown",
      "source": [
        "## Упражнение № 69\n",
        "\n",
        "Объединить датафреймы `df1` и `df2` по признакам `fruit-pazham` и `weight-kilo`."
      ],
      "metadata": {
        "id": "eol1Q5ae-gW2"
      }
    },
    {
      "cell_type": "code",
      "source": [
        "df1 = pd.DataFrame({'fruit': ['apple', 'banana', 'orange'] * 3,\n",
        "                    'weight': ['high', 'medium', 'low'] * 3,\n",
        "                    'price': np.random.randint(0, 15, 9)})\n",
        "\n",
        "df2 = pd.DataFrame({'pazham': ['apple', 'orange', 'pine'] * 2,\n",
        "                    'kilo': ['high', 'low'] * 3,\n",
        "                    'price': np.random.randint(0, 15, 6)})\n",
        "\n",
        "merged_df = pd.merge(df1, df2, left_on=['fruit', 'weight'], right_on=['pazham', 'kilo'])\n",
        "print(\"Объединенный датафрейм:\")\n",
        "print(merged_df)"
      ],
      "metadata": {
        "colab": {
          "base_uri": "https://localhost:8080/"
        },
        "id": "OXoZwpcc-jXA",
        "outputId": "be4e1d30-5741-4286-c089-6b960788886a"
      },
      "execution_count": null,
      "outputs": [
        {
          "output_type": "stream",
          "name": "stdout",
          "text": [
            "Объединенный датафрейм:\n",
            "    fruit weight  price_x  pazham  kilo  price_y\n",
            "0   apple   high        0   apple  high        2\n",
            "1  orange    low        6  orange   low       12\n",
            "2   apple   high       10   apple  high        2\n",
            "3  orange    low       14  orange   low       12\n",
            "4   apple   high       11   apple  high        2\n",
            "5  orange    low        5  orange   low       12\n"
          ]
        }
      ]
    },
    {
      "cell_type": "markdown",
      "source": [
        "## Упражнение № 70\n",
        "\n",
        "Создайте в `df` два новых столбца, один из них — `lag1` (сдвиг столбца `a` вниз на 1 строку) столбца 'a', а другой — `lead1` (сдвиг столбца `b` вверх на 1 строку).\n"
      ],
      "metadata": {
        "id": "KYrXfKvJ-nVX"
      }
    },
    {
      "cell_type": "code",
      "source": [
        "df = pd.DataFrame(np.random.randint(1, 100, 20).reshape(-1, 4), columns=list('abcd'))\n",
        "df['a_lag1'] = df['a'].shift(1)\n",
        "df['b_lead1'] = df['b'].shift(-1)\n",
        "print(\"Датафрейм с новыми столбцами:\")\n",
        "print(df)"
      ],
      "metadata": {
        "colab": {
          "base_uri": "https://localhost:8080/"
        },
        "id": "IDrrecPy-py4",
        "outputId": "61d076f5-d464-4bdb-9668-bfec9f33c9b8"
      },
      "execution_count": null,
      "outputs": [
        {
          "output_type": "stream",
          "name": "stdout",
          "text": [
            "Датафрейм с новыми столбцами:\n",
            "    a   b   c   d  a_lag1  b_lead1\n",
            "0  54  64  72  65     NaN  26.0000\n",
            "1  78  26  56  81 54.0000  27.0000\n",
            "2  36  27  62   8 78.0000  14.0000\n",
            "3  55  14   8  87 36.0000  30.0000\n",
            "4  94  30  14  77 55.0000      NaN\n"
          ]
        }
      ]
    },
    {
      "cell_type": "markdown",
      "source": [
        "## Упражнение № 71\n",
        "\n",
        "Получите частоты уникальных значений по всему датафрейму `df`.\n"
      ],
      "metadata": {
        "id": "sjkipdP9-vuv"
      }
    },
    {
      "cell_type": "code",
      "source": [
        "df = pd.DataFrame(np.random.randint(1, 10, 20).reshape(-1, 4), columns=list('abcd'))\n",
        "value_counts = df.stack().value_counts()\n",
        "print(\"Частоты уникальных значений:\")\n",
        "print(value_counts)"
      ],
      "metadata": {
        "colab": {
          "base_uri": "https://localhost:8080/"
        },
        "id": "1c5XwwU5-yEV",
        "outputId": "5b89cfab-70a8-4f20-9746-a41626130d06"
      },
      "execution_count": null,
      "outputs": [
        {
          "output_type": "stream",
          "name": "stdout",
          "text": [
            "Частоты уникальных значений:\n",
            "9    4\n",
            "3    4\n",
            "7    3\n",
            "6    2\n",
            "5    2\n",
            "8    2\n",
            "1    1\n",
            "4    1\n",
            "2    1\n",
            "Name: count, dtype: int64\n"
          ]
        }
      ]
    },
    {
      "cell_type": "markdown",
      "source": [
        "## Упражнение № 72\n",
        "\n",
        "Разделите столбец `row` в `df` так, чтобы сформировать датафрейм с 3 столбцами, как показано в примере выходных данных.\n"
      ],
      "metadata": {
        "id": "NdautwyX-1wQ"
      }
    },
    {
      "cell_type": "code",
      "source": [
        "df = pd.DataFrame([\"STD, City\\tState\",\n",
        "                    \"33, Kolkata\\tWest Bengal\",\n",
        "                    \"44, Chennai\\tTamil Nadu\",\n",
        "                    \"40, Hyderabad\\tTelengana\",\n",
        "                    \"80, Bangalore\\tKarnataka\"], columns=['row'])\n",
        "\n",
        "df_split = df.row.str.split(', |\\t', expand=True)\n",
        "df_columns = df_split.iloc[0]\n",
        "df_split = df_split[1:]\n",
        "df_split.columns = df_columns\n",
        "\n",
        "print(df_split)"
      ],
      "metadata": {
        "colab": {
          "base_uri": "https://localhost:8080/"
        },
        "id": "08xSkV5P-22b",
        "outputId": "a7a14f69-cf67-42cd-9a5b-e7a8dcb4b763"
      },
      "execution_count": null,
      "outputs": [
        {
          "output_type": "stream",
          "name": "stdout",
          "text": [
            "0 STD       City        State\n",
            "1  33    Kolkata  West Bengal\n",
            "2  44    Chennai   Tamil Nadu\n",
            "3  40  Hyderabad    Telengana\n",
            "4  80  Bangalore    Karnataka\n"
          ]
        }
      ]
    }
  ]
}